{
 "cells": [
  {
   "cell_type": "markdown",
   "metadata": {},
   "source": [
    "<a href=\"https://www.skills.network/?utm_medium=Exinfluencer&utm_source=Exinfluencer&utm_content=000026UJ&utm_term=10006555&utm_id=NA-SkillsNetwork-Channel-SkillsNetworkCoursesIBMDeveloperSkillsNetworkDL0120ENSkillsNetwork20629446-2021-01-01\"><img src=\"https://cf-courses-data.s3.us.cloud-object-storage.appdomain.cloud/IBM-DL0120ENedX/labs/Template%20for%20Instructional%20Hands-on%20Labs/images/IDSNlogo.png\" width=\"400px\" align=\"center\"></a>\n",
    "\n",
    "<h1 align=\"center\"><font size=\"5\">RESTRICTED BOLTZMANN MACHINES</font></h1>\n"
   ]
  },
  {
   "cell_type": "markdown",
   "metadata": {},
   "source": [
    "<h3>Introduction</h3>\n",
    "<b>Restricted Boltzmann Machine (RBM):</b>  RBMs are shallow neural nets that learn to reconstruct data by themselves in an unsupervised fashion.  \n",
    "\n",
    "<h4>Why are RBMs important?</h4>\n",
    "An RBM are a basic form of autoencoder.  It can automatically extract <b>meaningful</b> features from a given input.\n",
    "\n",
    "<h4>How does it work?</h4>\n",
    "RBM is a 2 layer neural network. Simply, RBM takes the inputs and translates those into a set of binary values that represents them in the hidden layer. Then, these numbers can be translated back to reconstruct the inputs. Through several forward and backward passes, the RBM will be trained, and a trained RBM can reveal which features are the most important ones when detecting patterns.   \n",
    "\n",
    "<h4>What are the applications of an RBM?</h4>\n",
    "RBM is useful for <a href='http://www.cs.utoronto.ca/~hinton/absps/netflixICML.pdf?utm_medium=Exinfluencer&utm_source=Exinfluencer&utm_content=000026UJ&utm_term=10006555&utm_id=NA-SkillsNetwork-Channel-SkillsNetworkCoursesIBMDeveloperSkillsNetworkDL0120ENSkillsNetwork20629446-2021-01-01'>  Collaborative Filtering</a>, dimensionality reduction, classification, regression, feature learning, topic modeling and even <b>Deep Belief Networks</b>.\n",
    "\n",
    "<h4>Is RBM a generative or Discriminative model?</h4>\n",
    "RBM is a generative model. Let me explain it by first, see what is different between discriminative and generative models: \n",
    "\n",
    "<b>Discriminative:</b> Consider a classification problem where we want to learn to distinguish between Sedan cars (y = 1) and SUV cars (y = 0), based on some features of cars. Given a training set, an algorithm like logistic regression tries to find a straight line, or <i>decision boundary</i>, that separates the suv and sedan.\n",
    "\n",
    "<b>Generative:</b> looking at cars, we can build a model of what Sedan cars look like. Then, looking at SUVs, we can build a separate model of what SUV cars look like. Finally, to classify a new car, we can match the new car against the Sedan model, and match it against the SUV model, to see whether the new car looks more like the SUV or Sedan.\n",
    "\n",
    "Generative Models specify a probability distribution over a dataset of input vectors. We can carry out both supervised and unsupervised tasks with generative models:\n",
    "\n",
    "<ul>\n",
    "    <li>In an unsupervised task, we try to form a model for $P(x)$, where $P$ is the probability given $x$ as an input vector.</li>\n",
    "    <li>In the supervised task, we first form a model for $P(x|y)$, where $P$ is the probability of $x$ given $y$(the label for $x$). For example, if $y = 0$ indicates that a car is an SUV, and $y = 1$ indicates that a car is a sedan, then $p(x|y = 0)$ models the distribution of SUV features, and $p(x|y = 1)$ models the distribution of sedan features. If we manage to find $P(x|y)$ and $P(y)$, then we can use <b>Bayes rule</b> to estimate $P(y|x)$, because:   \n",
    "        $$p(y|x) = \\frac{p(x|y)p(y)}{p(x)}$$</li>\n",
    "</ul>\n",
    "Now the question is, can we build a generative model, and then use it to create synthetic data by directly sampling from the modeled probability distributions? Lets see. \n"
   ]
  },
  {
   "cell_type": "markdown",
   "metadata": {},
   "source": [
    "<h2>Table of Contents</h2>\n",
    "<ol>\n",
    "    <li><a href=\"https://#ref1\">Initialization</a></li>\n",
    "    <li><a href=\"https://#ref2\">RBM layers</a></li>\n",
    "    <li><a href=\"https://#ref3\">What RBM can do after training?</a></li>\n",
    "    <li><a href=\"https://#ref4\">How to train the model?</a></li>\n",
    "    <li><a href=\"https://#ref5\">Learned features</a></li>\n",
    "</ol>\n",
    "<p></p>\n",
    "</div>\n",
    "<br>\n",
    "\n",
    "<hr>\n"
   ]
  },
  {
   "cell_type": "markdown",
   "metadata": {},
   "source": [
    "<a id=\"ref1\"></a>\n",
    "\n",
    "<h3>Initialization</h3>\n",
    "\n",
    "First, we have to load the utility file which contains different utility functions that are not connected\n",
    "in any way to the networks presented in the tutorials, but rather help in\n",
    "processing the outputs into a more understandable way.\n"
   ]
  },
  {
   "cell_type": "code",
   "execution_count": 1,
   "metadata": {},
   "outputs": [],
   "source": [
    "import urllib.request\n",
    "with urllib.request.urlopen(\"https://cf-courses-data.s3.us.cloud-object-storage.appdomain.cloud/IBMDeveloperSkillsNetwork-DL0120EN-SkillsNetwork/labs/Week4/data/utils.py\") as url:\n",
    "    response = url.read()\n",
    "target = open('utils.py', 'w')\n",
    "target.write(response.decode('utf-8'))\n",
    "target.close()"
   ]
  },
  {
   "cell_type": "markdown",
   "metadata": {},
   "source": [
    "<h2>Installing TensorFlow </h2>\n",
    "\n",
    "We will installing TensorFlow version 2.2.0 and its required prerequistes.  Also installing pillow\\...\n"
   ]
  },
  {
   "cell_type": "code",
   "execution_count": 2,
   "metadata": {},
   "outputs": [
    {
     "name": "stdout",
     "output_type": "stream",
     "text": [
      "Collecting grpcio==1.24.3\n",
      "  Downloading grpcio-1.24.3-cp37-cp37m-manylinux2010_x86_64.whl (2.2 MB)\n",
      "\u001b[K     |████████████████████████████████| 2.2 MB 22.2 MB/s eta 0:00:01\n",
      "\u001b[?25hRequirement already satisfied: six>=1.5.2 in /home/jupyterlab/conda/envs/python/lib/python3.7/site-packages (from grpcio==1.24.3) (1.16.0)\n",
      "Installing collected packages: grpcio\n",
      "  Attempting uninstall: grpcio\n",
      "    Found existing installation: grpcio 1.38.1\n",
      "    Uninstalling grpcio-1.38.1:\n",
      "      Successfully uninstalled grpcio-1.38.1\n",
      "Successfully installed grpcio-1.24.3\n",
      "Collecting tensorflow==2.2.0\n",
      "  Downloading tensorflow-2.2.0-cp37-cp37m-manylinux2010_x86_64.whl (516.2 MB)\n",
      "\u001b[K     |████████████████████████████████| 516.2 MB 1.2 kB/s  eta 0:00:012�███▍                        | 118.9 MB 74.7 MB/s eta 0:00:06MB 72.5 MB/s eta 0:00:06████████████████▋           | 332.9 MB 107.5 MB/s eta 0:00:02��███     | 435.1 MB 75.6 MB/s eta 0:00:02     |████████████████████████████▏   | 454.3 MB 75.6 MB/s eta 0:00:01\n",
      "\u001b[?25hRequirement already satisfied: astunparse==1.6.3 in /home/jupyterlab/conda/envs/python/lib/python3.7/site-packages (from tensorflow==2.2.0) (1.6.3)\n",
      "Requirement already satisfied: h5py<2.11.0,>=2.10.0 in /home/jupyterlab/conda/envs/python/lib/python3.7/site-packages (from tensorflow==2.2.0) (2.10.0)\n",
      "Requirement already satisfied: absl-py>=0.7.0 in /home/jupyterlab/conda/envs/python/lib/python3.7/site-packages (from tensorflow==2.2.0) (0.14.0)\n",
      "Requirement already satisfied: protobuf>=3.8.0 in /home/jupyterlab/conda/envs/python/lib/python3.7/site-packages (from tensorflow==2.2.0) (3.18.0)\n",
      "Requirement already satisfied: keras-preprocessing>=1.1.0 in /home/jupyterlab/conda/envs/python/lib/python3.7/site-packages (from tensorflow==2.2.0) (1.1.2)\n",
      "Requirement already satisfied: grpcio>=1.8.6 in /home/jupyterlab/conda/envs/python/lib/python3.7/site-packages (from tensorflow==2.2.0) (1.24.3)\n",
      "Requirement already satisfied: numpy<2.0,>=1.16.0 in /home/jupyterlab/conda/envs/python/lib/python3.7/site-packages (from tensorflow==2.2.0) (1.21.2)\n",
      "Requirement already satisfied: opt-einsum>=2.3.2 in /home/jupyterlab/conda/envs/python/lib/python3.7/site-packages (from tensorflow==2.2.0) (3.3.0)\n",
      "Requirement already satisfied: scipy==1.4.1 in /home/jupyterlab/conda/envs/python/lib/python3.7/site-packages (from tensorflow==2.2.0) (1.4.1)\n",
      "Requirement already satisfied: google-pasta>=0.1.8 in /home/jupyterlab/conda/envs/python/lib/python3.7/site-packages (from tensorflow==2.2.0) (0.2.0)\n",
      "Requirement already satisfied: gast==0.3.3 in /home/jupyterlab/conda/envs/python/lib/python3.7/site-packages (from tensorflow==2.2.0) (0.3.3)\n",
      "Collecting tensorboard<2.3.0,>=2.2.0\n",
      "  Downloading tensorboard-2.2.2-py3-none-any.whl (3.0 MB)\n",
      "\u001b[K     |████████████████████████████████| 3.0 MB 46.7 MB/s eta 0:00:01\n",
      "\u001b[?25hRequirement already satisfied: wheel>=0.26 in /home/jupyterlab/conda/envs/python/lib/python3.7/site-packages (from tensorflow==2.2.0) (0.37.0)\n",
      "Collecting tensorflow-estimator<2.3.0,>=2.2.0\n",
      "  Downloading tensorflow_estimator-2.2.0-py2.py3-none-any.whl (454 kB)\n",
      "\u001b[K     |████████████████████████████████| 454 kB 54.3 MB/s eta 0:00:01\n",
      "\u001b[?25hRequirement already satisfied: wrapt>=1.11.1 in /home/jupyterlab/conda/envs/python/lib/python3.7/site-packages (from tensorflow==2.2.0) (1.12.1)\n",
      "Requirement already satisfied: six>=1.12.0 in /home/jupyterlab/conda/envs/python/lib/python3.7/site-packages (from tensorflow==2.2.0) (1.16.0)\n",
      "Requirement already satisfied: termcolor>=1.1.0 in /home/jupyterlab/conda/envs/python/lib/python3.7/site-packages (from tensorflow==2.2.0) (1.1.0)\n",
      "Collecting tensorboard-plugin-wit>=1.6.0\n",
      "  Downloading tensorboard_plugin_wit-1.8.0-py3-none-any.whl (781 kB)\n",
      "\u001b[K     |████████████████████████████████| 781 kB 52.8 MB/s eta 0:00:01\n",
      "\u001b[?25hRequirement already satisfied: google-auth-oauthlib<0.5,>=0.4.1 in /home/jupyterlab/conda/envs/python/lib/python3.7/site-packages (from tensorboard<2.3.0,>=2.2.0->tensorflow==2.2.0) (0.4.6)\n",
      "Requirement already satisfied: google-auth<2,>=1.6.3 in /home/jupyterlab/conda/envs/python/lib/python3.7/site-packages (from tensorboard<2.3.0,>=2.2.0->tensorflow==2.2.0) (1.35.0)\n",
      "Requirement already satisfied: markdown>=2.6.8 in /home/jupyterlab/conda/envs/python/lib/python3.7/site-packages (from tensorboard<2.3.0,>=2.2.0->tensorflow==2.2.0) (3.3.4)\n",
      "Requirement already satisfied: werkzeug>=0.11.15 in /home/jupyterlab/conda/envs/python/lib/python3.7/site-packages (from tensorboard<2.3.0,>=2.2.0->tensorflow==2.2.0) (2.0.1)\n",
      "Requirement already satisfied: setuptools>=41.0.0 in /home/jupyterlab/conda/envs/python/lib/python3.7/site-packages (from tensorboard<2.3.0,>=2.2.0->tensorflow==2.2.0) (58.0.4)\n",
      "Requirement already satisfied: requests<3,>=2.21.0 in /home/jupyterlab/conda/envs/python/lib/python3.7/site-packages (from tensorboard<2.3.0,>=2.2.0->tensorflow==2.2.0) (2.26.0)\n",
      "Requirement already satisfied: rsa<5,>=3.1.4 in /home/jupyterlab/conda/envs/python/lib/python3.7/site-packages (from google-auth<2,>=1.6.3->tensorboard<2.3.0,>=2.2.0->tensorflow==2.2.0) (4.7.2)\n",
      "Requirement already satisfied: cachetools<5.0,>=2.0.0 in /home/jupyterlab/conda/envs/python/lib/python3.7/site-packages (from google-auth<2,>=1.6.3->tensorboard<2.3.0,>=2.2.0->tensorflow==2.2.0) (4.2.4)\n",
      "Requirement already satisfied: pyasn1-modules>=0.2.1 in /home/jupyterlab/conda/envs/python/lib/python3.7/site-packages (from google-auth<2,>=1.6.3->tensorboard<2.3.0,>=2.2.0->tensorflow==2.2.0) (0.2.8)\n",
      "Requirement already satisfied: requests-oauthlib>=0.7.0 in /home/jupyterlab/conda/envs/python/lib/python3.7/site-packages (from google-auth-oauthlib<0.5,>=0.4.1->tensorboard<2.3.0,>=2.2.0->tensorflow==2.2.0) (1.3.0)\n",
      "Requirement already satisfied: importlib-metadata in /home/jupyterlab/conda/envs/python/lib/python3.7/site-packages (from markdown>=2.6.8->tensorboard<2.3.0,>=2.2.0->tensorflow==2.2.0) (4.8.1)\n",
      "Requirement already satisfied: pyasn1<0.5.0,>=0.4.6 in /home/jupyterlab/conda/envs/python/lib/python3.7/site-packages (from pyasn1-modules>=0.2.1->google-auth<2,>=1.6.3->tensorboard<2.3.0,>=2.2.0->tensorflow==2.2.0) (0.4.8)\n",
      "Requirement already satisfied: certifi>=2017.4.17 in /home/jupyterlab/conda/envs/python/lib/python3.7/site-packages (from requests<3,>=2.21.0->tensorboard<2.3.0,>=2.2.0->tensorflow==2.2.0) (2021.5.30)\n",
      "Requirement already satisfied: urllib3<1.27,>=1.21.1 in /home/jupyterlab/conda/envs/python/lib/python3.7/site-packages (from requests<3,>=2.21.0->tensorboard<2.3.0,>=2.2.0->tensorflow==2.2.0) (1.26.7)\n",
      "Requirement already satisfied: idna<4,>=2.5 in /home/jupyterlab/conda/envs/python/lib/python3.7/site-packages (from requests<3,>=2.21.0->tensorboard<2.3.0,>=2.2.0->tensorflow==2.2.0) (3.1)\n",
      "Requirement already satisfied: charset-normalizer~=2.0.0 in /home/jupyterlab/conda/envs/python/lib/python3.7/site-packages (from requests<3,>=2.21.0->tensorboard<2.3.0,>=2.2.0->tensorflow==2.2.0) (2.0.0)\n",
      "Requirement already satisfied: oauthlib>=3.0.0 in /home/jupyterlab/conda/envs/python/lib/python3.7/site-packages (from requests-oauthlib>=0.7.0->google-auth-oauthlib<0.5,>=0.4.1->tensorboard<2.3.0,>=2.2.0->tensorflow==2.2.0) (3.1.1)\n",
      "Requirement already satisfied: typing-extensions>=3.6.4 in /home/jupyterlab/conda/envs/python/lib/python3.7/site-packages (from importlib-metadata->markdown>=2.6.8->tensorboard<2.3.0,>=2.2.0->tensorflow==2.2.0) (3.10.0.2)\n",
      "Requirement already satisfied: zipp>=0.5 in /home/jupyterlab/conda/envs/python/lib/python3.7/site-packages (from importlib-metadata->markdown>=2.6.8->tensorboard<2.3.0,>=2.2.0->tensorflow==2.2.0) (3.5.0)\n",
      "Installing collected packages: tensorboard-plugin-wit, tensorflow-estimator, tensorboard, tensorflow\n",
      "  Attempting uninstall: tensorflow-estimator\n",
      "    Found existing installation: tensorflow-estimator 2.1.0\n",
      "    Uninstalling tensorflow-estimator-2.1.0:\n",
      "      Successfully uninstalled tensorflow-estimator-2.1.0\n",
      "  Attempting uninstall: tensorboard\n",
      "    Found existing installation: tensorboard 2.1.1\n",
      "    Uninstalling tensorboard-2.1.1:\n",
      "      Successfully uninstalled tensorboard-2.1.1\n",
      "  Attempting uninstall: tensorflow\n",
      "    Found existing installation: tensorflow 2.2.0rc0\n",
      "    Uninstalling tensorflow-2.2.0rc0:\n",
      "      Successfully uninstalled tensorflow-2.2.0rc0\n",
      "Successfully installed tensorboard-2.2.2 tensorboard-plugin-wit-1.8.0 tensorflow-2.2.0 tensorflow-estimator-2.2.0\n",
      "Requirement already satisfied: pillow in /home/jupyterlab/conda/envs/python/lib/python3.7/site-packages (8.1.0)\n"
     ]
    }
   ],
   "source": [
    "!pip install grpcio==1.24.3\n",
    "!pip install tensorflow==2.2.0\n",
    "!pip install pillow"
   ]
  },
  {
   "cell_type": "markdown",
   "metadata": {},
   "source": [
    "<b>Notice:</b> This notebook has been created with TensorFlow version 2.2, and might not work with other versions. Therefore we check:\n"
   ]
  },
  {
   "cell_type": "code",
   "execution_count": 3,
   "metadata": {},
   "outputs": [],
   "source": [
    "import tensorflow as tf\n",
    "from IPython.display import Markdown, display\n",
    "\n",
    "def printmd(string):\n",
    "    display(Markdown('# <span style=\"color:red\">'+string+'</span>'))\n",
    "\n",
    "\n",
    "if not tf.__version__ == '2.2.0':\n",
    "    printmd('<<<<<!!!!! ERROR !!!! please upgrade to TensorFlow 2.2.0, or restart your Kernel (Kernel->Restart & Clear Output)>>>>>')"
   ]
  },
  {
   "cell_type": "markdown",
   "metadata": {},
   "source": [
    "Now, we load in all the packages that we use to create the net including the TensorFlow package:\n"
   ]
  },
  {
   "cell_type": "code",
   "execution_count": 4,
   "metadata": {},
   "outputs": [],
   "source": [
    "import tensorflow as tf\n",
    "import numpy as np\n",
    "\n",
    "from PIL import Image\n",
    "from utils import tile_raster_images\n",
    "import matplotlib.pyplot as plt\n",
    "%matplotlib inline"
   ]
  },
  {
   "cell_type": "markdown",
   "metadata": {},
   "source": [
    "<hr>\n"
   ]
  },
  {
   "cell_type": "markdown",
   "metadata": {},
   "source": [
    "<a id=\"ref2\"></a>\n",
    "\n",
    "<h3>RBM layers</h3>\n",
    "\n",
    "An RBM has two layers. The first layer of the RBM is called the <b>visible</b> (or input layer). Imagine that our toy example, has only vectors with 7 values, so the visible layer must have $V=7$ input nodes.\n",
    "The second layer is the <b>hidden</b> layer, which has $H$ neurons in our case. Each hidden node takes on values of either 0 or 1 (i.e., $h_i = 1$ or $h_i$ = 0), with a probability that is a logistic function of the inputs it receives from the other $V$ visible units, called for example, $p(h_i = 1)$. For our toy sample, we'll use 2 nodes in the hidden layer, so $H = 2$.\n",
    "\n",
    "<center><img src=\"https://ibm.box.com/shared/static/eu26opvcefgls6vnwuo29uwp0nudmokh.png\" alt=\"RBM Model\" style=\"width: 400px;\"></center>\n"
   ]
  },
  {
   "cell_type": "markdown",
   "metadata": {},
   "source": [
    "Each node in the first layer also has a <b>bias</b>. We will denote the bias as $v\\_{bias}$, and this single value is shared among the $V$ visible units.\n",
    "\n",
    "The <b>bias</b> of the second is defined similarly as $h\\_{bias}$, and this single value among the $H$ hidden units.\n"
   ]
  },
  {
   "cell_type": "code",
   "execution_count": 5,
   "metadata": {},
   "outputs": [
    {
     "name": "stderr",
     "output_type": "stream",
     "text": [
      "2021-10-15 11:13:21.659430: W tensorflow/stream_executor/platform/default/dso_loader.cc:55] Could not load dynamic library 'libcuda.so.1'; dlerror: libcuda.so.1: cannot open shared object file: No such file or directory\n",
      "2021-10-15 11:13:21.659508: E tensorflow/stream_executor/cuda/cuda_driver.cc:313] failed call to cuInit: UNKNOWN ERROR (303)\n",
      "2021-10-15 11:13:21.659553: I tensorflow/stream_executor/cuda/cuda_diagnostics.cc:156] kernel driver does not appear to be running on this host (jupyterlab-sadidul012): /proc/driver/nvidia/version does not exist\n",
      "2021-10-15 11:13:21.659938: I tensorflow/core/platform/cpu_feature_guard.cc:143] Your CPU supports instructions that this TensorFlow binary was not compiled to use: AVX2 AVX512F FMA\n",
      "2021-10-15 11:13:21.673740: I tensorflow/core/platform/profile_utils/cpu_utils.cc:102] CPU Frequency: 2593900000 Hz\n",
      "2021-10-15 11:13:21.675021: I tensorflow/compiler/xla/service/service.cc:168] XLA service 0x7efc60000b20 initialized for platform Host (this does not guarantee that XLA will be used). Devices:\n",
      "2021-10-15 11:13:21.675073: I tensorflow/compiler/xla/service/service.cc:176]   StreamExecutor device (0): Host, Default Version\n"
     ]
    }
   ],
   "source": [
    "v_bias = tf.Variable(tf.zeros([7]), tf.float32)\n",
    "h_bias = tf.Variable(tf.zeros([2]), tf.float32)"
   ]
  },
  {
   "cell_type": "markdown",
   "metadata": {},
   "source": [
    "We have to define weights among the input layer and hidden layer nodes. In the weight matrix, the number of rows are equal to the input nodes, and the number of columns are equal to the output nodes. We define a tensor $\\mathbf{W}$ of shape = (7,2), where the number of visible neurons = 7, and the number of hidden neurons = 2.\n"
   ]
  },
  {
   "cell_type": "code",
   "execution_count": 6,
   "metadata": {},
   "outputs": [],
   "source": [
    "W = tf.constant(np.random.normal(loc=0.0, scale=1.0, size=(7, 2)).astype(np.float32))"
   ]
  },
  {
   "cell_type": "markdown",
   "metadata": {},
   "source": [
    "<hr>\n"
   ]
  },
  {
   "cell_type": "markdown",
   "metadata": {},
   "source": [
    "<a id=\"ref3\"></a>\n",
    "\n",
    "<h3>What RBM can do after training?</h3>\n",
    "Think of RBM as a model that has been trained based on images of a dataset of many SUV and sedan cars. Also, imagine that the RBM network has only two hidden nodes, where one node encodes the weight and, and the other encodes the size.  \n",
    "In a sense, the different configurations represent different cars, where one is an SUV and the other is Sedan.  In a training process, through many forward and backward passes, the RBM adjust its weights to send a stronger signal to either the SUV node (0, 1) or the sedan node (1, 0) in the hidden layer, given the pixels of images. Now, given an SUV in hidden layer, which distribution of pixels should we expect? RBM can give you 2 things. First, it encodes your images in hidden layer. Second, it gives you the probability of observing a case, given some hidden values.\n",
    "\n",
    "<h3>The Inference Process</h3>\n",
    "\n",
    "RBM has two phases:\n",
    "\n",
    "<ul>\n",
    "    <li>Forward Pass</li>  \n",
    "    <li>Backward Pass or Reconstruction</li>\n",
    "</ul>\n",
    "\n",
    "<b>Phase 1) Forward pass:</b>\n",
    "\n",
    "Input one training sample (one image) $\\mathbf{x}$ through all visible nodes, and pass it to all hidden nodes. Processing happens in each node in the hidden layer. This computation begins by making stochastic decisions about whether to transmit that input or not (i.e. to determine the state of each hidden layer).  First, the probability vector is computed using the input feature vector $\\mathbf{x}$, the weight matrix $\\mathbf{W}$, and the bias term $h\\_{bias}$, as\n",
    "\n",
    "$$p({h_j}|\\mathbf x)= \\sigma( \\sum\\_{i=1}^V W\\_{ij} x_i + h\\_{bias} )$$,\n",
    "\n",
    "where $\\sigma(z) = (1+e^{-z})^{-1}$ is the logistic function.\n",
    "\n",
    "So, what does $p({h_j})$ represent? It is the <b>probability distribution</b> of the hidden units. That is, RBM uses inputs $x_i$ to make predictions about hidden node activations. For example, imagine that the hidden node activation values are \\[0.51 0.84] for the first training item. It tells you that the conditional probability for each hidden neuron for Phase 1 is:\n",
    "\n",
    "$$p(h\\_{1} = 1|\\mathbf{v}) = 0.51$$\n",
    "$$p(h\\_{2} = 1|\\mathbf{v}) = 0.84$$\n",
    "\n",
    "As a result, for each row in the training set, vector of probabilities is generated.  In TensorFlow, this is referred to as a `tensor` with a shape of (1,2).\n",
    "\n",
    "We then turn unit $j$ with probability $p(h\\_{j}|\\mathbf{v})$, and turn it off with probability $1 - p(h\\_{j}|\\mathbf{v})$ by generating a uniform random number vector $\\mathbf{\\xi}$, and comparing it to the activation probability as\n",
    "\n",
    "<center>If $\\xi_j>p(h_{j}|\\mathbf{v})$, then $h_j=1$, else $h_j=0$.</center>\n",
    "\n",
    "Therefore, the conditional probability of a configuration of $\\mathbf{h}$ given $\\mathbf{v}$ (for a training sample) is:\n",
    "\n",
    "$$p(\\mathbf{h} \\mid \\mathbf{v}) = \\prod\\_{j=1}^H p(h_j \\mid \\mathbf{v})$$\n",
    "\n",
    "where $H$ is the number of hidden units.\n"
   ]
  },
  {
   "cell_type": "markdown",
   "metadata": {},
   "source": [
    "Before we go further, let's look at a toy example for one case out of all input. Assume that we have a trained RBM, and a very simple input vector, such as \\[1.0, 0.0, 0.0, 1.0, 0.0, 0.0, 0.0].\\\n",
    "Let's see what the output of forward pass would look like:\n"
   ]
  },
  {
   "cell_type": "code",
   "execution_count": 7,
   "metadata": {},
   "outputs": [
    {
     "name": "stdout",
     "output_type": "stream",
     "text": [
      "Input:  tf.Tensor([[1. 0. 0. 1. 0. 0. 0.]], shape=(1, 7), dtype=float32)\n",
      "hb:  tf.Tensor([0.1 0.1], shape=(2,), dtype=float32)\n",
      "w:  tf.Tensor(\n",
      "[[-0.5677225  -0.24248697]\n",
      " [ 0.24171606 -0.39336243]\n",
      " [ 0.8724084  -0.22607484]\n",
      " [-0.47306135  0.13858593]\n",
      " [-1.5012953  -0.37280375]\n",
      " [-0.10439276 -0.23210205]\n",
      " [-0.48028445 -0.19817711]], shape=(7, 2), dtype=float32)\n",
      "p(h|v):  tf.Tensor([[0.28074205 0.49902475]], shape=(1, 2), dtype=float32)\n",
      "h0 states: tf.Tensor([[1. 1.]], shape=(1, 2), dtype=float32)\n"
     ]
    }
   ],
   "source": [
    "X = tf.constant([[1.0, 0.0, 0.0, 1.0, 0.0, 0.0, 0.0]], tf.float32)\n",
    "\n",
    "v_state = X\n",
    "print (\"Input: \", v_state)\n",
    "\n",
    "h_bias = tf.constant([0.1, 0.1])\n",
    "print (\"hb: \", h_bias)\n",
    "print (\"w: \", W)\n",
    "\n",
    "# Calculate the probabilities of turning the hidden units on:\n",
    "h_prob = tf.nn.sigmoid(tf.matmul(v_state, W) + h_bias)  #probabilities of the hidden units\n",
    "print (\"p(h|v): \", h_prob)\n",
    "\n",
    "# Draw samples from the distribution:\n",
    "h_state = tf.nn.relu(tf.sign(h_prob - tf.random.uniform(tf.shape(h_prob)))) #states\n",
    "print (\"h0 states:\", h_state)"
   ]
  },
  {
   "cell_type": "markdown",
   "metadata": {},
   "source": [
    "<b>Phase 2) Backward Pass (Reconstruction):</b>\n",
    "The RBM reconstructs data by making several forward and backward passes between the visible and hidden layers.\n",
    "\n",
    "So, in the second phase (i.e. reconstruction phase), the samples from the hidden layer (i.e. $\\mathbf h$) becomes the input in the backward pass. The same weight matrix and visible layer biases are used to passed to the sigmoid function. The reproduced output is a reconstruction which is an approximation of the original input.\n"
   ]
  },
  {
   "cell_type": "code",
   "execution_count": 8,
   "metadata": {},
   "outputs": [
    {
     "name": "stdout",
     "output_type": "stream",
     "text": [
      "b:  tf.Tensor([0.1 0.2 0.1 0.1 0.1 0.2 0.1], shape=(7,), dtype=float32)\n",
      "p(vi∣h):  tf.Tensor(\n",
      "[[0.32955256 0.51208603 0.6783793  0.44164822 0.14503331 0.4659292\n",
      "  0.35928667]], shape=(1, 7), dtype=float32)\n",
      "v probability states:  tf.Tensor([[0. 1. 0. 0. 0. 0. 0.]], shape=(1, 7), dtype=float32)\n"
     ]
    }
   ],
   "source": [
    "vb = tf.constant([0.1, 0.2, 0.1, 0.1, 0.1, 0.2, 0.1])\n",
    "print (\"b: \", vb)\n",
    "v_prob = tf.nn.sigmoid(tf.matmul(h_state, tf.transpose(W)) + vb)\n",
    "print (\"p(vi∣h): \", v_prob)\n",
    "v_state = tf.nn.relu(tf.sign(v_prob - tf.random.uniform(tf.shape(v_prob))))\n",
    "print (\"v probability states: \", v_state)"
   ]
  },
  {
   "cell_type": "markdown",
   "metadata": {},
   "source": [
    "RBM learns a probability distribution over the input, and then, after being trained, the RBM can generate new samples from the learned probability distribution. As you know, <b>probability distribution</b>, is a mathematical function that provides the probabilities of occurrence of different possible outcomes in an experiment.\n",
    "\n",
    "The (conditional) probability distribution over the visible units v is given by\n",
    "\n",
    "$$p(\\mathbf{v} \\mid \\mathbf{h}) = \\prod\\_{i=1}^V p(v_i \\mid \\mathbf{h}),$$\n",
    "\n",
    "where,\n",
    "\n",
    "$$p(v_i \\mid \\mathbf{h}) = \\sigma\\left(\\sum\\_{j=1}^H W\\_{ji} h_j + v\\_{bias} \\right)$$\n",
    "\n",
    "so, given current state of hidden units and weights, what is the probability of generating \\[1. 0. 0. 1. 0. 0. 0.] in reconstruction phase, based on the above <b>probability distribution</b> function?\n"
   ]
  },
  {
   "cell_type": "code",
   "execution_count": 9,
   "metadata": {},
   "outputs": [
    {
     "name": "stdout",
     "output_type": "stream",
     "text": [
      "input X: [[1. 0. 0. 1. 0. 0. 0.]]\n",
      "probablity vector: [0.32955256 0.51208603 0.6783793  0.44164822 0.14503331 0.4659292\n",
      " 0.35928667]\n",
      "probability of generating X:  0.0066819037\n"
     ]
    }
   ],
   "source": [
    "inp = X\n",
    "print(\"input X:\" , inp.numpy())\n",
    "\n",
    "print(\"probablity vector:\" , v_prob[0].numpy())\n",
    "v_probability = 1\n",
    "\n",
    "for elm, p in zip(inp[0],v_prob[0]) :\n",
    "    if elm ==1:\n",
    "        v_probability *= p\n",
    "    else:\n",
    "        v_probability *= (1-p)\n",
    "\n",
    "print(\"probability of generating X: \" , v_probability.numpy())"
   ]
  },
  {
   "cell_type": "markdown",
   "metadata": {},
   "source": [
    "How similar are vectors $\\mathbf{x}$ and $\\mathbf{v}$? Of course, the reconstructed values most likely will not look anything like the input vector, because our network has not been trained yet. Our objective is to train the model in such a way that the input vector and reconstructed vector to be same. Therefore, based on how different the input values look to the ones that we just reconstructed, the weights are adjusted.\n"
   ]
  },
  {
   "cell_type": "markdown",
   "metadata": {},
   "source": [
    "<hr>\n"
   ]
  },
  {
   "cell_type": "markdown",
   "metadata": {},
   "source": [
    "<h2>MNIST</h2>\n"
   ]
  },
  {
   "cell_type": "markdown",
   "metadata": {},
   "source": [
    "We will be using the MNIST dataset to practice the usage of RBMs. The following cell loads the MNIST dataset.\n"
   ]
  },
  {
   "cell_type": "code",
   "execution_count": 10,
   "metadata": {},
   "outputs": [
    {
     "name": "stdout",
     "output_type": "stream",
     "text": [
      "Downloading data from https://storage.googleapis.com/tensorflow/tf-keras-datasets/mnist.npz\n",
      "11493376/11490434 [==============================] - 0s 0us/step\n"
     ]
    }
   ],
   "source": [
    "#loading training and test data\n",
    "mnist = tf.keras.datasets.mnist\n",
    "(trX, trY), (teX, teY) = mnist.load_data()\n",
    "\n",
    "# showing an example of the Flatten class and operation\n",
    "from tensorflow.keras.layers import Flatten\n",
    "flatten = Flatten(dtype='float32')\n",
    "trX = flatten(trX/255.0)\n",
    "trY = flatten(trY/255.0)"
   ]
  },
  {
   "cell_type": "markdown",
   "metadata": {},
   "source": [
    "Lets look at the dimension of the images.\n"
   ]
  },
  {
   "cell_type": "markdown",
   "metadata": {},
   "source": [
    "MNIST images have 784 pixels, so the visible layer must have 784 input nodes.  For our case, we'll use 50 nodes in the hidden layer, so i = 50.\n"
   ]
  },
  {
   "cell_type": "code",
   "execution_count": 11,
   "metadata": {},
   "outputs": [],
   "source": [
    "vb = tf.Variable(tf.zeros([784]), tf.float32)\n",
    "hb = tf.Variable(tf.zeros([50]), tf.float32)"
   ]
  },
  {
   "cell_type": "markdown",
   "metadata": {},
   "source": [
    "Let $\\mathbf W$ be the Tensor of 784x50 (784 - number of visible neurons, 50 - number of hidden neurons) that represents weights between the neurons.\n"
   ]
  },
  {
   "cell_type": "code",
   "execution_count": 12,
   "metadata": {},
   "outputs": [],
   "source": [
    "W = tf.Variable(tf.zeros([784,50]), tf.float32)"
   ]
  },
  {
   "cell_type": "markdown",
   "metadata": {},
   "source": [
    "Lets define the visible layer:\n"
   ]
  },
  {
   "cell_type": "code",
   "execution_count": 13,
   "metadata": {},
   "outputs": [
    {
     "data": {
      "text/plain": [
       "<tf.Tensor: shape=(1, 50), dtype=float32, numpy=\n",
       "array([[0., 0., 0., 0., 0., 0., 0., 0., 0., 0., 0., 0., 0., 0., 0., 0.,\n",
       "        0., 0., 0., 0., 0., 0., 0., 0., 0., 0., 0., 0., 0., 0., 0., 0.,\n",
       "        0., 0., 0., 0., 0., 0., 0., 0., 0., 0., 0., 0., 0., 0., 0., 0.,\n",
       "        0., 0.]], dtype=float32)>"
      ]
     },
     "execution_count": 13,
     "metadata": {},
     "output_type": "execute_result"
    }
   ],
   "source": [
    "v0_state = tf.Variable(tf.zeros([784]), tf.float32)\n",
    "\n",
    "#testing to see if the matrix product works\n",
    "tf.matmul( [v0_state], W)"
   ]
  },
  {
   "cell_type": "markdown",
   "metadata": {},
   "source": [
    "Now, we can define hidden layer:\n"
   ]
  },
  {
   "cell_type": "code",
   "execution_count": 14,
   "metadata": {},
   "outputs": [
    {
     "name": "stdout",
     "output_type": "stream",
     "text": [
      "h0_state shape:  tf.Tensor([ 1 50], shape=(2,), dtype=int32)\n",
      "first 15 hidden states:  tf.Tensor([0. 0. 1. 1. 1. 0. 1. 0. 0. 1. 0. 0. 0. 1. 1.], shape=(15,), dtype=float32)\n"
     ]
    }
   ],
   "source": [
    "#computing the hidden nodes probability vector and checking shape\n",
    "h0_prob = tf.nn.sigmoid(tf.matmul([v0_state], W) + hb)  #probabilities of the hidden units\n",
    "print(\"h0_state shape: \" , tf.shape(h0_prob))\n",
    "\n",
    "#defining a function to return only the generated hidden states \n",
    "def hidden_layer(v0_state, W, hb):\n",
    "    h0_prob = tf.nn.sigmoid(tf.matmul([v0_state], W) + hb)  #probabilities of the hidden units\n",
    "    h0_state = tf.nn.relu(tf.sign(h0_prob - tf.random.uniform(tf.shape(h0_prob)))) #sample_h_given_X\n",
    "    return h0_state\n",
    "\n",
    "\n",
    "h0_state = hidden_layer(v0_state, W, hb)\n",
    "print(\"first 15 hidden states: \", h0_state[0][0:15])"
   ]
  },
  {
   "cell_type": "markdown",
   "metadata": {},
   "source": [
    "Now, we define reconstruction part:\n"
   ]
  },
  {
   "cell_type": "code",
   "execution_count": 15,
   "metadata": {},
   "outputs": [
    {
     "name": "stdout",
     "output_type": "stream",
     "text": [
      "hidden state shape:  (1, 50)\n",
      "v0 state shape:   (784,)\n",
      "v1 state shape:   (784,)\n"
     ]
    }
   ],
   "source": [
    "def reconstructed_output(h0_state, W, vb):\n",
    "    v1_prob = tf.nn.sigmoid(tf.matmul(h0_state, tf.transpose(W)) + vb) \n",
    "    v1_state = tf.nn.relu(tf.sign(v1_prob - tf.random.uniform(tf.shape(v1_prob)))) #sample_v_given_h\n",
    "    return v1_state[0]\n",
    "\n",
    "v1_state = reconstructed_output(h0_state, W, vb)\n",
    "print(\"hidden state shape: \", h0_state.shape)\n",
    "print(\"v0 state shape:  \", v0_state.shape)\n",
    "print(\"v1 state shape:  \", v1_state.shape)"
   ]
  },
  {
   "cell_type": "markdown",
   "metadata": {},
   "source": [
    "<h3>What is the objective function?</h3>\n",
    "\n",
    "<b>Goal</b>: Maximize the likelihood of our data being drawn from that distribution\n",
    "\n",
    "<b>Calculate error:</b>\\\n",
    "In each epoch, we compute the \"error\" as a sum of the squared difference between step 1 and step n,\n",
    "e.g the error shows the difference between the data and its reconstruction.\n",
    "\n",
    "<b>Note:</b> tf.reduce_mean computes the mean of elements across dimensions of a tensor.\n"
   ]
  },
  {
   "cell_type": "code",
   "execution_count": 16,
   "metadata": {},
   "outputs": [
    {
     "name": "stdout",
     "output_type": "stream",
     "text": [
      "error 0.49617347\n"
     ]
    }
   ],
   "source": [
    "def error(v0_state, v1_state):\n",
    "    return tf.reduce_mean(tf.square(v0_state - v1_state))\n",
    "\n",
    "err = tf.reduce_mean(tf.square(v0_state - v1_state))\n",
    "print(\"error\" , err.numpy())"
   ]
  },
  {
   "cell_type": "markdown",
   "metadata": {},
   "source": [
    "<a id=\"ref4\"></a>\n",
    "\n",
    "<h3>Training the Model</h3>\n",
    "<b>Warning...</b> The following part is math-heavy, but you can skip it if you just want to run the cells in the next section.\n",
    "\n",
    "As mentioned, we want to give a high probability to the input data we train on. So, in order to train an RBM, we have to maximize the product of probabilities assigned to all rows $\\mathbf{v}$ (images) in the training set $\\mathbf{V}$ (a matrix, where each row of it is treated as a visible vector $\\mathbf{v}$)\n",
    "\n",
    "$$\\arg \\max_W \\prod\\_{\\mathbf{v}\\in\\mathbf{V}\\_T} p(\\mathbf{v})$$\n",
    "\n",
    "which is equivalent to maximizing the expectation of the log probability, given as\n",
    "\n",
    "$$\\arg\\max_W\\left\\[ \\mathbb{E} \\left(\\prod\\_{\\mathbf v\\in \\mathbf V}\\text{log} \\left(p(\\mathbf v)\\right) \\right) \\right].$$\n",
    "\n",
    "So, we have to update the weights $W\\_{ij}$  to increase $p(\\mathbf{v})$ for all $\\mathbf{v}$ in our training data during training. So we have to calculate the derivative:\n",
    "\n",
    "$$\\frac{\\partial \\log p(\\mathbf v)}{\\partial W\\_{ij}}$$\n",
    "\n",
    "This cannot be easily done by typical <b>gradient descent (SGD)</b>, so we can use another approach, which has 2 steps:\n",
    "\n",
    "<ol>\n",
    "    <li>Gibbs Sampling</li>\n",
    "    <li>Contrastive Divergence</li>\n",
    "</ol>    \n",
    "\n",
    "<h3>Gibbs Sampling</h3>   \n",
    "\n",
    "<h4>Gibbs Sampling Step 1</h4> \n",
    "Given an input vector $\\mathbf{v}$, we are using $p(\\mathbf{h}|\\mathbf{v})$ to predict the hidden values $\\mathbf{h}$. \n",
    "  $$p({h_j}|\\mathbf v)= \\sigma\\left(\\sum_{i=1}^V W_{ij} v_i + h_{bias} \\right)$$\n",
    "The samples are generated from this distribution by generating the uniform random variate vector $\\mathbf{\\xi} \\sim U[0,1]$ of length $H$ and comparing to the computed probabilities as\n",
    "\n",
    "<center>If $\\xi_j>p(h_{j}|\\mathbf{v})$, then $h_j=1$, else $h_j=0$.</center>\n",
    "\n",
    "<h4>Gibbs Sampling Step 2</h4> \n",
    "Then, knowing the hidden values, we use $p(\\mathbf v| \\mathbf h)$ for reconstructing of new input values v. \n",
    "\n",
    "$$p({v_i}|\\mathbf h)= \\sigma\\left(\\sum\\_{j=1}^H W^{T}*{ij} h_j + v*{bias} \\right)$$\n",
    "\n",
    "The samples are generated from this distribution by generating a uniform random variate vector $\\mathbf{\\xi} \\sim U\\[0,1]$ of length $V$ and comparing to the computed probabilities as\n",
    "\n",
    "<center>If $\\xi_i>p(v_{i}|\\mathbf{h})$, then $v_i=1$, else $v_i=0$.</center>\n",
    "\n",
    "Let vectors $\\mathbf v_k$ and $\\mathbf h_k$ be for the $k$th iteration.  In general, the $kth$ state is generrated as:\n",
    "\n",
    "<b>Iteration</b> $k$:\n",
    "\n",
    "$$\\mathbf v\\_{k-1} \\Rightarrow p(\\mathbf h\\_{k-1}|\\mathbf v\\_{k-1})\\Rightarrow \\mathbf h\\_{k-1}\\Rightarrow p(\\mathbf v\\_{k}|\\mathbf h\\_{k-1})\\Rightarrow \\mathbf v_k$$\n",
    "\n",
    "<h3>Contrastive Divergence (CD-k)</h3>\n",
    "The update of the weight matrix is done during the Contrastive Divergence step. \n",
    "\n",
    "Vectors v0 and vk are used to calculate the activation probabilities for hidden values h0 and hk. The difference between the outer products of those probabilities with input vectors v0 and vk results in the update matrix:\n",
    "\n",
    "$$\\Delta \\mathbf W_k =\\mathbf v_k \\otimes \\mathbf h_k - \\mathbf v\\_{k-1} \\otimes \\mathbf h\\_{k-1}$$\n",
    "\n",
    "Contrastive Divergence is actually matrix of values that is computed and used to adjust values of the $\\mathbf W$ matrix. Changing $\\mathbf W$ incrementally leads to training of the  $\\mathbf W$ values. Then, on each step (epoch), $\\mathbf W$ is updated using the following:\n",
    "\n",
    "$$\\mathbf W_k = \\mathbf W\\_{k-1} + \\alpha \\* \\Delta \\mathbf W_k$$\n",
    "\n",
    "Reconstruction steps:\n",
    "\n",
    "<ul>\n",
    "    <li> Get one data point from data set, like <i>x</i>, and pass it through the following steps:</li>\n",
    "\n",
    "<b>Iteration</b> $k=1$:\n",
    "\n",
    "Sampling (starting with input image)\n",
    "$$\\mathbf x = \\mathbf v\\_0 \\Rightarrow p(\\mathbf h\\_0|\\mathbf v\\_0)\\Rightarrow \\mathbf h\\_0 \\Rightarrow p(\\mathbf v\\_1|\\mathbf h\\_0)\\Rightarrow \\mathbf v\\_1$$\\\n",
    "followed by the CD-k step\n",
    "$$\\Delta \\mathbf W\\_1 =\\mathbf v\\_1 \\otimes \\mathbf h\\_1 - \\mathbf v\\_{0} \\otimes \\mathbf h\\_{0}$$\\\n",
    "$$\\mathbf W\\_1 = \\mathbf W\\_{0} + \\alpha \\* \\Delta \\mathbf W\\_1$$\n",
    "\n",
    "<li> $\\mathbf v_1$ is the reconstruction of $\\mathbf x$ sent to the next iteration).</li>\n",
    "\n",
    "<b>Iteration</b> $k=2$:\n",
    "\n",
    "Sampling (starting with $\\mathbf v\\_1$)\n",
    "\n",
    "$$\\mathbf v\\_1 \\Rightarrow p(\\mathbf h\\_1|\\mathbf v\\_1)\\Rightarrow \\mathbf h\\_1\\Rightarrow p(\\mathbf v\\_2|\\mathbf h\\_1)\\Rightarrow \\mathbf v\\_2$$\n",
    "\n",
    "followed by the CD-k step\n",
    "$$\\Delta \\mathbf W\\_2 =\\mathbf v\\_2 \\otimes \\mathbf h\\_2 - \\mathbf v\\_{1} \\otimes \\mathbf h\\_{1}$$\\\n",
    "$$\\mathbf W\\_2 = \\mathbf W\\_{1} + \\alpha \\* \\Delta \\mathbf W\\_2$$\n",
    "\n",
    "<li> $\\mathbf v_2$ is the reconstruction of $\\mathbf v_1$ sent to the next iteration).</li>    \n",
    "\n",
    "<b>Iteration</b> $k=K$:\n",
    "\n",
    "Sampling (starting with $\\mathbf v\\_{K-1}$)\n",
    "\n",
    "$$\\mathbf v\\_{K-1} \\Rightarrow p(\\mathbf h\\_{K-1}|\\mathbf v\\_{K-1})\\Rightarrow \\mathbf h\\_{K-1}\\Rightarrow p(\\mathbf v_K|\\mathbf h\\_{K-1})\\Rightarrow \\mathbf v_K$$\n",
    "\n",
    "followed by the CD-k step\n",
    "$$\\Delta \\mathbf W_K =\\mathbf v_K \\otimes \\mathbf h_K - \\mathbf v\\_{K-1} \\otimes \\mathbf h\\_{K-1}$$\\\n",
    "$$\\mathbf W_K = \\mathbf W\\_{K-1} + \\alpha \\* \\Delta \\mathbf W_K$$\n",
    "\n",
    "<b>What is $\\alpha$?</b>\\\n",
    "Here, alpha is some small step size, and is also known as the \"learning rate\".\n"
   ]
  },
  {
   "cell_type": "markdown",
   "metadata": {},
   "source": [
    "$K$ is adjustable, and good performance can be achieved with $K=1$, so that we just take one set of sampling steps per image.\n"
   ]
  },
  {
   "cell_type": "code",
   "execution_count": 17,
   "metadata": {},
   "outputs": [],
   "source": [
    "h1_prob = tf.nn.sigmoid(tf.matmul([v1_state], W) + hb)\n",
    "h1_state = tf.nn.relu(tf.sign(h1_prob - tf.random.uniform(tf.shape(h1_prob)))) #sample_h_given_X"
   ]
  },
  {
   "cell_type": "markdown",
   "metadata": {},
   "source": [
    "Lets look at the error of the first run:\n"
   ]
  },
  {
   "cell_type": "code",
   "execution_count": 18,
   "metadata": {},
   "outputs": [
    {
     "name": "stdout",
     "output_type": "stream",
     "text": [
      "error:  tf.Tensor(0.49617347, shape=(), dtype=float32)\n"
     ]
    }
   ],
   "source": [
    "print(\"error: \", error(v0_state, v1_state))"
   ]
  },
  {
   "cell_type": "code",
   "execution_count": 19,
   "metadata": {},
   "outputs": [
    {
     "name": "stdout",
     "output_type": "stream",
     "text": [
      "Epoch: 0 batch #: 1  of 300 sample #: 199 reconstruction error: 0.169275\n",
      "Epoch: 0 batch #: 2  of 300 sample #: 199 reconstruction error: 0.219190\n",
      "Epoch: 0 batch #: 3  of 300 sample #: 199 reconstruction error: 0.108120\n",
      "Epoch: 0 batch #: 4  of 300 sample #: 199 reconstruction error: 0.143303\n",
      "Epoch: 0 batch #: 5  of 300 sample #: 199 reconstruction error: 0.117885\n",
      "Epoch: 0 batch #: 6  of 300 sample #: 199 reconstruction error: 0.176850\n",
      "Epoch: 0 batch #: 7  of 300 sample #: 199 reconstruction error: 0.094616\n",
      "Epoch: 0 batch #: 8  of 300 sample #: 199 reconstruction error: 0.120299\n",
      "Epoch: 0 batch #: 9  of 300 sample #: 199 reconstruction error: 0.101558\n",
      "Epoch: 0 batch #: 10  of 300 sample #: 199 reconstruction error: 0.179853\n",
      "Epoch: 0 batch #: 11  of 300 sample #: 199 reconstruction error: 0.091186\n",
      "Epoch: 0 batch #: 12  of 300 sample #: 199 reconstruction error: 0.152607\n",
      "Epoch: 0 batch #: 13  of 300 sample #: 199 reconstruction error: 0.058881\n",
      "Epoch: 0 batch #: 14  of 300 sample #: 199 reconstruction error: 0.118154\n",
      "Epoch: 0 batch #: 15  of 300 sample #: 199 reconstruction error: 0.095479\n",
      "Epoch: 0 batch #: 16  of 300 sample #: 199 reconstruction error: 0.090015\n",
      "Epoch: 0 batch #: 17  of 300 sample #: 199 reconstruction error: 0.063838\n",
      "Epoch: 0 batch #: 18  of 300 sample #: 199 reconstruction error: 0.113697\n",
      "Epoch: 0 batch #: 19  of 300 sample #: 199 reconstruction error: 0.146498\n",
      "Epoch: 0 batch #: 20  of 300 sample #: 199 reconstruction error: 0.096364\n",
      "Epoch: 0 batch #: 21  of 300 sample #: 199 reconstruction error: 0.094615\n",
      "Epoch: 0 batch #: 22  of 300 sample #: 199 reconstruction error: 0.096556\n",
      "Epoch: 0 batch #: 23  of 300 sample #: 199 reconstruction error: 0.101771\n",
      "Epoch: 0 batch #: 24  of 300 sample #: 199 reconstruction error: 0.131667\n",
      "Epoch: 0 batch #: 25  of 300 sample #: 199 reconstruction error: 0.098154\n",
      "Epoch: 0 batch #: 26  of 300 sample #: 199 reconstruction error: 0.130159\n",
      "Epoch: 0 batch #: 27  of 300 sample #: 199 reconstruction error: 0.102746\n",
      "Epoch: 0 batch #: 28  of 300 sample #: 199 reconstruction error: 0.089553\n",
      "Epoch: 0 batch #: 29  of 300 sample #: 199 reconstruction error: 0.089431\n",
      "Epoch: 0 batch #: 30  of 300 sample #: 199 reconstruction error: 0.087363\n",
      "Epoch: 0 batch #: 31  of 300 sample #: 199 reconstruction error: 0.080099\n",
      "Epoch: 0 batch #: 32  of 300 sample #: 199 reconstruction error: 0.105864\n",
      "Epoch: 0 batch #: 33  of 300 sample #: 199 reconstruction error: 0.061853\n",
      "Epoch: 0 batch #: 34  of 300 sample #: 199 reconstruction error: 0.078266\n",
      "Epoch: 0 batch #: 35  of 300 sample #: 199 reconstruction error: 0.075455\n",
      "Epoch: 0 batch #: 36  of 300 sample #: 199 reconstruction error: 0.087090\n",
      "Epoch: 0 batch #: 37  of 300 sample #: 199 reconstruction error: 0.069321\n",
      "Epoch: 0 batch #: 38  of 300 sample #: 199 reconstruction error: 0.061620\n",
      "Epoch: 0 batch #: 39  of 300 sample #: 199 reconstruction error: 0.076681\n",
      "Epoch: 0 batch #: 40  of 300 sample #: 199 reconstruction error: 0.101665\n",
      "Epoch: 0 batch #: 41  of 300 sample #: 199 reconstruction error: 0.076022\n",
      "Epoch: 0 batch #: 42  of 300 sample #: 199 reconstruction error: 0.061823\n",
      "Epoch: 0 batch #: 43  of 300 sample #: 199 reconstruction error: 0.126054\n",
      "Epoch: 0 batch #: 44  of 300 sample #: 199 reconstruction error: 0.062261\n",
      "Epoch: 0 batch #: 45  of 300 sample #: 199 reconstruction error: 0.056560\n",
      "Epoch: 0 batch #: 46  of 300 sample #: 199 reconstruction error: 0.035328\n",
      "Epoch: 0 batch #: 47  of 300 sample #: 199 reconstruction error: 0.045142\n",
      "Epoch: 0 batch #: 48  of 300 sample #: 199 reconstruction error: 0.038826\n",
      "Epoch: 0 batch #: 49  of 300 sample #: 199 reconstruction error: 0.121657\n",
      "Epoch: 0 batch #: 50  of 300 sample #: 199 reconstruction error: 0.048172\n",
      "Epoch: 0 batch #: 51  of 300 sample #: 199 reconstruction error: 0.071349\n",
      "Epoch: 0 batch #: 52  of 300 sample #: 199 reconstruction error: 0.030854\n",
      "Epoch: 0 batch #: 53  of 300 sample #: 199 reconstruction error: 0.102556\n",
      "Epoch: 0 batch #: 54  of 300 sample #: 199 reconstruction error: 0.058317\n",
      "Epoch: 0 batch #: 55  of 300 sample #: 199 reconstruction error: 0.098225\n",
      "Epoch: 0 batch #: 56  of 300 sample #: 199 reconstruction error: 0.048612\n",
      "Epoch: 0 batch #: 57  of 300 sample #: 199 reconstruction error: 0.037460\n",
      "Epoch: 0 batch #: 58  of 300 sample #: 199 reconstruction error: 0.064223\n",
      "Epoch: 0 batch #: 59  of 300 sample #: 199 reconstruction error: 0.064459\n",
      "Epoch: 0 batch #: 60  of 300 sample #: 199 reconstruction error: 0.093249\n",
      "Epoch: 0 batch #: 61  of 300 sample #: 199 reconstruction error: 0.057493\n",
      "Epoch: 0 batch #: 62  of 300 sample #: 199 reconstruction error: 0.081479\n",
      "Epoch: 0 batch #: 63  of 300 sample #: 199 reconstruction error: 0.053260\n",
      "Epoch: 0 batch #: 64  of 300 sample #: 199 reconstruction error: 0.090444\n",
      "Epoch: 0 batch #: 65  of 300 sample #: 199 reconstruction error: 0.077266\n",
      "Epoch: 0 batch #: 66  of 300 sample #: 199 reconstruction error: 0.068619\n",
      "Epoch: 0 batch #: 67  of 300 sample #: 199 reconstruction error: 0.060784\n",
      "Epoch: 0 batch #: 68  of 300 sample #: 199 reconstruction error: 0.062088\n",
      "Epoch: 0 batch #: 69  of 300 sample #: 199 reconstruction error: 0.086604\n",
      "Epoch: 0 batch #: 70  of 300 sample #: 199 reconstruction error: 0.087555\n",
      "Epoch: 0 batch #: 71  of 300 sample #: 199 reconstruction error: 0.076495\n",
      "Epoch: 0 batch #: 72  of 300 sample #: 199 reconstruction error: 0.082034\n",
      "Epoch: 0 batch #: 73  of 300 sample #: 199 reconstruction error: 0.080021\n",
      "Epoch: 0 batch #: 74  of 300 sample #: 199 reconstruction error: 0.097050\n",
      "Epoch: 0 batch #: 75  of 300 sample #: 199 reconstruction error: 0.049793\n",
      "Epoch: 0 batch #: 76  of 300 sample #: 199 reconstruction error: 0.072684\n",
      "Epoch: 0 batch #: 77  of 300 sample #: 199 reconstruction error: 0.114049\n",
      "Epoch: 0 batch #: 78  of 300 sample #: 199 reconstruction error: 0.086197\n",
      "Epoch: 0 batch #: 79  of 300 sample #: 199 reconstruction error: 0.123823\n",
      "Epoch: 0 batch #: 80  of 300 sample #: 199 reconstruction error: 0.037708\n",
      "Epoch: 0 batch #: 81  of 300 sample #: 199 reconstruction error: 0.060223\n",
      "Epoch: 0 batch #: 82  of 300 sample #: 199 reconstruction error: 0.051555\n",
      "Epoch: 0 batch #: 83  of 300 sample #: 199 reconstruction error: 0.096263\n",
      "Epoch: 0 batch #: 84  of 300 sample #: 199 reconstruction error: 0.085231\n",
      "Epoch: 0 batch #: 85  of 300 sample #: 199 reconstruction error: 0.053501\n",
      "Epoch: 0 batch #: 86  of 300 sample #: 199 reconstruction error: 0.081897\n",
      "Epoch: 0 batch #: 87  of 300 sample #: 199 reconstruction error: 0.076436\n",
      "Epoch: 0 batch #: 88  of 300 sample #: 199 reconstruction error: 0.024835\n",
      "Epoch: 0 batch #: 89  of 300 sample #: 199 reconstruction error: 0.052245\n",
      "Epoch: 0 batch #: 90  of 300 sample #: 199 reconstruction error: 0.071308\n",
      "Epoch: 0 batch #: 91  of 300 sample #: 199 reconstruction error: 0.048811\n",
      "Epoch: 0 batch #: 92  of 300 sample #: 199 reconstruction error: 0.083155\n",
      "Epoch: 0 batch #: 93  of 300 sample #: 199 reconstruction error: 0.109670\n",
      "Epoch: 0 batch #: 94  of 300 sample #: 199 reconstruction error: 0.106817\n",
      "Epoch: 0 batch #: 95  of 300 sample #: 199 reconstruction error: 0.065195\n",
      "Epoch: 0 batch #: 96  of 300 sample #: 199 reconstruction error: 0.052120\n",
      "Epoch: 0 batch #: 97  of 300 sample #: 199 reconstruction error: 0.091990\n",
      "Epoch: 0 batch #: 98  of 300 sample #: 199 reconstruction error: 0.082792\n",
      "Epoch: 0 batch #: 99  of 300 sample #: 199 reconstruction error: 0.061948\n",
      "Epoch: 0 batch #: 100  of 300 sample #: 199 reconstruction error: 0.102980\n",
      "Epoch: 0 batch #: 101  of 300 sample #: 199 reconstruction error: 0.073372\n",
      "Epoch: 0 batch #: 102  of 300 sample #: 199 reconstruction error: 0.071838\n",
      "Epoch: 0 batch #: 103  of 300 sample #: 199 reconstruction error: 0.079880\n",
      "Epoch: 0 batch #: 104  of 300 sample #: 199 reconstruction error: 0.071493\n",
      "Epoch: 0 batch #: 105  of 300 sample #: 199 reconstruction error: 0.072526\n",
      "Epoch: 0 batch #: 106  of 300 sample #: 199 reconstruction error: 0.114785\n",
      "Epoch: 0 batch #: 107  of 300 sample #: 199 reconstruction error: 0.131065\n",
      "Epoch: 0 batch #: 108  of 300 sample #: 199 reconstruction error: 0.048754\n",
      "Epoch: 0 batch #: 109  of 300 sample #: 199 reconstruction error: 0.109180\n",
      "Epoch: 0 batch #: 110  of 300 sample #: 199 reconstruction error: 0.068785\n",
      "Epoch: 0 batch #: 111  of 300 sample #: 199 reconstruction error: 0.100047\n",
      "Epoch: 0 batch #: 112  of 300 sample #: 199 reconstruction error: 0.052831\n",
      "Epoch: 0 batch #: 113  of 300 sample #: 199 reconstruction error: 0.075645\n",
      "Epoch: 0 batch #: 114  of 300 sample #: 199 reconstruction error: 0.067091\n",
      "Epoch: 0 batch #: 115  of 300 sample #: 199 reconstruction error: 0.074071\n",
      "Epoch: 0 batch #: 116  of 300 sample #: 199 reconstruction error: 0.057648\n",
      "Epoch: 0 batch #: 117  of 300 sample #: 199 reconstruction error: 0.049905\n",
      "Epoch: 0 batch #: 118  of 300 sample #: 199 reconstruction error: 0.070029\n",
      "Epoch: 0 batch #: 119  of 300 sample #: 199 reconstruction error: 0.134817\n",
      "Epoch: 0 batch #: 120  of 300 sample #: 199 reconstruction error: 0.077161\n",
      "Epoch: 0 batch #: 121  of 300 sample #: 199 reconstruction error: 0.047735\n",
      "Epoch: 0 batch #: 122  of 300 sample #: 199 reconstruction error: 0.100862\n",
      "Epoch: 0 batch #: 123  of 300 sample #: 199 reconstruction error: 0.064138\n",
      "Epoch: 0 batch #: 124  of 300 sample #: 199 reconstruction error: 0.076150\n",
      "Epoch: 0 batch #: 125  of 300 sample #: 199 reconstruction error: 0.044071\n",
      "Epoch: 0 batch #: 126  of 300 sample #: 199 reconstruction error: 0.101869\n",
      "Epoch: 0 batch #: 127  of 300 sample #: 199 reconstruction error: 0.088434\n",
      "Epoch: 0 batch #: 128  of 300 sample #: 199 reconstruction error: 0.061414\n",
      "Epoch: 0 batch #: 129  of 300 sample #: 199 reconstruction error: 0.055517\n",
      "Epoch: 0 batch #: 130  of 300 sample #: 199 reconstruction error: 0.073613\n",
      "Epoch: 0 batch #: 131  of 300 sample #: 199 reconstruction error: 0.058985\n",
      "Epoch: 0 batch #: 132  of 300 sample #: 199 reconstruction error: 0.043625\n",
      "Epoch: 0 batch #: 133  of 300 sample #: 199 reconstruction error: 0.065364\n",
      "Epoch: 0 batch #: 134  of 300 sample #: 199 reconstruction error: 0.104000\n",
      "Epoch: 0 batch #: 135  of 300 sample #: 199 reconstruction error: 0.085925\n",
      "Epoch: 0 batch #: 136  of 300 sample #: 199 reconstruction error: 0.093661\n",
      "Epoch: 0 batch #: 137  of 300 sample #: 199 reconstruction error: 0.060177\n",
      "Epoch: 0 batch #: 138  of 300 sample #: 199 reconstruction error: 0.073362\n",
      "Epoch: 0 batch #: 139  of 300 sample #: 199 reconstruction error: 0.126912\n",
      "Epoch: 0 batch #: 140  of 300 sample #: 199 reconstruction error: 0.073405\n",
      "Epoch: 0 batch #: 141  of 300 sample #: 199 reconstruction error: 0.098006\n",
      "Epoch: 0 batch #: 142  of 300 sample #: 199 reconstruction error: 0.050066\n",
      "Epoch: 0 batch #: 143  of 300 sample #: 199 reconstruction error: 0.048318\n",
      "Epoch: 0 batch #: 144  of 300 sample #: 199 reconstruction error: 0.071049\n",
      "Epoch: 0 batch #: 145  of 300 sample #: 199 reconstruction error: 0.104871\n",
      "Epoch: 0 batch #: 146  of 300 sample #: 199 reconstruction error: 0.129240\n",
      "Epoch: 0 batch #: 147  of 300 sample #: 199 reconstruction error: 0.077468\n",
      "Epoch: 0 batch #: 148  of 300 sample #: 199 reconstruction error: 0.079031\n",
      "Epoch: 0 batch #: 149  of 300 sample #: 199 reconstruction error: 0.038275\n",
      "Epoch: 0 batch #: 150  of 300 sample #: 199 reconstruction error: 0.052733\n",
      "Epoch: 0 batch #: 151  of 300 sample #: 199 reconstruction error: 0.096963\n",
      "Epoch: 0 batch #: 152  of 300 sample #: 199 reconstruction error: 0.065007\n",
      "Epoch: 0 batch #: 153  of 300 sample #: 199 reconstruction error: 0.054295\n",
      "Epoch: 0 batch #: 154  of 300 sample #: 199 reconstruction error: 0.075223\n",
      "Epoch: 0 batch #: 155  of 300 sample #: 199 reconstruction error: 0.063368\n",
      "Epoch: 0 batch #: 156  of 300 sample #: 199 reconstruction error: 0.073611\n",
      "Epoch: 0 batch #: 157  of 300 sample #: 199 reconstruction error: 0.096095\n",
      "Epoch: 0 batch #: 158  of 300 sample #: 199 reconstruction error: 0.077793\n",
      "Epoch: 0 batch #: 159  of 300 sample #: 199 reconstruction error: 0.064658\n",
      "Epoch: 0 batch #: 160  of 300 sample #: 199 reconstruction error: 0.062455\n",
      "Epoch: 0 batch #: 161  of 300 sample #: 199 reconstruction error: 0.081564\n",
      "Epoch: 0 batch #: 162  of 300 sample #: 199 reconstruction error: 0.110237\n",
      "Epoch: 0 batch #: 163  of 300 sample #: 199 reconstruction error: 0.035730\n",
      "Epoch: 0 batch #: 164  of 300 sample #: 199 reconstruction error: 0.068617\n",
      "Epoch: 0 batch #: 165  of 300 sample #: 199 reconstruction error: 0.092424\n",
      "Epoch: 0 batch #: 166  of 300 sample #: 199 reconstruction error: 0.062131\n",
      "Epoch: 0 batch #: 167  of 300 sample #: 199 reconstruction error: 0.085549\n",
      "Epoch: 0 batch #: 168  of 300 sample #: 199 reconstruction error: 0.054083\n",
      "Epoch: 0 batch #: 169  of 300 sample #: 199 reconstruction error: 0.038847\n",
      "Epoch: 0 batch #: 170  of 300 sample #: 199 reconstruction error: 0.069063\n",
      "Epoch: 0 batch #: 171  of 300 sample #: 199 reconstruction error: 0.028765\n",
      "Epoch: 0 batch #: 172  of 300 sample #: 199 reconstruction error: 0.050817\n",
      "Epoch: 0 batch #: 173  of 300 sample #: 199 reconstruction error: 0.079707\n",
      "Epoch: 0 batch #: 174  of 300 sample #: 199 reconstruction error: 0.122719\n",
      "Epoch: 0 batch #: 175  of 300 sample #: 199 reconstruction error: 0.076155\n",
      "Epoch: 0 batch #: 176  of 300 sample #: 199 reconstruction error: 0.043871\n",
      "Epoch: 0 batch #: 177  of 300 sample #: 199 reconstruction error: 0.036217\n",
      "Epoch: 0 batch #: 178  of 300 sample #: 199 reconstruction error: 0.118710\n",
      "Epoch: 0 batch #: 179  of 300 sample #: 199 reconstruction error: 0.073629\n",
      "Epoch: 0 batch #: 180  of 300 sample #: 199 reconstruction error: 0.082121\n",
      "Epoch: 0 batch #: 181  of 300 sample #: 199 reconstruction error: 0.105832\n",
      "Epoch: 0 batch #: 182  of 300 sample #: 199 reconstruction error: 0.079032\n",
      "Epoch: 0 batch #: 183  of 300 sample #: 199 reconstruction error: 0.123450\n",
      "Epoch: 0 batch #: 184  of 300 sample #: 199 reconstruction error: 0.062052\n",
      "Epoch: 0 batch #: 185  of 300 sample #: 199 reconstruction error: 0.082287\n",
      "Epoch: 0 batch #: 186  of 300 sample #: 199 reconstruction error: 0.121761\n",
      "Epoch: 0 batch #: 187  of 300 sample #: 199 reconstruction error: 0.049035\n",
      "Epoch: 0 batch #: 188  of 300 sample #: 199 reconstruction error: 0.102857\n",
      "Epoch: 0 batch #: 189  of 300 sample #: 199 reconstruction error: 0.090236\n",
      "Epoch: 0 batch #: 190  of 300 sample #: 199 reconstruction error: 0.068625\n",
      "Epoch: 0 batch #: 191  of 300 sample #: 199 reconstruction error: 0.113886\n",
      "Epoch: 0 batch #: 192  of 300 sample #: 199 reconstruction error: 0.126677\n",
      "Epoch: 0 batch #: 193  of 300 sample #: 199 reconstruction error: 0.103449\n",
      "Epoch: 0 batch #: 194  of 300 sample #: 199 reconstruction error: 0.062582\n",
      "Epoch: 0 batch #: 195  of 300 sample #: 199 reconstruction error: 0.057428\n",
      "Epoch: 0 batch #: 196  of 300 sample #: 199 reconstruction error: 0.039275\n",
      "Epoch: 0 batch #: 197  of 300 sample #: 199 reconstruction error: 0.052299\n",
      "Epoch: 0 batch #: 198  of 300 sample #: 199 reconstruction error: 0.071522\n",
      "Epoch: 0 batch #: 199  of 300 sample #: 199 reconstruction error: 0.070680\n",
      "Epoch: 0 batch #: 200  of 300 sample #: 199 reconstruction error: 0.103962\n",
      "Epoch: 0 batch #: 201  of 300 sample #: 199 reconstruction error: 0.102107\n",
      "Epoch: 0 batch #: 202  of 300 sample #: 199 reconstruction error: 0.033875\n",
      "Epoch: 0 batch #: 203  of 300 sample #: 199 reconstruction error: 0.066112\n",
      "Epoch: 0 batch #: 204  of 300 sample #: 199 reconstruction error: 0.058963\n",
      "Epoch: 0 batch #: 205  of 300 sample #: 199 reconstruction error: 0.017934\n",
      "Epoch: 0 batch #: 206  of 300 sample #: 199 reconstruction error: 0.063467\n",
      "Epoch: 0 batch #: 207  of 300 sample #: 199 reconstruction error: 0.081443\n",
      "Epoch: 0 batch #: 208  of 300 sample #: 199 reconstruction error: 0.059702\n",
      "Epoch: 0 batch #: 209  of 300 sample #: 199 reconstruction error: 0.022688\n",
      "Epoch: 0 batch #: 210  of 300 sample #: 199 reconstruction error: 0.109286\n",
      "Epoch: 0 batch #: 211  of 300 sample #: 199 reconstruction error: 0.092384\n",
      "Epoch: 0 batch #: 212  of 300 sample #: 199 reconstruction error: 0.071046\n",
      "Epoch: 0 batch #: 213  of 300 sample #: 199 reconstruction error: 0.083136\n",
      "Epoch: 0 batch #: 214  of 300 sample #: 199 reconstruction error: 0.095451\n",
      "Epoch: 0 batch #: 215  of 300 sample #: 199 reconstruction error: 0.033554\n",
      "Epoch: 0 batch #: 216  of 300 sample #: 199 reconstruction error: 0.106935\n",
      "Epoch: 0 batch #: 217  of 300 sample #: 199 reconstruction error: 0.081556\n",
      "Epoch: 0 batch #: 218  of 300 sample #: 199 reconstruction error: 0.063204\n",
      "Epoch: 0 batch #: 219  of 300 sample #: 199 reconstruction error: 0.073962\n",
      "Epoch: 0 batch #: 220  of 300 sample #: 199 reconstruction error: 0.046971\n",
      "Epoch: 0 batch #: 221  of 300 sample #: 199 reconstruction error: 0.078059\n",
      "Epoch: 0 batch #: 222  of 300 sample #: 199 reconstruction error: 0.095085\n",
      "Epoch: 0 batch #: 223  of 300 sample #: 199 reconstruction error: 0.070462\n",
      "Epoch: 0 batch #: 224  of 300 sample #: 199 reconstruction error: 0.060505\n",
      "Epoch: 0 batch #: 225  of 300 sample #: 199 reconstruction error: 0.070593\n",
      "Epoch: 0 batch #: 226  of 300 sample #: 199 reconstruction error: 0.124791\n",
      "Epoch: 0 batch #: 227  of 300 sample #: 199 reconstruction error: 0.066187\n",
      "Epoch: 0 batch #: 228  of 300 sample #: 199 reconstruction error: 0.067206\n",
      "Epoch: 0 batch #: 229  of 300 sample #: 199 reconstruction error: 0.071643\n",
      "Epoch: 0 batch #: 230  of 300 sample #: 199 reconstruction error: 0.038760\n",
      "Epoch: 0 batch #: 231  of 300 sample #: 199 reconstruction error: 0.033232\n",
      "Epoch: 0 batch #: 232  of 300 sample #: 199 reconstruction error: 0.081383\n",
      "Epoch: 0 batch #: 233  of 300 sample #: 199 reconstruction error: 0.087597\n",
      "Epoch: 0 batch #: 234  of 300 sample #: 199 reconstruction error: 0.093478\n",
      "Epoch: 0 batch #: 235  of 300 sample #: 199 reconstruction error: 0.060011\n",
      "Epoch: 0 batch #: 236  of 300 sample #: 199 reconstruction error: 0.097345\n",
      "Epoch: 0 batch #: 237  of 300 sample #: 199 reconstruction error: 0.077199\n",
      "Epoch: 0 batch #: 238  of 300 sample #: 199 reconstruction error: 0.107052\n",
      "Epoch: 0 batch #: 239  of 300 sample #: 199 reconstruction error: 0.020617\n",
      "Epoch: 0 batch #: 240  of 300 sample #: 199 reconstruction error: 0.118500\n",
      "Epoch: 0 batch #: 241  of 300 sample #: 199 reconstruction error: 0.084891\n",
      "Epoch: 0 batch #: 242  of 300 sample #: 199 reconstruction error: 0.062262\n",
      "Epoch: 0 batch #: 243  of 300 sample #: 199 reconstruction error: 0.058780\n",
      "Epoch: 0 batch #: 244  of 300 sample #: 199 reconstruction error: 0.083799\n",
      "Epoch: 0 batch #: 245  of 300 sample #: 199 reconstruction error: 0.062398\n",
      "Epoch: 0 batch #: 246  of 300 sample #: 199 reconstruction error: 0.099379\n",
      "Epoch: 0 batch #: 247  of 300 sample #: 199 reconstruction error: 0.048766\n",
      "Epoch: 0 batch #: 248  of 300 sample #: 199 reconstruction error: 0.067637\n",
      "Epoch: 0 batch #: 249  of 300 sample #: 199 reconstruction error: 0.050013\n",
      "Epoch: 0 batch #: 250  of 300 sample #: 199 reconstruction error: 0.095980\n",
      "Epoch: 0 batch #: 251  of 300 sample #: 199 reconstruction error: 0.060926\n",
      "Epoch: 0 batch #: 252  of 300 sample #: 199 reconstruction error: 0.083792\n",
      "Epoch: 0 batch #: 253  of 300 sample #: 199 reconstruction error: 0.065009\n",
      "Epoch: 0 batch #: 254  of 300 sample #: 199 reconstruction error: 0.032609\n",
      "Epoch: 0 batch #: 255  of 300 sample #: 199 reconstruction error: 0.046494\n",
      "Epoch: 0 batch #: 256  of 300 sample #: 199 reconstruction error: 0.075554\n",
      "Epoch: 0 batch #: 257  of 300 sample #: 199 reconstruction error: 0.091049\n",
      "Epoch: 0 batch #: 258  of 300 sample #: 199 reconstruction error: 0.094086\n",
      "Epoch: 0 batch #: 259  of 300 sample #: 199 reconstruction error: 0.090419\n",
      "Epoch: 0 batch #: 260  of 300 sample #: 199 reconstruction error: 0.099294\n",
      "Epoch: 0 batch #: 261  of 300 sample #: 199 reconstruction error: 0.038304\n",
      "Epoch: 0 batch #: 262  of 300 sample #: 199 reconstruction error: 0.047441\n",
      "Epoch: 0 batch #: 263  of 300 sample #: 199 reconstruction error: 0.068628\n",
      "Epoch: 0 batch #: 264  of 300 sample #: 199 reconstruction error: 0.085544\n",
      "Epoch: 0 batch #: 265  of 300 sample #: 199 reconstruction error: 0.066967\n",
      "Epoch: 0 batch #: 266  of 300 sample #: 199 reconstruction error: 0.038865\n",
      "Epoch: 0 batch #: 267  of 300 sample #: 199 reconstruction error: 0.073088\n",
      "Epoch: 0 batch #: 268  of 300 sample #: 199 reconstruction error: 0.026386\n",
      "Epoch: 0 batch #: 269  of 300 sample #: 199 reconstruction error: 0.079369\n",
      "Epoch: 0 batch #: 270  of 300 sample #: 199 reconstruction error: 0.076874\n",
      "Epoch: 0 batch #: 271  of 300 sample #: 199 reconstruction error: 0.049035\n",
      "Epoch: 0 batch #: 272  of 300 sample #: 199 reconstruction error: 0.052087\n",
      "Epoch: 0 batch #: 273  of 300 sample #: 199 reconstruction error: 0.051156\n",
      "Epoch: 0 batch #: 274  of 300 sample #: 199 reconstruction error: 0.060939\n",
      "Epoch: 0 batch #: 275  of 300 sample #: 199 reconstruction error: 0.084485\n",
      "Epoch: 0 batch #: 276  of 300 sample #: 199 reconstruction error: 0.073946\n",
      "Epoch: 0 batch #: 277  of 300 sample #: 199 reconstruction error: 0.079842\n",
      "Epoch: 0 batch #: 278  of 300 sample #: 199 reconstruction error: 0.065912\n",
      "Epoch: 0 batch #: 279  of 300 sample #: 199 reconstruction error: 0.047684\n",
      "Epoch: 0 batch #: 280  of 300 sample #: 199 reconstruction error: 0.085417\n",
      "Epoch: 0 batch #: 281  of 300 sample #: 199 reconstruction error: 0.078781\n",
      "Epoch: 0 batch #: 282  of 300 sample #: 199 reconstruction error: 0.110043\n",
      "Epoch: 0 batch #: 283  of 300 sample #: 199 reconstruction error: 0.048637\n",
      "Epoch: 0 batch #: 284  of 300 sample #: 199 reconstruction error: 0.055604\n",
      "Epoch: 0 batch #: 285  of 300 sample #: 199 reconstruction error: 0.065791\n",
      "Epoch: 0 batch #: 286  of 300 sample #: 199 reconstruction error: 0.070219\n",
      "Epoch: 0 batch #: 287  of 300 sample #: 199 reconstruction error: 0.073435\n",
      "Epoch: 0 batch #: 288  of 300 sample #: 199 reconstruction error: 0.024476\n",
      "Epoch: 0 batch #: 289  of 300 sample #: 199 reconstruction error: 0.102289\n",
      "Epoch: 0 batch #: 290  of 300 sample #: 199 reconstruction error: 0.104031\n",
      "Epoch: 0 batch #: 291  of 300 sample #: 199 reconstruction error: 0.093932\n",
      "Epoch: 0 batch #: 292  of 300 sample #: 199 reconstruction error: 0.063144\n",
      "Epoch: 0 batch #: 293  of 300 sample #: 199 reconstruction error: 0.063993\n",
      "Epoch: 0 batch #: 294  of 300 sample #: 199 reconstruction error: 0.077769\n",
      "Epoch: 0 batch #: 295  of 300 sample #: 199 reconstruction error: 0.066444\n",
      "Epoch: 0 batch #: 296  of 300 sample #: 199 reconstruction error: 0.031000\n",
      "Epoch: 0 batch #: 297  of 300 sample #: 199 reconstruction error: 0.095453\n",
      "Epoch: 0 batch #: 298  of 300 sample #: 199 reconstruction error: 0.068209\n",
      "Epoch: 0 batch #: 299  of 300 sample #: 199 reconstruction error: 0.051411\n",
      "Epoch: 0 batch #: 300  of 300 sample #: 199 reconstruction error: 0.087421\n"
     ]
    }
   ],
   "source": [
    "#Parameters\n",
    "alpha = 0.01\n",
    "epochs = 1\n",
    "batchsize = 200\n",
    "weights = []\n",
    "errors = []\n",
    "batch_number = 0\n",
    "K = 1\n",
    "\n",
    "#creating datasets\n",
    "train_ds = \\\n",
    "    tf.data.Dataset.from_tensor_slices((trX, trY)).batch(batchsize)\n",
    "\n",
    "for epoch in range(epochs):\n",
    "    for batch_x, batch_y in train_ds:\n",
    "        batch_number += 1\n",
    "        for i_sample in range(batchsize):           \n",
    "            for k in range(K):\n",
    "                v0_state = batch_x[i_sample]\n",
    "                h0_state = hidden_layer(v0_state, W, hb)\n",
    "                v1_state = reconstructed_output(h0_state, W, vb)\n",
    "                h1_state = hidden_layer(v1_state, W, hb)\n",
    "\n",
    "                delta_W = tf.matmul(tf.transpose([v0_state]), h0_state) - tf.matmul(tf.transpose([v1_state]), h1_state)\n",
    "                W = W + alpha * delta_W\n",
    "\n",
    "                vb = vb + alpha * tf.reduce_mean(v0_state - v1_state, 0)\n",
    "                hb = hb + alpha * tf.reduce_mean(h0_state - h1_state, 0) \n",
    "\n",
    "                v0_state = v1_state\n",
    "\n",
    "            if i_sample == batchsize-1:\n",
    "                err = error(batch_x[i_sample], v1_state)\n",
    "                errors.append(err)\n",
    "                weights.append(W)\n",
    "                print ( 'Epoch: %d' % epoch, \n",
    "                       \"batch #: %i \" % batch_number, \"of %i\" % int(60e3/batchsize), \n",
    "                       \"sample #: %i\" % i_sample,\n",
    "                       'reconstruction error: %f' % err)\n",
    "\n"
   ]
  },
  {
   "cell_type": "markdown",
   "metadata": {},
   "source": [
    "Let's take a look at the errors at the end of each batch:\n"
   ]
  },
  {
   "cell_type": "code",
   "execution_count": 20,
   "metadata": {},
   "outputs": [
    {
     "data": {
      "image/png": "[encoded data removed]",
      "text/plain": [
       "<Figure size 432x288 with 1 Axes>"
      ]
     },
     "metadata": {
      "needs_background": "light"
     },
     "output_type": "display_data"
    }
   ],
   "source": [
    "plt.plot(errors)\n",
    "plt.xlabel(\"Batch Number\")\n",
    "plt.ylabel(\"Error\")\n",
    "plt.show()"
   ]
  },
  {
   "cell_type": "markdown",
   "metadata": {},
   "source": [
    "What is the final weight matrix $W$ after training?\n"
   ]
  },
  {
   "cell_type": "code",
   "execution_count": 21,
   "metadata": {},
   "outputs": [
    {
     "name": "stdout",
     "output_type": "stream",
     "text": [
      "[[-0.11999998 -0.3999999  -0.4999998  ... -0.29       -0.31999996\n",
      "  -0.14999999]\n",
      " [-0.14999999 -0.3799999  -0.3999999  ... -0.29999998 -0.32999995\n",
      "  -0.17      ]\n",
      " [-0.21000002 -0.35999992 -0.46999982 ... -0.30999997 -0.35999992\n",
      "  -0.13999999]\n",
      " ...\n",
      " [-0.18       -0.30999997 -0.41999987 ... -0.28       -0.32999995\n",
      "  -0.23000003]\n",
      " [-0.20000002 -0.3999999  -0.43999985 ... -0.27       -0.35999992\n",
      "  -0.14999999]\n",
      " [-0.16       -0.3899999  -0.4799998  ... -0.26000002 -0.33999994\n",
      "  -0.19000001]]\n"
     ]
    }
   ],
   "source": [
    "print(W.numpy()) # a weight matrix of shape (50,784)"
   ]
  },
  {
   "cell_type": "markdown",
   "metadata": {},
   "source": [
    "<a id=\"ref5\"></a>\n",
    "\n",
    "<h3>Learned features</h3> \n"
   ]
  },
  {
   "cell_type": "markdown",
   "metadata": {},
   "source": [
    "We can take each hidden unit and visualize the connections between that hidden unit and each element in the input vector. In our case, we have 50 hidden units. Lets visualize those.\n"
   ]
  },
  {
   "cell_type": "markdown",
   "metadata": {},
   "source": [
    "Let's plot the current weights: <b>tile_raster_images</b> helps in generating an easy to grasp image from a set of samples or weights. It transforms the <b>uw</b> (with one flattened image per row of size 784), into an array (of size $28\\times28$) in which images are reshaped and laid out like tiles on a floor.\n"
   ]
  },
  {
   "cell_type": "code",
   "execution_count": 22,
   "metadata": {},
   "outputs": [
    {
     "data": {
      "image/png": "[encoded data removed]",
      "text/plain": [
       "<Figure size 1296x1296 with 1 Axes>"
      ]
     },
     "metadata": {
      "needs_background": "light"
     },
     "output_type": "display_data"
    }
   ],
   "source": [
    "tile_raster_images(X=W.numpy().T, img_shape=(28, 28), tile_shape=(5, 10), tile_spacing=(1, 1))\n",
    "import matplotlib.pyplot as plt\n",
    "from PIL import Image\n",
    "%matplotlib inline\n",
    "image = Image.fromarray(tile_raster_images(X=W.numpy().T, img_shape=(28, 28) ,tile_shape=(5, 10), tile_spacing=(1, 1)))\n",
    "### Plot image\n",
    "plt.rcParams['figure.figsize'] = (18.0, 18.0)\n",
    "imgplot = plt.imshow(image)\n",
    "imgplot.set_cmap('gray')  "
   ]
  },
  {
   "cell_type": "markdown",
   "metadata": {},
   "source": [
    "Each tile in the above visualization corresponds to a vector of connections between a hidden unit and visible layer's units.\n"
   ]
  },
  {
   "cell_type": "markdown",
   "metadata": {},
   "source": [
    "Let's look at one of the learned weights corresponding to one of hidden units for example. In this particular square, the gray color represents weight = 0, and the whiter it is, the more positive the weights are (closer to 1). Conversely, the darker pixels are, the more negative the weights. The positive pixels will increase the probability of activation in hidden units (after multiplying by input/visible pixels), and negative pixels will decrease the probability of a unit hidden to be 1 (activated). So, why is this important?  So we can see that this specific square (hidden unit) can detect a feature (e.g. a \"/\" shape) and if it exists in the input.\n"
   ]
  },
  {
   "cell_type": "code",
   "execution_count": 23,
   "metadata": {},
   "outputs": [
    {
     "data": {
      "image/png": "[encoded data removed]",
      "text/plain": [
       "<Figure size 288x288 with 1 Axes>"
      ]
     },
     "metadata": {
      "needs_background": "light"
     },
     "output_type": "display_data"
    }
   ],
   "source": [
    "from PIL import Image\n",
    "image = Image.fromarray(tile_raster_images(X =W.numpy().T[10:11], img_shape=(28, 28),tile_shape=(1, 1), tile_spacing=(1, 1)))\n",
    "### Plot image\n",
    "plt.rcParams['figure.figsize'] = (4.0, 4.0)\n",
    "imgplot = plt.imshow(image)\n",
    "imgplot.set_cmap('gray')  "
   ]
  },
  {
   "cell_type": "markdown",
   "metadata": {},
   "source": [
    "Let's look at the reconstruction of an image now. Imagine that we have a destructed image of figure 3. Lets see if our trained network can fix it:\n",
    "\n",
    "First we plot the image:\n"
   ]
  },
  {
   "cell_type": "code",
   "execution_count": 24,
   "metadata": {},
   "outputs": [
    {
     "name": "stdout",
     "output_type": "stream",
     "text": [
      "--2021-10-15 11:15:59--  https://ibm.box.com/shared/static/vvm1b63uvuxq88vbw9znpwu5ol380mco.jpg\n",
      "Resolving ibm.box.com (ibm.box.com)... 107.152.27.197\n",
      "Connecting to ibm.box.com (ibm.box.com)|107.152.27.197|:443... connected.\n",
      "HTTP request sent, awaiting response... 301 Moved Permanently\n",
      "Location: /public/static/vvm1b63uvuxq88vbw9znpwu5ol380mco.jpg [following]\n",
      "--2021-10-15 11:16:00--  https://ibm.box.com/public/static/vvm1b63uvuxq88vbw9znpwu5ol380mco.jpg\n",
      "Reusing existing connection to ibm.box.com:443.\n",
      "HTTP request sent, awaiting response... 301 Moved Permanently\n",
      "Location: https://ibm.ent.box.com/public/static/vvm1b63uvuxq88vbw9znpwu5ol380mco.jpg [following]\n",
      "--2021-10-15 11:16:00--  https://ibm.ent.box.com/public/static/vvm1b63uvuxq88vbw9znpwu5ol380mco.jpg\n",
      "Resolving ibm.ent.box.com (ibm.ent.box.com)... 107.152.29.201\n",
      "Connecting to ibm.ent.box.com (ibm.ent.box.com)|107.152.29.201|:443... connected.\n",
      "HTTP request sent, awaiting response... 302 Found\n",
      "Location: https://public.boxcloud.com/d/1/b1!TmGADejhonXUtMcTb0_zBvC13_YfekfdTXOlUGdosohQRo95v78WzGlVafpdIYMdlDUNFX-JJHBiIGRAczWcOgvSCmaSpw7MQfVV2y3HRwFh_22Gl0Ci3FeFegqXlZdBnu8pjQAoLiBUTqTSpqt3btty0k_BNX31R7SziOJhxDqT3RGfMGNJBLhxsPf5lca4XSqrCD3QrmgW1U9Zdqbufl_MBvxDBj0jSk-PsEBcHFlZ_5qIrWgLJIbSEOJCT5xecnKu7Yha8xjUgRgW_-b6HQb35tEtLIEHz8QFZo-LE-HiE7u8OQlBeA-Ks6SNlK0U_XMpwfLTB2MZue3AbSwjZG1dJTP6sl-l0KmsSOKhe1Y_oVYutdDiLgTGg2z5FyB8w67O2cN2nL6736fMoXlrRhE3J2__p3NL_3V_HTlrFYSJRhZf6u6o7Gb0luzrX99DGWuV_nWvWNvLAOsPT7NA1pYAT_cNr1H96EiVE0yV2EoixFOuvJizMtEgXM2eULaxCdxg4G6bHwPrDPa32wNkAkUHsg4vT8AsvOyqbHyzPziMQWEf388ypoyLmDEAaZDoscp9s31vyuU-NHdsVeUgmS2PEDYsR8z5-niYv257r3zXEOj6ws5zDGmYpgiSxVN3vzDue6EX1JZL3OrKmf3ioMsUF4Teg0IuER76u80krlaSxFPn9DGniZd9kmUhloB3rFvYwAIKbwN6iM2BxgrS4A_pwjQTBhiyRFs14xEPi51XMrJaLQEx9sjR5oW9rlZ-mIuiltgPuDlT0Z9OKEzB4OUowcc_iv767J_bE479eQqC2dO_A7iHZVy5-hK1NlHhkOyYVSwaeIGWAR22HWAkJxKVxmVYbs87cWi1Fhq884FK6d3k0_YGLOn-pAPYx6FCy_ZPVJceroe-0-kEWTW2AQ5wHA5Z3RlKVsu9y-feMky2Qpn757luwz9rsTu98VHtHdAZMJ8hi5-Y2QN8oyzfjheP7U8xAKSo37sajXdhpYCeQhlvIYzqaVZb7N09pW8LA2LzpUncO1h_c5Viv2jgSRyNciKI_acDBoIz5zKVLPcVsFR4GYXiRWiv1SH7iLAJTfrJSV_YJIUGUNDYQvUsPu0py_TIRRX8KbaRWCglT2Z6WtKeVyVVZipX0Nny0ZI8LkCMlSOleBchEZAyFl7gF1OPb36sJIdTjJqHrmJhzb0qGX1R1ostZOHE-zeoR3UKH3c64RZlBdRikq05CgIq2aPahusp6nrgNAwvKjYZuUJdkxjQlBObWe5UiMlq2l79zjP8X-9lKWTjO-FeOWvu_QwcZbrvkO6Q4SO5eHSZLqs08AebIitR34oI_vxt85jw_Cy8YKZqhTPgD-caTQ4WMkemyT2_U34WDZsdXJuQ7OKaSxaA0OTVvyAGUXglA5oABR8AtDeugnK7sP9EHKekWMYQj7jjPw../download [following]\n",
      "--2021-10-15 11:16:01--  https://public.boxcloud.com/d/1/b1!TmGADejhonXUtMcTb0_zBvC13_YfekfdTXOlUGdosohQRo95v78WzGlVafpdIYMdlDUNFX-JJHBiIGRAczWcOgvSCmaSpw7MQfVV2y3HRwFh_22Gl0Ci3FeFegqXlZdBnu8pjQAoLiBUTqTSpqt3btty0k_BNX31R7SziOJhxDqT3RGfMGNJBLhxsPf5lca4XSqrCD3QrmgW1U9Zdqbufl_MBvxDBj0jSk-PsEBcHFlZ_5qIrWgLJIbSEOJCT5xecnKu7Yha8xjUgRgW_-b6HQb35tEtLIEHz8QFZo-LE-HiE7u8OQlBeA-Ks6SNlK0U_XMpwfLTB2MZue3AbSwjZG1dJTP6sl-l0KmsSOKhe1Y_oVYutdDiLgTGg2z5FyB8w67O2cN2nL6736fMoXlrRhE3J2__p3NL_3V_HTlrFYSJRhZf6u6o7Gb0luzrX99DGWuV_nWvWNvLAOsPT7NA1pYAT_cNr1H96EiVE0yV2EoixFOuvJizMtEgXM2eULaxCdxg4G6bHwPrDPa32wNkAkUHsg4vT8AsvOyqbHyzPziMQWEf388ypoyLmDEAaZDoscp9s31vyuU-NHdsVeUgmS2PEDYsR8z5-niYv257r3zXEOj6ws5zDGmYpgiSxVN3vzDue6EX1JZL3OrKmf3ioMsUF4Teg0IuER76u80krlaSxFPn9DGniZd9kmUhloB3rFvYwAIKbwN6iM2BxgrS4A_pwjQTBhiyRFs14xEPi51XMrJaLQEx9sjR5oW9rlZ-mIuiltgPuDlT0Z9OKEzB4OUowcc_iv767J_bE479eQqC2dO_A7iHZVy5-hK1NlHhkOyYVSwaeIGWAR22HWAkJxKVxmVYbs87cWi1Fhq884FK6d3k0_YGLOn-pAPYx6FCy_ZPVJceroe-0-kEWTW2AQ5wHA5Z3RlKVsu9y-feMky2Qpn757luwz9rsTu98VHtHdAZMJ8hi5-Y2QN8oyzfjheP7U8xAKSo37sajXdhpYCeQhlvIYzqaVZb7N09pW8LA2LzpUncO1h_c5Viv2jgSRyNciKI_acDBoIz5zKVLPcVsFR4GYXiRWiv1SH7iLAJTfrJSV_YJIUGUNDYQvUsPu0py_TIRRX8KbaRWCglT2Z6WtKeVyVVZipX0Nny0ZI8LkCMlSOleBchEZAyFl7gF1OPb36sJIdTjJqHrmJhzb0qGX1R1ostZOHE-zeoR3UKH3c64RZlBdRikq05CgIq2aPahusp6nrgNAwvKjYZuUJdkxjQlBObWe5UiMlq2l79zjP8X-9lKWTjO-FeOWvu_QwcZbrvkO6Q4SO5eHSZLqs08AebIitR34oI_vxt85jw_Cy8YKZqhTPgD-caTQ4WMkemyT2_U34WDZsdXJuQ7OKaSxaA0OTVvyAGUXglA5oABR8AtDeugnK7sP9EHKekWMYQj7jjPw../download\n",
      "Resolving public.boxcloud.com (public.boxcloud.com)... 107.152.27.200\n",
      "Connecting to public.boxcloud.com (public.boxcloud.com)|107.152.27.200|:443... connected.\n",
      "HTTP request sent, awaiting response... 200 OK\n",
      "Length: 24383 (24K) [image/jpeg]\n",
      "Saving to: ‘destructed3.jpg’\n",
      "\n",
      "destructed3.jpg     100%[===================>]  23.81K  --.-KB/s    in 0.08s   \n",
      "\n",
      "2021-10-15 11:16:02 (317 KB/s) - ‘destructed3.jpg’ saved [24383/24383]\n",
      "\n"
     ]
    },
    {
     "data": {
      "image/png": "[encoded data removed]",
      "text/plain": [
       "<PIL.JpegImagePlugin.JpegImageFile image mode=RGB size=181x181 at 0x7EFC44660FD0>"
      ]
     },
     "execution_count": 24,
     "metadata": {},
     "output_type": "execute_result"
    }
   ],
   "source": [
    "!wget -O destructed3.jpg  https://ibm.box.com/shared/static/vvm1b63uvuxq88vbw9znpwu5ol380mco.jpg\n",
    "img = Image.open('destructed3.jpg')\n",
    "img"
   ]
  },
  {
   "cell_type": "markdown",
   "metadata": {},
   "source": [
    "Now let's pass this image through the neural net:\n"
   ]
  },
  {
   "cell_type": "code",
   "execution_count": 25,
   "metadata": {},
   "outputs": [],
   "source": [
    "# convert the image to a 1d numpy array\n",
    "sample_case = np.array(img.convert('I').resize((28,28))).ravel().reshape((1, -1))/255.0\n",
    "\n",
    "sample_case = tf.cast(sample_case, dtype=tf.float32)"
   ]
  },
  {
   "cell_type": "markdown",
   "metadata": {},
   "source": [
    "Feed the sample case into the network and reconstruct the output:\n"
   ]
  },
  {
   "cell_type": "code",
   "execution_count": 26,
   "metadata": {},
   "outputs": [
    {
     "name": "stdout",
     "output_type": "stream",
     "text": [
      "Probability nodes in hidden layer: tf.Tensor(\n",
      "[[6.1242473e-15 9.9996126e-01 1.3038516e-04 1.0000000e+00 4.5535564e-03\n",
      "  6.1562652e-08 7.0362627e-10 3.4113652e-06 9.9999976e-01 5.2682239e-08\n",
      "  1.0000695e-06 3.9894581e-03 1.0000000e+00 9.9999726e-01 9.9371600e-01\n",
      "  5.0775719e-13 1.5682220e-01 9.9022901e-01 4.9466275e-06 1.0000000e+00\n",
      "  3.7103911e-13 9.5035410e-01 4.7418880e-06 6.3787287e-10 9.9999893e-01\n",
      "  9.9992025e-01 4.4351892e-12 8.9122224e-01 7.3263902e-09 1.0782247e-18\n",
      "  4.1539937e-02 9.9976766e-01 9.3129027e-05 2.5892830e-05 4.5336023e-07\n",
      "  1.0000000e+00 4.5690918e-10 9.6629649e-01 3.9832781e-07 2.3957789e-03\n",
      "  1.0000000e+00 9.9999464e-01 5.9981883e-01 1.0196984e-02 5.0129504e-05\n",
      "  4.2401204e-11 6.6797384e-14 1.0569295e-12 7.4140173e-03 2.6592869e-11]], shape=(1, 50), dtype=float32)\n",
      "activated nodes in hidden layer: tf.Tensor(\n",
      "[[0. 1. 0. 1. 0. 0. 0. 0. 1. 0. 0. 0. 1. 1. 1. 0. 0. 1. 0. 1. 0. 1. 0. 0.\n",
      "  1. 1. 0. 1. 0. 0. 0. 1. 0. 0. 0. 1. 0. 1. 0. 0. 1. 1. 1. 0. 0. 0. 0. 0.\n",
      "  0. 0.]], shape=(1, 50), dtype=float32)\n",
      "tf.Tensor(\n",
      "[[1.17933894e-04 8.91324598e-05 1.90585852e-04 2.59816647e-04\n",
      "  1.75923109e-04 1.54554844e-04 1.44064426e-04 1.21525482e-04\n",
      "  1.57624483e-04 1.70767307e-04 1.60753727e-04 1.72495842e-04\n",
      "  1.16614072e-04 1.67459249e-04 1.50114298e-04 1.56342983e-04\n",
      "  1.39832497e-04 1.67399645e-04 1.84983015e-04 1.57594681e-04\n",
      "  1.39832497e-04 1.12182170e-04 9.55953510e-05 2.54750252e-04\n",
      "  1.08866712e-04 1.31666660e-04 1.24007463e-04 1.21525482e-04\n",
      "  2.47120857e-04 2.59816647e-04 1.07783446e-04 1.62452459e-04\n",
      "  2.05129385e-04 1.89125538e-04 1.02482576e-04 1.82181597e-04\n",
      "  1.95026398e-04 1.48296356e-04 2.13265419e-04 4.09930944e-04\n",
      "  3.14205885e-04 2.42054462e-04 2.53856182e-04 1.72615051e-04\n",
      "  2.50071287e-04 3.31789255e-04 1.24901533e-04 1.98185444e-04\n",
      "  1.89721584e-04 2.63214111e-04 1.61945820e-04 1.63376331e-04\n",
      "  1.34259462e-04 1.57624483e-04 1.54554844e-04 9.55954456e-05\n",
      "  1.77681446e-04 1.14448449e-04 1.14457405e-04 1.51664019e-04\n",
      "  1.51455402e-04 1.35302544e-04 1.52140856e-04 1.97112560e-04\n",
      "  8.60215005e-05 1.30116940e-04 9.87583480e-05 9.79370234e-05\n",
      "  6.03717854e-05 5.81275672e-05 1.20364457e-04 2.58677064e-05\n",
      "  3.16009682e-05 2.34722920e-05 1.41720084e-05 1.79759718e-05\n",
      "  1.96202345e-05 5.46971605e-05 1.06962725e-04 2.74002552e-04\n",
      "  1.28567219e-04 1.86175108e-04 1.26481056e-04 1.27792358e-04\n",
      "  1.54554844e-04 1.90585852e-04 1.47819519e-04 8.46261828e-05\n",
      "  1.97559595e-04 1.37031078e-04 2.30163336e-04 1.88648701e-04\n",
      "  9.37909936e-05 3.06034235e-05 1.95443008e-05 1.16481742e-05\n",
      "  2.10818034e-05 4.60330593e-05 1.36911869e-04 3.73750925e-04\n",
      "  2.79188156e-04 3.68982553e-04 1.77085400e-04 7.57083762e-05\n",
      "  7.21540637e-05 6.66898704e-05 1.08568835e-04 2.46018171e-04\n",
      "  2.57283449e-04 2.36839056e-04 1.57177448e-04 1.54465437e-04\n",
      "  1.49935484e-04 1.40875578e-04 2.09271908e-04 1.84357166e-04\n",
      "  1.67906284e-04 2.70932913e-04 2.75880098e-04 1.13952039e-04\n",
      "  9.85616061e-05 6.83261460e-05 2.22921371e-04 1.34932995e-03\n",
      "  1.92022324e-03 6.27020001e-03 7.71382451e-03 2.86067724e-02\n",
      "  3.35358977e-02 1.38950646e-02 6.90552592e-03 2.85208225e-03\n",
      "  1.26129389e-03 8.57800245e-04 6.24001026e-04 1.16109848e-03\n",
      "  8.78185034e-04 3.43203545e-04 1.57147646e-04 1.15666742e-04\n",
      "  1.86771154e-04 1.09960863e-04 2.35676765e-04 3.23027372e-04\n",
      "  4.81754541e-04 5.88834286e-04 3.61084938e-04 4.92572784e-04\n",
      "  6.97642565e-04 2.18003988e-03 9.20200348e-03 3.04644704e-02\n",
      "  1.82922125e-01 2.98514396e-01 6.42087936e-01 8.09949636e-01\n",
      "  7.93495297e-01 5.93304396e-01 4.97542083e-01 1.30954742e-01\n",
      "  3.22132409e-02 1.68748498e-02 8.79883766e-03 4.52569127e-03\n",
      "  1.85051560e-03 8.89748335e-04 8.18103552e-04 1.41352415e-04\n",
      "  2.39849091e-04 1.55329704e-04 2.17378139e-04 7.24911690e-04\n",
      "  1.14214420e-03 1.03718042e-03 2.98199058e-03 2.20540166e-03\n",
      "  4.97552752e-03 1.99668705e-02 1.37045801e-01 6.64426088e-01\n",
      "  8.06401014e-01 9.43974376e-01 9.69880700e-01 9.50358987e-01\n",
      "  9.47945595e-01 8.86637866e-01 7.80773699e-01 6.69711709e-01\n",
      "  2.37810820e-01 9.04116631e-02 2.87885070e-02 2.11493373e-02\n",
      "  5.75342774e-03 2.03061104e-03 1.44329667e-03 2.70336866e-04\n",
      "  1.31666660e-04 3.13222408e-04 3.35097313e-04 1.25291944e-03\n",
      "  1.35505199e-03 4.63622808e-03 5.41377068e-03 7.38841295e-03\n",
      "  2.22192109e-02 1.45363837e-01 6.20865285e-01 9.38745975e-01\n",
      "  9.68335390e-01 9.73276138e-01 9.44502115e-01 9.11207438e-01\n",
      "  8.80674064e-01 6.67421937e-01 7.18356490e-01 7.99543321e-01\n",
      "  6.35879934e-01 3.03336680e-01 8.64385664e-02 4.15422916e-02\n",
      "  6.58753514e-03 2.04256177e-03 1.18526816e-03 1.91658735e-04\n",
      "  1.13906623e-04 1.91330910e-04 6.22004271e-04 6.79939985e-04\n",
      "  1.72159076e-03 3.86145711e-03 3.39707732e-03 5.61642647e-03\n",
      "  4.45895791e-02 3.65029454e-01 6.22414947e-01 9.18677688e-01\n",
      "  8.15461218e-01 7.64450192e-01 4.91539299e-01 2.92782426e-01\n",
      "  2.53014445e-01 2.86340296e-01 7.07602501e-01 8.61899972e-01\n",
      "  8.49893332e-01 5.34515738e-01 1.46556258e-01 3.39608192e-02\n",
      "  1.04542971e-02 2.32279301e-03 6.40153885e-04 1.63555145e-04\n",
      "  1.99079514e-04 2.68995762e-04 4.03612852e-04 7.65532255e-04\n",
      "  1.44442916e-03 6.15221262e-03 1.00773275e-02 1.05572641e-02\n",
      "  1.01799786e-01 2.81772137e-01 6.39942229e-01 6.33652568e-01\n",
      "  2.46965826e-01 1.43046945e-01 4.39754426e-02 4.08685505e-02\n",
      "  1.12173557e-01 2.13509858e-01 7.73487210e-01 9.37256992e-01\n",
      "  8.39056730e-01 4.59770709e-01 1.06506884e-01 2.63301730e-02\n",
      "  7.86188245e-03 2.46101618e-03 5.21689653e-04 2.18629837e-04\n",
      "  1.90913677e-04 2.76833773e-04 3.76909971e-04 6.13629818e-04\n",
      "  1.72540545e-03 3.63320112e-03 7.31423497e-03 4.44009304e-02\n",
      "  1.90021098e-01 4.99490112e-01 2.94651359e-01 1.51001364e-01\n",
      "  7.18467534e-02 4.49324846e-02 1.50462985e-02 5.06604910e-02\n",
      "  1.92123890e-01 6.50412738e-01 9.03690040e-01 9.41734910e-01\n",
      "  8.27248454e-01 2.28957772e-01 3.69269848e-02 1.30693018e-02\n",
      "  4.76479530e-03 7.89374113e-04 5.99980354e-04 1.39057636e-04\n",
      "  1.50382519e-04 4.61578369e-04 4.85122204e-04 9.13769007e-04\n",
      "  1.69417262e-03 7.89400935e-03 3.39181125e-02 4.37413752e-02\n",
      "  2.58990228e-01 2.23602831e-01 1.14072382e-01 3.69993150e-02\n",
      "  5.30582070e-02 1.15308464e-01 1.82073951e-01 1.98977560e-01\n",
      "  6.11072898e-01 8.17822754e-01 9.50546265e-01 8.76176119e-01\n",
      "  3.95608962e-01 2.66050994e-02 7.93212652e-03 3.76930833e-03\n",
      "  1.69575214e-03 7.53432512e-04 2.57968903e-04 1.43080950e-04\n",
      "  1.24514103e-04 1.92731619e-04 3.79741192e-04 3.67432833e-04\n",
      "  1.34962797e-03 4.30524349e-03 6.42277896e-02 8.22198689e-02\n",
      "  2.06346065e-01 1.25592649e-01 5.53033352e-02 7.81317949e-02\n",
      "  3.20398092e-01 5.55215895e-01 7.20014811e-01 8.11618507e-01\n",
      "  8.20524216e-01 9.09452379e-01 8.46634686e-01 4.25533980e-01\n",
      "  1.09269977e-01 8.69873166e-03 2.74458528e-03 2.24843621e-03\n",
      "  6.73115253e-04 4.19110060e-04 3.28540802e-04 2.56270170e-04\n",
      "  1.18383396e-04 1.43378973e-04 5.92947006e-04 6.20037317e-04\n",
      "  1.96406245e-03 5.88908792e-03 1.98387206e-02 1.08618557e-01\n",
      "  1.36497796e-01 2.35588580e-01 1.96957022e-01 6.60621524e-01\n",
      "  8.97467375e-01 9.51175690e-01 8.82182956e-01 8.15528393e-01\n",
      "  7.68378735e-01 7.60171652e-01 5.65741956e-01 1.50427759e-01\n",
      "  2.60684490e-02 3.88664007e-03 1.55153871e-03 7.47531652e-04\n",
      "  5.89042902e-04 2.89171934e-04 2.79217958e-04 2.50488520e-04\n",
      "  2.34544277e-04 1.72793865e-04 2.36153603e-04 7.90029764e-04\n",
      "  9.21130180e-04 3.02153826e-03 6.78029656e-03 4.57036495e-02\n",
      "  7.95939565e-02 1.21624827e-01 4.19766128e-01 8.28470588e-01\n",
      "  9.71666694e-01 9.77303028e-01 9.49903667e-01 9.07313645e-01\n",
      "  8.34894836e-01 7.14775443e-01 2.75941133e-01 8.75272751e-02\n",
      "  5.27974963e-03 1.62208080e-03 1.56083703e-03 1.31142139e-03\n",
      "  7.84486532e-04 2.04354525e-04 1.68651342e-04 9.17283105e-05\n",
      "  2.12937593e-04 1.54614449e-04 3.43024731e-04 7.73817301e-04\n",
      "  1.38258934e-03 1.91813707e-03 7.34829903e-03 1.65517628e-02\n",
      "  3.84100676e-02 9.72794890e-02 2.15211242e-01 7.72638679e-01\n",
      "  7.88113534e-01 8.73227596e-01 6.95080638e-01 6.60513639e-01\n",
      "  8.11304450e-01 7.02251911e-01 2.60282576e-01 2.07042396e-02\n",
      "  2.55891681e-03 1.21450424e-03 1.03259087e-03 8.48233700e-04\n",
      "  6.99847937e-04 1.94489956e-04 2.25514174e-04 1.59323215e-04\n",
      "  1.33514404e-04 1.08024760e-04 3.57687473e-04 1.44863129e-03\n",
      "  1.18306279e-03 2.50697136e-03 7.01752305e-03 1.02975965e-02\n",
      "  1.56300068e-02 1.44697130e-02 3.81757021e-02 7.93323517e-02\n",
      "  2.06873298e-01 1.45752966e-01 3.06513131e-01 5.11561036e-01\n",
      "  8.11181307e-01 7.64336288e-01 1.93623245e-01 2.40158141e-02\n",
      "  1.13719702e-03 1.68728828e-03 2.28533149e-03 9.90390778e-04\n",
      "  4.02003527e-04 1.94162130e-04 1.93923712e-04 2.03728676e-04\n",
      "  1.20316370e-04 1.55001879e-04 5.90026379e-04 2.06375122e-03\n",
      "  4.45711613e-03 3.64449620e-03 8.56977701e-03 4.09486890e-03\n",
      "  3.93083692e-03 3.41245532e-03 4.92200255e-03 2.30011046e-02\n",
      "  3.65241468e-02 3.26315165e-02 8.54433775e-02 3.81471246e-01\n",
      "  7.65444696e-01 5.23689330e-01 1.37305826e-01 1.82809234e-02\n",
      "  4.61483002e-03 4.71034646e-03 2.96574831e-03 2.35134363e-03\n",
      "  1.07765198e-03 2.67505646e-04 2.40623951e-04 7.60045514e-05\n",
      "  1.76101923e-04 2.11179256e-04 6.24239445e-04 4.75633144e-03\n",
      "  1.36969984e-02 1.15681589e-02 2.52357423e-02 7.84346461e-03\n",
      "  3.92499566e-03 1.99654698e-03 5.13601303e-03 7.03996420e-03\n",
      "  9.72238183e-03 8.27366114e-03 3.14649940e-02 2.75141180e-01\n",
      "  5.76506495e-01 4.73564237e-01 1.59058034e-01 6.89186752e-02\n",
      "  1.87962353e-02 8.70844722e-03 4.28679585e-03 2.97683477e-03\n",
      "  9.27209854e-04 3.51279974e-04 1.39117241e-04 2.37911940e-04\n",
      "  1.07467007e-04 1.82837248e-04 1.26042962e-03 1.04460120e-02\n",
      "  2.59517431e-02 7.84023106e-02 4.69047427e-02 2.22384632e-02\n",
      "  8.71524215e-03 9.42927599e-03 8.81668925e-03 2.26158500e-02\n",
      "  2.51450241e-02 1.61426663e-02 4.02350426e-02 1.56637043e-01\n",
      "  5.25536001e-01 5.76698482e-01 3.64991605e-01 9.29559171e-02\n",
      "  1.54304504e-02 3.72987986e-03 4.57462668e-03 1.96129084e-03\n",
      "  1.54909492e-03 9.39756632e-04 3.69459391e-04 1.06110194e-04\n",
      "  1.27762556e-04 2.17914581e-04 2.14245915e-03 1.41951442e-02\n",
      "  6.97537065e-02 1.17861271e-01 2.94631183e-01 1.49520755e-01\n",
      "  4.90074158e-02 6.98402822e-02 3.97964120e-02 4.24026847e-02\n",
      "  2.89997458e-02 4.54383194e-02 3.83410752e-02 4.32231367e-01\n",
      "  7.60140300e-01 6.92965806e-01 4.99895900e-01 1.09878033e-01\n",
      "  7.37810135e-03 3.02371383e-03 2.71052122e-03 2.95495987e-03\n",
      "  1.53931975e-03 7.80493021e-04 3.27408314e-04 1.31666660e-04\n",
      "  1.85638666e-04 2.47210264e-04 1.95786357e-03 4.63009477e-02\n",
      "  1.14989936e-01 2.47920275e-01 3.48795295e-01 2.42844462e-01\n",
      "  2.68324167e-01 1.43414259e-01 1.86214209e-01 8.02121758e-02\n",
      "  6.90968037e-02 7.31816888e-02 1.88407987e-01 5.80257297e-01\n",
      "  8.40657830e-01 8.31577837e-01 4.04488891e-01 3.94607484e-02\n",
      "  6.53219223e-03 3.97792459e-03 2.05770135e-03 1.84243917e-03\n",
      "  9.01818275e-04 1.04016066e-03 2.66432762e-04 2.18570232e-04\n",
      "  9.49638343e-05 1.17467731e-04 1.12050772e-03 1.66178048e-02\n",
      "  1.01324022e-01 1.87738031e-01 2.96168774e-01 4.24812853e-01\n",
      "  3.70987177e-01 4.45051730e-01 5.86213470e-01 4.86417681e-01\n",
      "  3.38089854e-01 4.32047546e-01 6.94515169e-01 7.27251232e-01\n",
      "  8.21546078e-01 6.14285767e-01 1.23797715e-01 1.78199708e-02\n",
      "  4.37325239e-03 1.95193291e-03 1.14488602e-03 1.56301260e-03\n",
      "  6.04629517e-04 6.97255135e-04 1.28567219e-04 1.22876983e-04\n",
      "  7.74880828e-05 1.81287527e-04 3.37988138e-04 7.12248683e-03\n",
      "  3.10704112e-02 1.20456100e-01 2.19267488e-01 4.86592829e-01\n",
      "  6.79616690e-01 8.40998888e-01 9.11873639e-01 8.87217581e-01\n",
      "  9.01981115e-01 9.01261389e-01 8.15690875e-01 7.06392050e-01\n",
      "  2.74581850e-01 1.75061196e-01 2.88330317e-02 6.23908639e-03\n",
      "  3.45510244e-03 6.67542219e-04 1.24308467e-03 1.09988451e-03\n",
      "  4.28915024e-04 3.85195017e-04 1.96337700e-04 1.86771154e-04\n",
      "  9.18470032e-05 1.11066016e-04 1.26630068e-04 8.64744186e-04\n",
      "  1.49656534e-02 5.25341332e-02 1.07947409e-01 2.42624819e-01\n",
      "  3.10850054e-01 8.28503489e-01 8.44574690e-01 6.45084739e-01\n",
      "  6.38190150e-01 5.78626394e-01 3.91744852e-01 1.75721377e-01\n",
      "  8.85631144e-02 4.32889462e-02 1.54556930e-02 2.56428123e-03\n",
      "  2.39825249e-03 9.39130783e-04 1.69089437e-03 4.93437052e-04\n",
      "  1.72376633e-04 1.60127878e-04 1.34736300e-04 1.22746860e-04\n",
      "  1.33007765e-04 1.09960863e-04 1.28030777e-04 1.84744596e-04\n",
      "  6.01619482e-04 1.07058883e-03 4.67026234e-03 2.19879448e-02\n",
      "  3.85110378e-02 3.69385779e-02 4.77602184e-02 2.69851983e-02\n",
      "  4.02058065e-02 2.12661028e-02 1.70631707e-02 1.57168508e-02\n",
      "  1.94841921e-02 7.29995966e-03 1.64368749e-03 7.79092312e-04\n",
      "  7.78436661e-04 3.11851501e-04 4.85688448e-04 2.74002552e-04\n",
      "  2.52038240e-04 1.41292810e-04 2.18510628e-04 2.57223845e-04\n",
      "  1.59204006e-04 1.54554844e-04 1.17933894e-04 1.75565481e-04\n",
      "  2.27242708e-04 3.88473272e-04 1.22603774e-03 7.98851252e-04\n",
      "  3.28212976e-04 3.77774239e-04 4.43965197e-04 4.85509634e-04\n",
      "  5.51730394e-04 2.41011381e-04 3.29315662e-04 9.40620899e-04\n",
      "  9.36776400e-04 1.01357698e-03 3.30299139e-04 3.32832336e-04\n",
      "  2.45362520e-04 2.75552273e-04 3.37362289e-04 1.89214945e-04\n",
      "  1.47610903e-04 7.56090230e-05 1.56044960e-04 1.90585852e-04\n",
      "  1.57594681e-04 1.17933894e-04 1.22746860e-04 1.62392855e-04\n",
      "  1.50918961e-04 1.23253485e-04 2.60442495e-04 3.21716070e-04\n",
      "  4.70310450e-04 6.13361597e-04 8.91536474e-04 6.89357519e-04\n",
      "  4.83870506e-04 3.65614891e-04 5.52743673e-04 4.58776951e-04\n",
      "  5.95808029e-04 5.41776419e-04 4.14162874e-04 2.42561102e-04\n",
      "  1.02033497e-04 2.42292881e-04 2.35408545e-04 1.85757875e-04\n",
      "  1.51485205e-04 1.62452459e-04 1.21525482e-04 1.35660172e-04]], shape=(1, 784), dtype=float32)\n"
     ]
    }
   ],
   "source": [
    "hh0_p = tf.nn.sigmoid(tf.matmul(sample_case, W) + hb)\n",
    "hh0_s = tf.round(hh0_p)\n",
    "\n",
    "print(\"Probability nodes in hidden layer:\" ,hh0_p)\n",
    "print(\"activated nodes in hidden layer:\" ,hh0_s)\n",
    "\n",
    "# reconstruct\n",
    "vv1_p = tf.nn.sigmoid(tf.matmul(hh0_s, tf.transpose(W)) + vb)\n",
    "\n",
    "print(vv1_p)\n",
    "#rec_prob = sess.run(vv1_p, feed_dict={ hh0_s: hh0_s_val, W: prv_w, vb: prv_vb})"
   ]
  },
  {
   "cell_type": "markdown",
   "metadata": {},
   "source": [
    "Here we plot the reconstructed image:\n"
   ]
  },
  {
   "cell_type": "code",
   "execution_count": 27,
   "metadata": {},
   "outputs": [
    {
     "data": {
      "image/png": "[encoded data removed]",
      "text/plain": [
       "<Figure size 288x288 with 1 Axes>"
      ]
     },
     "metadata": {
      "needs_background": "light"
     },
     "output_type": "display_data"
    }
   ],
   "source": [
    "img = Image.fromarray(tile_raster_images(X=vv1_p.numpy(), img_shape=(28, 28),tile_shape=(1, 1), tile_spacing=(1, 1)))\n",
    "plt.rcParams['figure.figsize'] = (4.0, 4.0)\n",
    "imgplot = plt.imshow(img)\n",
    "imgplot.set_cmap('gray') "
   ]
  },
  {
   "cell_type": "markdown",
   "metadata": {},
   "source": [
    "<hr>\n",
    "\n",
    "## Want to learn more?\n",
    "\n",
    "Also, you can use **Watson Studio** to run these notebooks faster with bigger datasets.**Watson Studio** is IBM’s leading cloud solution for data scientists, built by data scientists. With Jupyter notebooks, RStudio, Apache Spark and popular libraries pre-packaged in the cloud, **Watson Studio** enables data scientists to collaborate on their projects without having to install anything. Join the fast-growing community of **Watson Studio** users today with a free account at [Watson Studio](https://cocl.us/ML0120EN_DSX).This is the end of this lesson. Thank you for reading this notebook, and good luck on your studies.\n"
   ]
  },
  {
   "cell_type": "markdown",
   "metadata": {},
   "source": [
    "### Thanks for completing this lesson!\n",
    "\n",
    "Notebook created by: <a href = \"https://ca.linkedin.com/in/saeedaghabozorgi?utm_medium=Exinfluencer&utm_source=Exinfluencer&utm_content=000026UJ&utm_term=10006555&utm_id=NA-SkillsNetwork-Channel-SkillsNetworkCoursesIBMDeveloperSkillsNetworkDL0120ENSkillsNetwork20629446-2021-01-01\">Saeed Aghabozorgi</a>\n",
    "\n",
    "Updated to TF 2.X by  <a href=\"https://ca.linkedin.com/in/nilmeier?utm_medium=Exinfluencer&utm_source=Exinfluencer&utm_content=000026UJ&utm_term=10006555&utm_id=NA-SkillsNetwork-Channel-SkillsNetworkCoursesIBMDeveloperSkillsNetworkDL0120ENSkillsNetwork20629446-2021-01-01\"> Jerome Nilmeier</a><br />\n"
   ]
  },
  {
   "cell_type": "markdown",
   "metadata": {},
   "source": [
    "### References:\n",
    "\n",
    "[https://en.wikipedia.org/wiki/Restricted_Boltzmann_machine](https://en.wikipedia.org/wiki/Restricted_Boltzmann_machine?utm_medium=Exinfluencer&utm_source=Exinfluencer&utm_content=000026UJ&utm_term=10006555&utm_id=NA-SkillsNetwork-Channel-SkillsNetworkCoursesIBMDeveloperSkillsNetworkDL0120ENSkillsNetwork20629446-2021-01-01)\\\n",
    "[http://deeplearning.net/tutorial/rbm.html](http://deeplearning.net/tutorial/rbm.html?utm_medium=Exinfluencer&utm_source=Exinfluencer&utm_content=000026UJ&utm_term=10006555&utm_id=NA-SkillsNetwork-Channel-SkillsNetworkCoursesIBMDeveloperSkillsNetworkDL0120ENSkillsNetwork20629446-2021-01-01)\\\n",
    "[http://www.cs.utoronto.ca/\\~hinton/absps/netflixICML.pdf](http://www.cs.utoronto.ca/\\~hinton/absps/netflixICML.pdf?utm_medium=Exinfluencer&utm_source=Exinfluencer&utm_content=000026UJ&utm_term=10006555&utm_id=NA-SkillsNetwork-Channel-SkillsNetworkCoursesIBMDeveloperSkillsNetworkDL0120ENSkillsNetwork20629446-2021-01-01)<br>\n",
    "<http://imonad.com/rbm/restricted-boltzmann-machine/>\n"
   ]
  },
  {
   "cell_type": "markdown",
   "metadata": {},
   "source": [
    "<hr>\n",
    "\n",
    "Copyright © 2018 [Cognitive Class](https://cocl.us/DX0108EN_CC). This notebook and its source code are released under the terms of the [MIT License](https://bigdatauniversity.com/mit-license/?utm_medium=Exinfluencer&utm_source=Exinfluencer&utm_content=000026UJ&utm_term=10006555&utm_id=NA-SkillsNetwork-Channel-SkillsNetworkCoursesIBMDeveloperSkillsNetworkDL0120ENSkillsNetwork20629446-2021-01-01).\n"
   ]
  }
 ],
 "metadata": {
  "kernelspec": {
   "display_name": "Python",
   "language": "python",
   "name": "conda-env-python-py"
  },
  "language_info": {
   "codemirror_mode": {
    "name": "ipython",
    "version": 3
   },
   "file_extension": ".py",
   "mimetype": "text/x-python",
   "name": "python",
   "nbconvert_exporter": "python",
   "pygments_lexer": "ipython3",
   "version": "3.7.10"
  },
  "widgets": {
   "state": {},
   "version": "1.1.2"
  }
 },
 "nbformat": 4,
 "nbformat_minor": 4
}
