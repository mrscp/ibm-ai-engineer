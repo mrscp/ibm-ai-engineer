{
 "cells": [
  {
   "cell_type": "markdown",
   "metadata": {},
   "source": [
    "<a href=\"https://www.skills.network/?utm_medium=Exinfluencer&utm_source=Exinfluencer&utm_content=000026UJ&utm_term=10006555&utm_id=NA-SkillsNetwork-Channel-SkillsNetworkCoursesIBMDeveloperSkillsNetworkDL0120ENSkillsNetwork20629446-2021-01-01\"><img src=\"https://cf-courses-data.s3.us.cloud-object-storage.appdomain.cloud/IBM-DL0120ENedX/labs/Template%20for%20Instructional%20Hands-on%20Labs/images/IDSNlogo.png\" width=\"400px\" align=\"center\"></a>\n",
    "\n",
    "<h1 align=\"center\"><font size=\"5\">TENSORFLOW'S HELLO WORLD</font></h1>\n"
   ]
  },
  {
   "cell_type": "markdown",
   "metadata": {},
   "source": [
    "<h2>TENSORFLOW'S HELLO WORLD</h2>\n",
    "Estimated time needed: <b>15</b> minutes\n",
    "\n",
    "<h3>Objective for this Notebook<h3>    \n",
    "<h5> 1. How does TensorFlow work?</h5>\n",
    "<h5> 2. Building a Graph. </h5>\n",
    "<h5> 3. Meaning of Tensor? </h5>\n",
    "<h5> 4. Defining multidimensional arrays using TensorFlow. </h5>\n",
    "<h5> 5. How TensorFlow handles Variables. </h5>\n",
    "<h5> 6. What are these Placeholders and what do they do? </h5>\n",
    "<h5> 7. Learn Operations using TensorFlow. </h5>     \n"
   ]
  },
  {
   "cell_type": "markdown",
   "metadata": {},
   "source": [
    "<div class=\"alert alert-block alert-info\" style=\"margin-top: 20px\">\n",
    "<font size = 3><strong>In this notebook we will overview the basics of TensorFlow, learn it's structure and see what is the motivation to use it</strong></font>\n",
    "<br>\n",
    "<h2>Table of Contents</h2>\n",
    "<ol>\n",
    "    <li><a href=\"https://#ref2\">How does TensorFlow work?</a></li>\n",
    "    <li><a href=\"https://#ref3\">tf.function and AutoGraph</a></li>\n",
    "    <li><a href=\"https://#ref4\">Defining multidimensional arrays using TensorFlow</a></li>\n",
    "    <li><a href=\"https://#ref5\">Why Tensors?</a></li>\n",
    "    <li><a href=\"https://#ref6\">Variables</a></li>\n",
    "    <li><a href=\"https://#ref7\">Operations</a></li>\n",
    "</ol>\n",
    "<p></p>\n",
    "</div>\n",
    "<br>\n",
    "\n",
    "<hr>\n"
   ]
  },
  {
   "cell_type": "markdown",
   "metadata": {},
   "source": [
    "<a id=\"ref2\"></a>\n",
    "\n",
    "<h2>How does TensorFlow work?</h2>\n",
    "\n",
    "TensorFlow defines computations as Graphs, and these are made with operations (also know as “ops”). So, when we work with TensorFlow, it is the same as defining a series of operations in a Graph.\n",
    "\n",
    "For example, the image below represents a graph in TensorFlow. *W*, *x* and *b* are tensors over the edges of this graph. *MatMul* is an operation over the tensors *W* and *b*, after that *Add* is called and add the result of the previous operator with *b*. The resultant tensors of each operation cross the next one until the end where it's possible to get the wanted result.\n"
   ]
  },
  {
   "cell_type": "markdown",
   "metadata": {},
   "source": [
    "<img src='https://ibm.box.com/shared/static/a94cgezzwbkrq02jzfjjljrcaozu5s2q.png'>\n"
   ]
  },
  {
   "cell_type": "markdown",
   "metadata": {},
   "source": [
    "With TensorFlow 2.x, **Eager Execution** is enabled by default. This allows TensorFlow code to be executed and evaluated line by line. Before version 2.x was released, every graph had to be run wihthin a TensorFlow session. This only allowed for the entire graph to be run all at once. This would make debugging the computation graph each time more difficult.\n"
   ]
  },
  {
   "cell_type": "markdown",
   "metadata": {},
   "source": [
    "<h2>Installing TensorFlow </h2>\n",
    "\n",
    "We begin by installing TensorFlow version 2.2.0 and its required prerequistes.\n"
   ]
  },
  {
   "cell_type": "code",
   "execution_count": 1,
   "metadata": {},
   "outputs": [
    {
     "name": "stdout",
     "output_type": "stream",
     "text": [
      "Collecting grpcio==1.24.3\n",
      "  Downloading grpcio-1.24.3-cp37-cp37m-manylinux2010_x86_64.whl (2.2 MB)\n",
      "\u001b[K     |████████████████████████████████| 2.2 MB 3.5 MB/s eta 0:00:01     |██████████████▍                 | 993 kB 3.5 MB/s eta 0:00:01     |████████████████▌               | 1.1 MB 3.5 MB/s eta 0:00:01     |█████████████████▉              | 1.2 MB 3.5 MB/s eta 0:00:01\n",
      "\u001b[?25hRequirement already satisfied: six>=1.5.2 in /home/jupyterlab/conda/envs/python/lib/python3.7/site-packages (from grpcio==1.24.3) (1.16.0)\n",
      "Installing collected packages: grpcio\n",
      "  Attempting uninstall: grpcio\n",
      "    Found existing installation: grpcio 1.38.1\n",
      "    Uninstalling grpcio-1.38.1:\n",
      "      Successfully uninstalled grpcio-1.38.1\n",
      "Successfully installed grpcio-1.24.3\n",
      "Collecting tensorflow==2.2.0\n",
      "  Downloading tensorflow-2.2.0-cp37-cp37m-manylinux2010_x86_64.whl (516.2 MB)\n",
      "\u001b[K     |████████████████████████████████| 516.2 MB 640 bytes/s  0:00:014  |                                | 419 kB 4.2 MB/s eta 0:02:04     |                                | 819 kB 4.2 MB/s eta 0:02:03     |▏                               | 2.5 MB 4.2 MB/s eta 0:02:03     |▏                               | 2.7 MB 4.2 MB/s eta 0:02:03     |▏                               | 3.4 MB 4.2 MB/s eta 0:02:03     |▎                               | 5.3 MB 59.8 MB/s eta 0:00:09     |▋                               | 9.3 MB 59.8 MB/s eta 0:00:09                     | 11.4 MB 1.9 MB/s eta 0:04:25     |█                               | 15.0 MB 1.9 MB/s eta 0:04:24█                               | 15.8 MB 1.9 MB/s eta 0:04:23[K     |█                               | 17.2 MB 1.9 MB/s eta 0:04:22     |█▏                              | 18.4 MB 1.1 MB/s eta 0:07:37     |█▏                              | 18.7 MB 1.1 MB/s eta 0:07:37     |█▎                              | 20.7 MB 1.1 MB/s eta 0:07:35     |█▎                              | 20.9 MB 1.1 MB/s eta 0:07:35     |█▌                              | 24.9 MB 5.1 MB/s eta 0:01:37                      | 25.8 MB 5.1 MB/s eta 0:01:3728.3 MB 2.9 MB/s eta 0:02:462:46  | 29.2 MB 2.9 MB/s eta 0:02:46:01:4638.4 MB 4.6 MB/s eta 0:01:45     |██▌                             | 39.6 MB 4.6 MB/s eta 0:01:4540.2 MB 4.6 MB/s eta 0:01:45     |██▊                             | 43.5 MB 6.9 MB/s eta 0:01:09     |██▊                             | 44.1 MB 6.9 MB/s eta 0:01:09     |██▉                             | 45.1 MB 6.9 MB/s eta 0:01:09    | 47.2 MB 5.7 MB/s eta 0:01:22:01:22     |███▏                            | 51.9 MB 5.7 MB/s eta 0:01:22     |███▎                            | 53.2 MB 5.7 MB/s eta 0:01:21     |███▍                            | 55.1 MB 865 kB/s eta 0:08:53     |███▍                            | 55.3 MB 865 kB/s eta 0:08:53     |███▌                            | 56.1 MB 865 kB/s eta 0:08:52     |███▌                            | 57.1 MB 865 kB/s eta 0:08:51     |███▋                            | 57.9 MB 865 kB/s eta 0:08:50     |███▊                            | 60.1 MB 35.4 MB/s eta 0:00:13     |███▉                            | 61.1 MB 35.4 MB/s eta 0:00:13   |███▉                            | 62.4 MB 35.4 MB/s eta 0:00:13             | 62.9 MB 35.4 MB/s eta 0:00:135 MB/s eta 0:01:22     |████▍                           | 71.4 MB 5.5 MB/s eta 0:01:21     |████▌                           | 71.8 MB 5.5 MB/s eta 0:01:21/s eta 0:01:21     |████▉                           | 77.7 MB 5.5 MB/s eta 0:01:20     |████▉                           | 78.5 MB 5.5 MB/s eta 0:01:20     |████▉                           | 78.7 MB 5.5 MB/s eta 0:01:20     |█████▎                          | 84.4 MB 2.9 MB/s eta 0:02:27MB/s eta 0:02:38     |█████▍                          | 86.8 MB 2.7 MB/s eta 0:02:38     |█████▍                          | 87.6 MB 2.7 MB/s eta 0:02:38     |█████▌                          | 88.1 MB 2.7 MB/s eta 0:02:37     |█████▌                          | 88.3 MB 475 kB/s eta 0:15:00     |█████▋                          | 89.7 MB 475 kB/s eta 0:14:57kB/s eta 0:14:53     |█████▊                          | 93.2 MB 641 kB/s eta 0:11:00     |█████▉                          | 94.5 MB 641 kB/s eta 0:10:58     |██████                          | 95.0 MB 641 kB/s eta 0:10:57kB/s eta 0:10:56                  | 95.8 MB 641 kB/s eta 0:10:56     |██████                          | 96.3 MB 641 kB/s eta 0:10:55MB/s eta 0:01:14     |██████                          | 98.5 MB 5.7 MB/s eta 0:01:131:13███▏                         | 100.0 MB 5.7 MB/s eta 0:01:13��███▎                         | 100.5 MB 5.7 MB/s eta 0:01:13     |██████▎                         | 101.2 MB 5.7 MB/s eta 0:01:13     |██████▍                         | 102.2 MB 5.7 MB/s eta 0:01:133     |██████▍                         | 103.4 MB 1.3 MB/s eta 0:05:13:13:121     |██████▋                         | 107.2 MB 2.5 MB/s eta 0:02:421     |██████▊                         | 108.3 MB 2.5 MB/s eta 0:02:41     |██████▉                         | 110.8 MB 2.5 MB/s eta 0:02:40     |███████                         | 111.6 MB 2.5 MB/s eta 0:02:40:39     |███████                         | 114.3 MB 5.8 MB/s eta 0:01:10     |███████▏                        | 115.4 MB 5.8 MB/s eta 0:01:099                 | 116.0 MB 5.8 MB/s eta 0:01:09     |███████▏                        | 116.4 MB 5.8 MB/s eta 0:01:0901:09     |███████▍                        | 119.6 MB 7.4 MB/s eta 0:00:54                 | 120.3 MB 7.4 MB/s eta 0:00:54                | 121.9 MB 7.4 MB/s eta 0:00:54                | 123.6 MB 7.4 MB/s eta 0:00:54     |███████▊                        | 124.6 MB 1.3 MB/s eta 0:05:00     |███████▊                        | 125.3 MB 1.3 MB/s eta 0:04:59                | 125.8 MB 1.3 MB/s eta 0:04:59     |████████                        | 128.5 MB 2.7 MB/s eta 0:02:22                     | 129.6 MB 2.7 MB/s eta 0:02:21��                        | 130.1 MB 2.7 MB/s eta 0:02:21�██                        | 130.6 MB 2.7 MB/s eta 0:02:21 eta 0:02:21 0:02:201:08 0:01:07     |████████▌                       | 137.7 MB 5.7 MB/s eta 0:01:07     |████████▋                       | 138.4 MB 5.7 MB/s eta 0:01:07 eta 0:01:0909ta 0:01:095 MB/s eta 0:01:095.5 MB/s eta 0:01:0909:01:08 eta 0:01:08█████████▏                      | 147.7 MB 2.6 MB/s eta 0:02:21     | 148.0 MB 2.6 MB/s eta 0:02:21████████▎                      | 149.1 MB 2.6 MB/s eta 0:02:21��███████▎                      | 149.5 MB 2.6 MB/s eta 0:02:20           | 150.3 MB 2.6 MB/s eta 0:02:20     |█████████▍                      | 150.7 MB 2.6 MB/s eta 0:02:20     |█████████▍                      | 151.4 MB 2.8 MB/s eta 0:02:09[K     |█████████▌                      | 153.9 MB 2.8 MB/s eta 0:02:08            | 154.5 MB 2.8 MB/s eta 0:02:08     |█████████▊                      | 157.5 MB 657 kB/s eta 0:09:06           | 158.6 MB 657 kB/s eta 0:09:04          | 159.1 MB 657 kB/s eta 0:09:04     |██████████                      | 160.2 MB 657 kB/s eta 0:09:02             | 162.5 MB 1.1 MB/s eta 0:05:23██████████▏                     | 163.6 MB 1.1 MB/s eta 0:05:22██████████▎                     | 166.0 MB 1.1 MB/s eta 0:05:20��██████▎                     | 166.5 MB 1.1 MB/s eta 0:05:19��█▍                     | 167.1 MB 1.6 MB/s eta 0:03:33█████▋                     | 171.2 MB 1.6 MB/s eta 0:03:31|██████████▋                     | 172.0 MB 1.6 MB/s eta 0:03:30               | 173.7 MB 1.6 MB/s eta 0:03:29██████████▉                     | 174.6 MB 513 kB/s eta 0:11:06�████████▉                     | 174.8 MB 513 kB/s eta 0:11:06     |███████████                     | 176.8 MB 513 kB/s eta 0:11:02��█████████                     | 177.2 MB 513 kB/s eta 0:11:01�██████                     | 177.6 MB 513 kB/s eta 0:11:00███                     | 178.1 MB 513 kB/s eta 0:10:59     |███████████                     | 179.2 MB 513 kB/s eta 0:10:57      | 179.6 MB 302 kB/s eta 0:18:34|███████████▏                    | 180.5 MB 302 kB/s eta 0:18:3180.7 MB 302 kB/s eta 0:18:30     |███████████▍                    | 183.0 MB 302 kB/s eta 0:18:22ta 0:18:20��██████▊                    | 189.0 MB 2.4 MB/s eta 0:02:1602:15�████████▉                    | 190.7 MB 2.4 MB/s eta 0:02:15.4 MB/s eta 0:02:15�███                    | 192.8 MB 2.4 MB/s eta 0:02:14��███████                    | 193.5 MB 5.4 MB/s eta 0:01:00     |████████████▏                   | 196.6 MB 5.4 MB/s eta 0:01:00    |████████████▎                   | 197.7 MB 5.4 MB/s eta 0:00:59   | 198.3 MB 5.4 MB/s eta 0:00:59��██████▎                   | 198.9 MB 5.4 MB/s eta 0:00:59  | 199.3 MB 5.4 MB/s eta 0:00:59     |████████████▍                   | 199.8 MB 2.6 MB/s eta 0:02:01     |████████████▍                   | 200.0 MB 2.6 MB/s eta 0:02:01��▍                   | 200.4 MB 2.6 MB/s eta 0:02:01        | 203.4 MB 2.6 MB/s eta 0:01:59��████████▊                   | 204.4 MB 2.6 MB/s eta 0:01:59     |████████████▊                   | 204.9 MB 7.3 MB/s eta 0:00:43██▊                   | 205.5 MB 7.3 MB/s eta 0:00:43�████████▉                   | 206.3 MB 7.3 MB/s eta 0:00:43       | 206.7 MB 7.3 MB/s eta 0:00:43████████▉                   | 207.3 MB 7.3 MB/s eta 0:00:43 MB/s eta 0:00:43██                   | 208.6 MB 7.3 MB/s eta 0:00:42B/s eta 0:00:42 0:00:54MB/s eta 0:00:53     |█████████████▏                  | 212.3 MB 5.7 MB/s eta 0:00:535.7 MB/s eta 0:00:535.7 MB/s eta 0:00:53     |█████████████▎                  | 213.9 MB 5.7 MB/s eta 0:00:53     | 214.3 MB 5.7 MB/s eta 0:00:53    |█████████████▎                  | 214.9 MB 5.7 MB/s eta 0:00:53█▍                  | 215.5 MB 5.7 MB/s eta 0:00:53   |█████████████▍                  | 216.0 MB 5.7 MB/s eta 0:00:53��▍                  | 216.6 MB 5.7 MB/s eta 0:00:53  | 217.4 MB 5.7 MB/s eta 0:00:535.7 MB/s eta 0:00:52         | 219.3 MB 5.7 MB/s eta 0:00:52        | 220.3 MB 5.7 MB/s eta 0:00:52     |█████████████▊                  | 221.3 MB 243 kB/s eta 0:20:14243 kB/s eta 0:20:09��██▉                  | 222.8 MB 243 kB/s eta 0:20:07        | 223.6 MB 243 kB/s eta 0:20:04     |██████████████                  | 224.9 MB 243 kB/s eta 0:19:59kB/s eta 0:19:58     |██████████████                  | 226.8 MB 21.5 MB/s eta 0:00:14     |██████████████▎                 | 230.1 MB 21.5 MB/s eta 0:00:14▎                 | 230.4 MB 21.5 MB/s eta 0:00:14███▌                 | 233.3 MB 2.7 MB/s eta 0:01:47███▌                 | 234.1 MB 2.7 MB/s eta 0:01:47 MB/s eta 0:01:46     |██████████████▋                 | 235.8 MB 2.7 MB/s eta 0:01:46��█▋                 | 236.1 MB 2.7 MB/s eta 0:01:46s eta 0:01:46                | 237.1 MB 5.4 MB/s eta 0:00:520:52 5.4 MB/s eta 0:00:52 eta 0:00:52239.1 MB 5.4 MB/s eta 0:00:52��████████▉                 | 240.0 MB 151 kB/s eta 0:30:28|███████████████                 | 240.4 MB 151 kB/s eta 0:30:26�████████████                 | 241.4 MB 151 kB/s eta 0:30:19�█████████                 | 242.4 MB 151 kB/s eta 0:30:13███████████████                 | 242.8 MB 151 kB/s eta 0:30:10███████████████▎                | 246.4 MB 5.2 MB/s eta 0:00:53███████████████▍                | 248.2 MB 5.2 MB/s eta 0:00:52███████████████▌                | 249.7 MB 5.2 MB/s eta 0:00:52��███████████▋                | 251.4 MB 4.6 MB/s eta 0:00:58    |███████████████▋                | 252.3 MB 4.6 MB/s eta 0:00:58     |███████████████▋                | 252.4 MB 4.6 MB/s eta 0:00:58�██████████▊                | 253.2 MB 4.6 MB/s eta 0:00:58     |███████████████▊                | 253.8 MB 4.6 MB/s eta 0:00:58    |███████████████▉                | 254.7 MB 4.6 MB/s eta 0:00:57��████████████                | 258.1 MB 3.0 MB/s eta 0:01:27███████████                | 258.3 MB 3.0 MB/s eta 0:01:27��█████▏               | 260.3 MB 3.0 MB/s eta 0:01:277 MB 3.0 MB/s eta 0:01:27�▏               | 261.5 MB 3.0 MB/s eta 0:01:26  | 264.1 MB 1.7 MB/s eta 0:02:26 |████████████████▍               | 264.5 MB 1.7 MB/s eta 0:02:25     |████████████████▍               | 265.2 MB 1.7 MB/s eta 0:02:25��█████▌               | 265.6 MB 1.7 MB/s eta 0:02:25███▌               | 266.1 MB 1.7 MB/s eta 0:02:24 MB/s eta 0:02:24           | 267.3 MB 1.7 MB/s eta 0:02:24   | 267.9 MB 1.7 MB/s eta 0:02:23  | 269.5 MB 235 kB/s eta 0:17:26     |████████████████▊               | 270.1 MB 235 kB/s eta 0:17:24�███████████████▉               | 270.7 MB 235 kB/s eta 0:17:21     |████████████████▉               | 271.0 MB 235 kB/s eta 0:17:20��████████▏              | 276.4 MB 1.4 MB/s eta 0:02:54     |█████████████████▏              | 277.6 MB 1.4 MB/s eta 0:02:53     |█████████████████▎              | 278.4 MB 1.7 MB/s eta 0:02:20��███████▎              | 278.8 MB 1.7 MB/s eta 0:02:20█████████████████▍              | 279.7 MB 1.7 MB/s eta 0:02:19�███████████████▍              | 280.3 MB 1.7 MB/s eta 0:02:197 MB/s eta 0:02:19█▍              | 281.0 MB 1.7 MB/s eta 0:02:19  | 283.5 MB 1.7 MB/s eta 0:02:17██████▋              | 283.8 MB 1.7 MB/s eta 0:02:17  | 286.8 MB 5.6 MB/s eta 0:00:4287.4 MB 5.6 MB/s eta 0:00:42MB 5.6 MB/s eta 0:00:42��██▉              | 288.3 MB 5.6 MB/s eta 0:00:42��██████████████              | 288.7 MB 5.6 MB/s eta 0:00:41█████████████              | 289.3 MB 2.7 MB/s eta 0:01:23          | 290.0 MB 2.7 MB/s eta 0:01:23  | 290.7 MB 2.7 MB/s eta 0:01:23�█████              | 291.7 MB 2.7 MB/s eta 0:01:22�████████▏             | 292.2 MB 2.7 MB/s eta 0:01:22�████▏             | 293.3 MB 2.7 MB/s eta 0:01:22�██▏             | 293.9 MB 5.5 MB/s eta 0:00:41[K     |██████████████████▎             | 294.4 MB 5.5 MB/s eta 0:00:41   |██████████████████▎             | 294.8 MB 5.5 MB/s eta 0:00:41██████████████████▎             | 295.1 MB 5.5 MB/s eta 0:00:41   |██████████████████▍             | 297.1 MB 5.5 MB/s eta 0:00:40[K     |██████████████████▌             | 298.1 MB 5.5 MB/s eta 0:00:40   |██████████████████▌             | 298.4 MB 3.1 MB/s eta 0:01:12�█████████████████▌             | 299.0 MB 3.1 MB/s eta 0:01:12████████████████▋             | 299.4 MB 3.1 MB/s eta 0:01:12██████████████▋             | 299.9 MB 3.1 MB/s eta 0:01:11��████████████▋             | 300.3 MB 3.1 MB/s eta 0:01:11     |██████████████████▋             | 300.8 MB 3.1 MB/s eta 0:01:11     |██████████████████▉             | 303.6 MB 2.0 MB/s eta 0:01:46[K     |███████████████████             | 305.7 MB 2.0 MB/s eta 0:01:45   |███████████████████             | 306.1 MB 2.0 MB/s eta 0:01:45�██████████████████             | 306.7 MB 2.0 MB/s eta 0:01:45     |███████████████████             | 308.1 MB 2.0 MB/s eta 0:01:44B 2.0 MB/s eta 0:01:44███████████▏            | 309.4 MB 5.5 MB/s eta 0:00:38�███████▎            | 310.5 MB 5.5 MB/s eta 0:00:38▎            | 311.6 MB 5.5 MB/s eta 0:00:38     |███████████████████▍            | 312.4 MB 5.5 MB/s eta 0:00:37   | 314.5 MB 2.6 MB/s eta 0:01:18��██████████████████▌            | 314.9 MB 2.6 MB/s eta 0:01:17 eta 0:01:17     |███████████████████▋            | 315.8 MB 2.6 MB/s eta 0:01:17   | 316.1 MB 2.6 MB/s eta 0:01:17��██████████████████▋            | 316.5 MB 2.6 MB/s eta 0:01:17   | 317.5 MB 2.6 MB/s eta 0:01:17███████████████▊            | 318.4 MB 2.6 MB/s eta 0:01:16�███████████▊            | 318.9 MB 2.6 MB/s eta 0:01:16     |███████████████████▉            | 320.5 MB 3.0 MB/s eta 0:01:06 320.7 MB 3.0 MB/s eta 0:01:06   | 322.6 MB 3.0 MB/s eta 0:01:05MB 3.0 MB/s eta 0:01:05████████████████            | 323.6 MB 3.0 MB/s eta 0:01:05�████████████            | 324.1 MB 3.0 MB/s eta 0:01:05     |████████████████████▏           | 324.6 MB 3.0 MB/s eta 0:01:05�▏           | 325.3 MB 3.0 MB/s eta 0:01:05��████████▏           | 325.7 MB 3.0 MB/s eta 0:01:04�████████▏           | 326.0 MB 214 kB/s eta 0:14:48     |████████████████████▎           | 327.0 MB 214 kB/s eta 0:14:44     |████████████████████▎           | 327.3 MB 214 kB/s eta 0:14:42��████████████████▍           | 328.4 MB 214 kB/s eta 0:14:3714:35�██████████████████▍           | 329.3 MB 214 kB/s eta 0:14:33��████████████████▌           | 331.6 MB 5.5 MB/s eta 0:00:3400:34�██████████████████▋           | 332.5 MB 5.5 MB/s eta 0:00:34    | 333.2 MB 5.5 MB/s eta 0:00:33     |████████████████████▊           | 333.9 MB 5.5 MB/s eta 0:00:33�████████▊           | 334.6 MB 5.5 MB/s eta 0:00:3302:19██████████▉           | 335.5 MB 1.3 MB/s eta 0:02:19�█████████           | 337.3 MB 1.3 MB/s eta 0:02:17�█████████           | 340.2 MB 1.3 MB/s eta 0:02:15��████████████████████▏          | 341.3 MB 5.6 MB/s eta 0:00:32��█████████▏          | 341.8 MB 5.6 MB/s eta 0:00:32         | 342.4 MB 5.6 MB/s eta 0:00:32█████████████████▎          | 343.6 MB 5.6 MB/s eta 0:00:31         | 344.5 MB 5.6 MB/s eta 0:00:316 MB/s eta 0:00:31��█████████████▍          | 345.2 MB 97 kB/s eta 0:29:19��█████▌          | 346.8 MB 97 kB/s eta 0:29:02      | 347.7 MB 97 kB/s eta 0:28:53     |█████████████████████▋          | 348.6 MB 97 kB/s eta 0:28:43��██████████          | 354.4 MB 1.7 MB/s eta 0:01:34         | 354.9 MB 1.7 MB/s eta 0:01:33355.1 MB 1.7 MB/s eta 0:01:33     |██████████████████████▏         | 356.8 MB 4.6 MB/s eta 0:00:36�███████▏         | 357.3 MB 4.6 MB/s eta 0:00:35     |██████████████████████▏         | 357.9 MB 4.6 MB/s eta 0:00:35.6 MB/s eta 0:00:35███████████████▎         | 359.0 MB 4.6 MB/s eta 0:00:35B/s eta 0:00:35��█████████████▎         | 359.9 MB 4.6 MB/s eta 0:00:35█▍         | 361.7 MB 1.2 MB/s eta 0:02:11.2 MB/s eta 0:02:10 |██████████████████████▌         | 363.1 MB 1.2 MB/s eta 0:02:10��█████████████▌         | 363.8 MB 1.2 MB/s eta 0:02:09     |██████████████████████▊         | 366.1 MB 1.2 MB/s eta 0:02:07MB 1.2 MB/s eta 0:02:06MB 1.2 MB/s eta 0:02:06█▉         | 368.1 MB 1.2 MB/s eta 0:02:05     |██████████████████████▉         | 368.6 MB 1.2 MB/s eta 0:02:05��         | 368.9 MB 5.4 MB/s eta 0:00:28     |███████████████████████         | 370.4 MB 5.4 MB/s eta 0:00:27     |███████████████████████         | 371.1 MB 5.4 MB/s eta 0:00:27MB 870 kB/s eta 0:02:47██         | 371.5 MB 870 kB/s eta 0:02:4770 kB/s eta 0:02:46████████████████         | 372.7 MB 870 kB/s eta 0:02:45|███████████████████████▏        | 373.2 MB 870 kB/s eta 0:02:45��██▎        | 375.1 MB 870 kB/s eta 0:02:43�▎        | 375.4 MB 5.4 MB/s eta 0:00:26B 5.4 MB/s eta 0:00:26��███▍        | 377.3 MB 5.4 MB/s eta 0:00:26��██████████████████████▍        | 377.5 MB 5.4 MB/s eta 0:00:26        | 378.0 MB 5.4 MB/s eta 0:00:266 MB 5.4 MB/s eta 0:00:26�██████▌        | 379.8 MB 5.4 MB/s eta 0:00:26███████████████████████▋        | 380.3 MB 5.4 MB/s eta 0:00:26��██▊        | 383.2 MB 1.5 MB/s eta 0:01:32�███████████████████▉        | 383.7 MB 1.5 MB/s eta 0:01:32     |████████████████████████        | 386.1 MB 1.5 MB/s eta 0:01:30██████        | 386.3 MB 1.5 MB/s eta 0:01:30��███        | 386.7 MB 1.5 MB/s eta 0:01:30�█        | 387.0 MB 1.4 MB/s eta 0:01:33     | 387.3 MB 1.4 MB/s eta 0:01:33B 1.4 MB/s eta 0:01:33███████████        | 388.5 MB 1.4 MB/s eta 0:01:32 0:01:32█████████████████████▏       | 389.2 MB 1.4 MB/s eta 0:01:32�██████████▏       | 389.4 MB 1.4 MB/s eta 0:01:32��       | 389.5 MB 1.4 MB/s eta 0:01:32    | 390.2 MB 1.4 MB/s eta 0:01:31     |████████████████████████▎       | 391.1 MB 5.3 MB/s eta 0:00:24     |████████████████████████▎       | 391.8 MB 5.3 MB/s eta 0:00:24��████▎       | 392.2 MB 5.3 MB/s eta 0:00:24MB 5.3 MB/s eta 0:00:24��█████████████▍       | 392.7 MB 5.3 MB/s eta 0:00:24████████████▍       | 393.3 MB 5.3 MB/s eta 0:00:24�██████████▍       | 394.0 MB 5.3 MB/s eta 0:00:24��       | 394.2 MB 5.3 MB/s eta 0:00:24�███████████████████▌       | 394.5 MB 5.3 MB/s eta 0:00:24    | 394.8 MB 5.3 MB/s eta 0:00:24��████████████████▌       | 395.6 MB 1.1 MB/s eta 0:01:52██████▋       | 396.7 MB 1.1 MB/s eta 0:01:516.9 MB 1.1 MB/s eta 0:01:50�███████████████▊       | 398.5 MB 1.1 MB/s eta 0:01:49|████████████████████████▊       | 399.0 MB 1.1 MB/s eta 0:01:48��██████████████████████▊       | 399.7 MB 1.1 MB/s eta 0:01:48s eta 0:01:47��       | 400.7 MB 1.1 MB/s eta 0:01:47�████████████████       | 402.7 MB 5.5 MB/s eta 0:00:21MB 5.5 MB/s eta 0:00:21█████████████       | 404.0 MB 5.5 MB/s eta 0:00:21     |█████████████████████████▋      | 414.0 MB 285 kB/s eta 0:05:59     |█████████████████████████▊      | 415.1 MB 285 kB/s eta 0:05:55     |██████████████████████████      | 420.7 MB 585 kB/s eta 0:02:44     |██████████████████████████▏     | 421.3 MB 585 kB/s eta 0:02:43 | 421.6 MB 585 kB/s eta 0:02:42███████████████████▏     | 421.9 MB 585 kB/s eta 0:02:42��████████▏     | 422.4 MB 585 kB/s eta 0:02:41�███████████████████▏     | 422.6 MB 585 kB/s eta 0:02:41 | 423.4 MB 166 kB/s eta 0:09:1924.2 MB 166 kB/s eta 0:09:149�███████████████████▍     | 425.5 MB 166 kB/s eta 0:09:06��███████████████████▍     | 426.2 MB 166 kB/s eta 0:09:02████████████████████▌     | 426.8 MB 166 kB/s eta 0:08:58 | 429.6 MB 273 kB/s eta 0:05:17�████████▋     | 430.1 MB 273 kB/s eta 0:05:15 | 431.0 MB 273 kB/s eta 0:05:12�█████████     | 434.3 MB 273 kB/s eta 0:05:00     |███████████████████████████     | 435.9 MB 2.7 MB/s eta 0:00:31████████     | 436.2 MB 2.7 MB/s eta 0:00:31��████████▏    | 438.8 MB 2.7 MB/s eta 0:00:30[K     |███████████████████████████▎    | 439.3 MB 2.7 MB/s eta 0:00:29K     |███████████████████████████▎    | 439.6 MB 2.7 MB/s eta 0:00:29�███████▎    | 440.1 MB 2.7 MB/s eta 0:00:29███████▎    | 440.4 MB 2.7 MB/s eta 0:00:29   |███████████████████████████▎    | 440.5 MB 2.7 MB/s eta 0:00:29  |███████████████████████████▎    | 440.9 MB 2.7 MB/s eta 0:00:29 |███████████████████████████▍    | 441.2 MB 2.7 MB/s eta 0:00:29███████████████████████████▍    | 441.8 MB 2.7 MB/s eta 0:00:28��████████▌    | 442.8 MB 214 kB/s eta 0:05:43�████████▌    | 443.2 MB 214 kB/s eta 0:05:42████████▌    | 443.5 MB 214 kB/s eta 0:05:40�███████▋    | 445.2 MB 214 kB/s eta 0:05:32�████████▊    | 447.0 MB 214 kB/s eta 0:05:24K     |███████████████████████████▊    | 447.5 MB 904 kB/s eta 0:01:17��███████▊    | 447.6 MB 904 kB/s eta 0:01:16�███████▊    | 447.9 MB 904 kB/s eta 0:01:16�██████▉    | 448.9 MB 904 kB/s eta 0:01:15|███████████████████████████▉    | 449.4 MB 904 kB/s eta 0:01:14�█████▉    | 449.8 MB 904 kB/s eta 0:01:14     |████████████████████████████    | 450.2 MB 904 kB/s eta 0:01:13     |████████████████████████████    | 452.9 MB 904 kB/s eta 0:01:11�████████    | 453.1 MB 904 kB/s eta 0:01:10     |████████████████████████████▎   | 455.6 MB 1.1 MB/s eta 0:00:56████████▎   | 456.6 MB 1.1 MB/s eta 0:00:56     |████████████████████████████▍   | 458.8 MB 6.9 MB/s eta 0:00:09��███████████████████▌   | 459.7 MB 6.9 MB/s eta 0:00:09.0 MB 6.9 MB/s eta 0:00:09��███████████████████▋   | 462.0 MB 6.9 MB/s eta 0:00:08████████▋   | 462.1 MB 6.9 MB/s eta 0:00:08�█████████████████████████▊   | 463.1 MB 6.9 MB/s eta 0:00:08��█████████████▊   | 463.2 MB 6.9 MB/s eta 0:00:08�██████████████████████▊   | 463.7 MB 6.9 MB/s eta 0:00:08��███████▉   | 464.5 MB 1.4 MB/s eta 0:00:38████████████████████████████▉   | 464.8 MB 1.4 MB/s eta 0:00:38�██████████████████▉   | 465.7 MB 1.4 MB/s eta 0:00:37B 1.4 MB/s eta 0:00:37████████████████████████████   | 466.2 MB 1.4 MB/s eta 0:00:37s eta 0:00:36�██████████   | 467.6 MB 301 kB/s eta 0:02:42�███████   | 468.2 MB 301 kB/s eta 0:02:40 301 kB/s eta 0:02:39�███████████████████████▏  | 469.7 MB 301 kB/s eta 0:02:35████████████████████▏  | 470.0 MB 301 kB/s eta 0:02:34     |█████████████████████████████▏  | 471.2 MB 301 kB/s eta 0:02:30██████████████████████████▎  | 471.7 MB 301 kB/s eta 0:02:28��█████████████████████████▍  | 473.6 MB 2.7 MB/s eta 0:00:16��████████████████████▍  | 474.0 MB 2.7 MB/s eta 0:00:16��██████████▍  | 475.0 MB 2.7 MB/s eta 0:00:16��█████▌  | 475.4 MB 2.7 MB/s eta 0:00:16     |█████████████████████████████▌  | 475.6 MB 2.7 MB/s eta 0:00:15��███████████████████████████▌  | 476.0 MB 2.7 MB/s eta 0:00:15██████████████████████████▌  | 476.1 MB 2.7 MB/s eta 0:00:15|█████████████████████████████▋  | 477.4 MB 2.7 MB/s eta 0:00:15     |█████████████████████████████▋  | 478.0 MB 1.9 MB/s eta 0:00:21|█████████████████████████████▋  | 478.1 MB 1.9 MB/s eta 0:00:21     |█████████████████████████████▊  | 479.5 MB 1.9 MB/s eta 0:00:20    |█████████████████████████████▊  | 480.0 MB 1.9 MB/s eta 0:00:20��█████████████████████████▉  | 480.5 MB 1.9 MB/s eta 0:00:19     |█████████████████████████████▉  | 481.5 MB 1.9 MB/s eta 0:00:19     |█████████████████████████████▉  | 481.5 MB 1.9 MB/s eta 0:00:19     |██████████████████████████████  | 482.9 MB 623 kB/s eta 0:00:54███████████████████████████  | 483.4 MB 623 kB/s eta 0:00:53�████████████████████  | 484.0 MB 623 kB/s eta 0:00:52    |██████████████████████████████  | 484.6 MB 623 kB/s eta 0:00:51�███████████████████████  | 485.4 MB 623 kB/s eta 0:00:50��█████████████████████  | 485.5 MB 623 kB/s eta 0:00:50   |██████████████████████████████▏ | 486.0 MB 7.0 MB/s eta 0:00:052 MB 7.0 MB/s eta 0:00:04█████▍ | 489.4 MB 7.0 MB/s eta 0:00:04�█████████████▍ | 489.5 MB 7.0 MB/s eta 0:00:04B/s eta 0:00:04�█████████████▌ | 491.8 MB 328 kB/s eta 0:01:15     |██████████████████████████████▌ | 492.1 MB 328 kB/s eta 0:01:14     |██████████████████████████████▋ | 493.7 MB 328 kB/s eta 0:01:09 328 kB/s eta 0:01:09████████████▋ | 494.2 MB 328 kB/s eta 0:01:08��████████████████████████████▋ | 494.5 MB 328 kB/s eta 0:01:074 MB 6.9 MB/s eta 0:00:03�█████████████▉ | 496.7 MB 6.9 MB/s eta 0:00:03     |██████████████████████████████▉ | 497.1 MB 6.9 MB/s eta 0:00:03     |██████████████████████████████▉ | 497.4 MB 6.9 MB/s eta 0:00:03     |███████████████████████████████ | 498.8 MB 6.9 MB/s eta 0:00:03 6.9 MB/s eta 0:00:03��████ | 499.1 MB 6.9 MB/s eta 0:00:03�█████████████████████ | 499.4 MB 6.9 MB/s eta 0:00:03��█████████████████████████████ | 499.6 MB 6.9 MB/s eta 0:00:03�██████████████████████████ | 500.3 MB 224 kB/s eta 0:01:111�██████ | 500.8 MB 224 kB/s eta 0:01:09|███████████████████████████████ | 501.2 MB 224 kB/s eta 0:01:07�███████████ | 501.7 MB 224 kB/s eta 0:01:05��███████████████████ | 501.8 MB 224 kB/s eta 0:01:05     |███████████████████████████████▏| 502.0 MB 224 kB/s eta 0:01:04��█████▏| 502.2 MB 224 kB/s eta 0:01:03███████████████▏| 502.6 MB 5.1 MB/s eta 0:00:032 MB 5.1 MB/s eta 0:00:03[K     |███████████████████████████████▏| 503.5 MB 5.1 MB/s eta 0:00:03███████▎| 504.0 MB 5.1 MB/s eta 0:00:03�████████████████▎| 504.5 MB 5.1 MB/s eta 0:00:033███████▎| 505.4 MB 5.1 MB/s eta 0:00:0305.7 MB 5.1 MB/s eta 0:00:03�████████████████▍| 505.9 MB 5.1 MB/s eta 0:00:032     |███████████████████████████████▌| 507.3 MB 5.5 MB/s eta 0:00:02�████████████████████████▌| 508.4 MB 5.5 MB/s eta 0:00:02�███████████████▌| 508.7 MB 5.5 MB/s eta 0:00:02��████████████████████████▋| 509.1 MB 5.5 MB/s eta 0:00:02█████████████████████████▋| 509.8 MB 3.1 MB/s eta 0:00:03�████████████████▋| 510.5 MB 3.1 MB/s eta 0:00:02�███████▋| 510.8 MB 3.1 MB/s eta 0:00:02��█████████████████████████▊| 511.0 MB 3.1 MB/s eta 0:00:02511.1 MB 3.1 MB/s eta 0:00:02██████████████████████████▊| 511.7 MB 3.1 MB/s eta 0:00:02:03████████▊| 512.3 MB 1.9 MB/s eta 0:00:03     |███████████████████████████████▊| 512.4 MB 1.9 MB/s eta 0:00:03     |███████████████████████████████▊| 512.4 MB 1.9 MB/s eta 0:00:03��█████▊| 512.6 MB 1.9 MB/s eta 0:00:02███████████████▉| 513.0 MB 646 kB/s eta 0:00:05K     |███████████████████████████████▉| 513.2 MB 646 kB/s eta 0:00:056 MB 646 kB/s eta 0:00:05�██████▉| 514.0 MB 646 kB/s eta 0:00:04�██████████████████████████| 514.6 MB 646 kB/s eta 0:00:0314.7 MB 646 kB/s eta 0:00:03     |████████████████████████████████| 516.0 MB 646 kB/s eta 0:00:01\n",
      "\u001b[?25hCollecting astunparse==1.6.3\n",
      "  Downloading astunparse-1.6.3-py2.py3-none-any.whl (12 kB)\n",
      "Collecting h5py<2.11.0,>=2.10.0\n",
      "  Downloading h5py-2.10.0-cp37-cp37m-manylinux1_x86_64.whl (2.9 MB)\n",
      "\u001b[K     |████████████████████████████████| 2.9 MB 36.4 MB/s eta 0:00:01ta 0:00:01 eta 0:00:01�██▊          | 1.9 MB 36.4 MB/s eta 0:00:01 eta 0:00:01\n",
      "\u001b[?25hRequirement already satisfied: absl-py>=0.7.0 in /home/jupyterlab/conda/envs/python/lib/python3.7/site-packages (from tensorflow==2.2.0) (0.14.0)\n",
      "Requirement already satisfied: protobuf>=3.8.0 in /home/jupyterlab/conda/envs/python/lib/python3.7/site-packages (from tensorflow==2.2.0) (3.18.0)\n",
      "Requirement already satisfied: keras-preprocessing>=1.1.0 in /home/jupyterlab/conda/envs/python/lib/python3.7/site-packages (from tensorflow==2.2.0) (1.1.2)\n",
      "Requirement already satisfied: grpcio>=1.8.6 in /home/jupyterlab/conda/envs/python/lib/python3.7/site-packages (from tensorflow==2.2.0) (1.24.3)\n",
      "Requirement already satisfied: numpy<2.0,>=1.16.0 in /home/jupyterlab/conda/envs/python/lib/python3.7/site-packages (from tensorflow==2.2.0) (1.21.2)\n",
      "Collecting opt-einsum>=2.3.2\n",
      "  Downloading opt_einsum-3.3.0-py3-none-any.whl (65 kB)\n",
      "\u001b[K     |████████████████████████████████| 65 kB 1.5 MB/s  eta 0:00:01\n",
      "\u001b[?25hCollecting scipy==1.4.1\n",
      "  Downloading scipy-1.4.1-cp37-cp37m-manylinux1_x86_64.whl (26.1 MB)\n",
      "\u001b[K     |████████████████████████████████| 26.1 MB 1.4 MB/s eta 0:00:01              | 778 kB 6.9 MB/s eta 0:00:04[K     |██▎                             | 1.9 MB 6.9 MB/s eta 0:00:04     |████▍                           | 3.6 MB 6.9 MB/s eta 0:00:04 MB 6.9 MB/s eta 0:00:04MB/s eta 0:00:043 MB/s eta 0:00:17     |███████                         | 5.6 MB 1.3 MB/s eta 0:00:16616                 | 8.7 MB 1.3 MB/s eta 0:00:14    |███████████▉                    | 9.6 MB 2.4 MB/s eta 0:00:074 MB/s eta 0:00:07��██▌                 | 11.8 MB 2.4 MB/s eta 0:00:06     |███████████████▌                | 12.6 MB 2.4 MB/s eta 0:00:06�███████████▍               | 13.4 MB 2.4 MB/s eta 0:00:06████████████████▋               | 13.6 MB 2.4 MB/s eta 0:00:06/s eta 0:00:05█████████████▍          | 17.4 MB 401 kB/s eta 0:00:22��███▋          | 17.6 MB 401 kB/s eta 0:00:22[K     |██████████████████████          | 17.9 MB 401 kB/s eta 0:00:21��█▎        | 19.0 MB 401 kB/s eta 0:00:18:00:17     |█████████████████████████       | 20.4 MB 401 kB/s eta 0:00:15█████████▍      | 20.7 MB 401 kB/s eta 0:00:146 MB/s eta 0:00:02     |███████████████████████████▊    | 22.6 MB 2.6 MB/s eta 0:00:02��████████████▎   | 23.0 MB 2.6 MB/s eta 0:00:02 MB 2.6 MB/s eta 0:00:02ta 0:00:01�██▊| 25.8 MB 1.4 MB/s eta 0:00:01\n",
      "\u001b[?25hRequirement already satisfied: google-pasta>=0.1.8 in /home/jupyterlab/conda/envs/python/lib/python3.7/site-packages (from tensorflow==2.2.0) (0.2.0)\n",
      "Collecting gast==0.3.3\n",
      "  Downloading gast-0.3.3-py2.py3-none-any.whl (9.7 kB)\n",
      "Collecting tensorboard<2.3.0,>=2.2.0\n",
      "  Downloading tensorboard-2.2.2-py3-none-any.whl (3.0 MB)\n",
      "\u001b[K     |████████████████████████████████| 3.0 MB 161 kB/s eta 0:00:01     |█████████                       | 829 kB 6.7 MB/s eta 0:00:016.7 MB/s eta 0:00:01█▋                  | 1.3 MB 6.7 MB/s eta 0:00:01███████            | 1.8 MB 6.7 MB/s eta 0:00:01 |███████████████████████▉        | 2.2 MB 6.7 MB/s eta 0:00:01��███████████████████████▏  | 2.7 MB 6.7 MB/s eta 0:00:01█████████████████▉ | 2.8 MB 6.7 MB/s eta 0:00:01\n",
      "\u001b[?25hRequirement already satisfied: wheel>=0.26 in /home/jupyterlab/conda/envs/python/lib/python3.7/site-packages (from tensorflow==2.2.0) (0.37.0)\n",
      "Collecting tensorflow-estimator<2.3.0,>=2.2.0\n",
      "  Downloading tensorflow_estimator-2.2.0-py2.py3-none-any.whl (454 kB)\n",
      "\u001b[K     |████████████████████████████████| 454 kB 49.6 MB/s eta 0:00:01\n",
      "\u001b[?25hRequirement already satisfied: wrapt>=1.11.1 in /home/jupyterlab/conda/envs/python/lib/python3.7/site-packages (from tensorflow==2.2.0) (1.12.1)\n",
      "Requirement already satisfied: six>=1.12.0 in /home/jupyterlab/conda/envs/python/lib/python3.7/site-packages (from tensorflow==2.2.0) (1.16.0)\n",
      "Requirement already satisfied: termcolor>=1.1.0 in /home/jupyterlab/conda/envs/python/lib/python3.7/site-packages (from tensorflow==2.2.0) (1.1.0)\n",
      "Collecting tensorboard-plugin-wit>=1.6.0\n",
      "  Downloading tensorboard_plugin_wit-1.8.0-py3-none-any.whl (781 kB)\n",
      "\u001b[K     |████████████████████████████████| 781 kB 2.6 MB/s eta 0:00:01     |██████████                      | 245 kB 2.6 MB/s eta 0:00:01 747 kB 2.6 MB/s eta 0:00:01\n",
      "\u001b[?25hCollecting google-auth-oauthlib<0.5,>=0.4.1\n",
      "  Downloading google_auth_oauthlib-0.4.6-py2.py3-none-any.whl (18 kB)\n",
      "Collecting google-auth<2,>=1.6.3\n",
      "  Downloading google_auth-1.35.0-py2.py3-none-any.whl (152 kB)\n",
      "\u001b[K     |████████████████████████████████| 152 kB 38.7 MB/s eta 0:00:01\n",
      "\u001b[?25hRequirement already satisfied: markdown>=2.6.8 in /home/jupyterlab/conda/envs/python/lib/python3.7/site-packages (from tensorboard<2.3.0,>=2.2.0->tensorflow==2.2.0) (3.3.4)\n",
      "Requirement already satisfied: werkzeug>=0.11.15 in /home/jupyterlab/conda/envs/python/lib/python3.7/site-packages (from tensorboard<2.3.0,>=2.2.0->tensorflow==2.2.0) (2.0.1)\n",
      "Requirement already satisfied: setuptools>=41.0.0 in /home/jupyterlab/conda/envs/python/lib/python3.7/site-packages (from tensorboard<2.3.0,>=2.2.0->tensorflow==2.2.0) (58.0.4)\n",
      "Requirement already satisfied: requests<3,>=2.21.0 in /home/jupyterlab/conda/envs/python/lib/python3.7/site-packages (from tensorboard<2.3.0,>=2.2.0->tensorflow==2.2.0) (2.26.0)\n",
      "Collecting rsa<5,>=3.1.4\n",
      "  Using cached rsa-4.7.2-py3-none-any.whl (34 kB)\n",
      "Collecting cachetools<5.0,>=2.0.0\n",
      "  Downloading cachetools-4.2.4-py3-none-any.whl (10 kB)\n",
      "Requirement already satisfied: pyasn1-modules>=0.2.1 in /home/jupyterlab/conda/envs/python/lib/python3.7/site-packages (from google-auth<2,>=1.6.3->tensorboard<2.3.0,>=2.2.0->tensorflow==2.2.0) (0.2.8)\n",
      "Collecting requests-oauthlib>=0.7.0\n",
      "  Using cached requests_oauthlib-1.3.0-py2.py3-none-any.whl (23 kB)\n",
      "Requirement already satisfied: importlib-metadata in /home/jupyterlab/conda/envs/python/lib/python3.7/site-packages (from markdown>=2.6.8->tensorboard<2.3.0,>=2.2.0->tensorflow==2.2.0) (4.8.1)\n",
      "Requirement already satisfied: pyasn1<0.5.0,>=0.4.6 in /home/jupyterlab/conda/envs/python/lib/python3.7/site-packages (from pyasn1-modules>=0.2.1->google-auth<2,>=1.6.3->tensorboard<2.3.0,>=2.2.0->tensorflow==2.2.0) (0.4.8)\n",
      "Requirement already satisfied: certifi>=2017.4.17 in /home/jupyterlab/conda/envs/python/lib/python3.7/site-packages (from requests<3,>=2.21.0->tensorboard<2.3.0,>=2.2.0->tensorflow==2.2.0) (2021.5.30)\n",
      "Requirement already satisfied: urllib3<1.27,>=1.21.1 in /home/jupyterlab/conda/envs/python/lib/python3.7/site-packages (from requests<3,>=2.21.0->tensorboard<2.3.0,>=2.2.0->tensorflow==2.2.0) (1.26.7)\n",
      "Requirement already satisfied: idna<4,>=2.5 in /home/jupyterlab/conda/envs/python/lib/python3.7/site-packages (from requests<3,>=2.21.0->tensorboard<2.3.0,>=2.2.0->tensorflow==2.2.0) (3.1)\n",
      "Requirement already satisfied: charset-normalizer~=2.0.0 in /home/jupyterlab/conda/envs/python/lib/python3.7/site-packages (from requests<3,>=2.21.0->tensorboard<2.3.0,>=2.2.0->tensorflow==2.2.0) (2.0.0)\n",
      "Collecting oauthlib>=3.0.0\n",
      "  Downloading oauthlib-3.1.1-py2.py3-none-any.whl (146 kB)\n",
      "\u001b[K     |████████████████████████████████| 146 kB 5.7 MB/s eta 0:00:01\n",
      "\u001b[?25hRequirement already satisfied: typing-extensions>=3.6.4 in /home/jupyterlab/conda/envs/python/lib/python3.7/site-packages (from importlib-metadata->markdown>=2.6.8->tensorboard<2.3.0,>=2.2.0->tensorflow==2.2.0) (3.10.0.2)\n",
      "Requirement already satisfied: zipp>=0.5 in /home/jupyterlab/conda/envs/python/lib/python3.7/site-packages (from importlib-metadata->markdown>=2.6.8->tensorboard<2.3.0,>=2.2.0->tensorflow==2.2.0) (3.5.0)\n",
      "Installing collected packages: rsa, oauthlib, cachetools, requests-oauthlib, google-auth, tensorboard-plugin-wit, google-auth-oauthlib, tensorflow-estimator, tensorboard, scipy, opt-einsum, h5py, gast, astunparse, tensorflow\n",
      "  Attempting uninstall: tensorflow-estimator\n",
      "    Found existing installation: tensorflow-estimator 1.14.0\n",
      "    Uninstalling tensorflow-estimator-1.14.0:\n",
      "      Successfully uninstalled tensorflow-estimator-1.14.0\n",
      "  Attempting uninstall: tensorboard\n",
      "    Found existing installation: tensorboard 1.14.0\n",
      "    Uninstalling tensorboard-1.14.0:\n",
      "      Successfully uninstalled tensorboard-1.14.0\n",
      "  Attempting uninstall: scipy\n",
      "    Found existing installation: scipy 1.7.1\n",
      "    Uninstalling scipy-1.7.1:\n",
      "      Successfully uninstalled scipy-1.7.1\n",
      "  Attempting uninstall: h5py\n",
      "    Found existing installation: h5py 2.8.0\n",
      "    Uninstalling h5py-2.8.0:\n",
      "      Successfully uninstalled h5py-2.8.0\n",
      "  Attempting uninstall: gast\n",
      "    Found existing installation: gast 0.5.0\n",
      "    Uninstalling gast-0.5.0:\n",
      "      Successfully uninstalled gast-0.5.0\n",
      "  Attempting uninstall: tensorflow\n",
      "    Found existing installation: tensorflow 1.14.0\n",
      "    Uninstalling tensorflow-1.14.0:\n",
      "      Successfully uninstalled tensorflow-1.14.0\n",
      "Successfully installed astunparse-1.6.3 cachetools-4.2.4 gast-0.3.3 google-auth-1.35.0 google-auth-oauthlib-0.4.6 h5py-2.10.0 oauthlib-3.1.1 opt-einsum-3.3.0 requests-oauthlib-1.3.0 rsa-4.7.2 scipy-1.4.1 tensorboard-2.2.2 tensorboard-plugin-wit-1.8.0 tensorflow-2.2.0 tensorflow-estimator-2.2.0\n"
     ]
    }
   ],
   "source": [
    "!pip install grpcio==1.24.3\n",
    "!pip install tensorflow==2.2.0"
   ]
  },
  {
   "cell_type": "markdown",
   "metadata": {},
   "source": [
    "**Restart kernel for latest version of TensorFlow to be activated, then continue to the next section.**\n"
   ]
  },
  {
   "cell_type": "markdown",
   "metadata": {},
   "source": [
    "<h2>Importing TensorFlow</h2>\n",
    "<p>To use TensorFlow, we need to import the library. We imported it and optionally gave it the name \"tf\", so the modules can be accessed by <b>tf.module-name</b>:</p>\n"
   ]
  },
  {
   "cell_type": "code",
   "execution_count": 2,
   "metadata": {},
   "outputs": [],
   "source": [
    "import tensorflow as tf\n",
    "if not tf.__version__ == '2.2.0':\n",
    "    print(tf.__version__)\n",
    "    raise ValueError('please upgrade to TensorFlow 2.2.0, or restart your Kernel (Kernel->Restart & Clear Output)')"
   ]
  },
  {
   "cell_type": "markdown",
   "metadata": {},
   "source": [
    "IMPORTANT! => Please restart the kernel by clicking on \"Kernel\" -> \"Restart and Clear Outout\" and wait until all output disapears. Then your changes will be picked up.\n",
    "\n",
    "After you have restarted the kernel, re-run the previous cell to import tensorflow and then continue to the next section.\n"
   ]
  },
  {
   "cell_type": "markdown",
   "metadata": {},
   "source": [
    "***\n"
   ]
  },
  {
   "cell_type": "markdown",
   "metadata": {},
   "source": [
    "<a id=\"ref3\"></a>\n",
    "\n",
    "# tf.function and AutoGraph\n"
   ]
  },
  {
   "cell_type": "markdown",
   "metadata": {},
   "source": [
    "Now we call the TensorFlow functions that construct new <b>tf.Operation</b> and <b>tf.Tensor</b> objects. As mentioned, each <b>tf.Operation</b> is a <b>node</b> and each <b>tf.Tensor</b> is an edge in the graph.\n",
    "\n",
    "Lets add 2 constants to our graph. For example, calling tf.constant(\\[2], name = 'constant_a') adds a single <b>tf.Operation</b> to the default graph. This operation produces the value 2, and returns a <b>tf.Tensor</b> that represents the value of the constant.\\ <b>Notice:</b> tf.constant(\\[2], name=\"constant_a\") creates a new tf.Operation named \"constant_a\" and returns a tf.Tensor named \"constant_a:0\".\n"
   ]
  },
  {
   "cell_type": "code",
   "execution_count": 3,
   "metadata": {},
   "outputs": [
    {
     "name": "stderr",
     "output_type": "stream",
     "text": [
      "2021-10-14 16:44:41.929620: W tensorflow/stream_executor/platform/default/dso_loader.cc:55] Could not load dynamic library 'libcuda.so.1'; dlerror: libcuda.so.1: cannot open shared object file: No such file or directory\n",
      "2021-10-14 16:44:41.929712: E tensorflow/stream_executor/cuda/cuda_driver.cc:313] failed call to cuInit: UNKNOWN ERROR (303)\n",
      "2021-10-14 16:44:41.929774: I tensorflow/stream_executor/cuda/cuda_diagnostics.cc:156] kernel driver does not appear to be running on this host (jupyterlab-sadidul012): /proc/driver/nvidia/version does not exist\n",
      "2021-10-14 16:44:41.930166: I tensorflow/core/platform/cpu_feature_guard.cc:143] Your CPU supports instructions that this TensorFlow binary was not compiled to use: AVX2 FMA\n",
      "2021-10-14 16:44:42.253226: I tensorflow/core/platform/profile_utils/cpu_utils.cc:102] CPU Frequency: 2095145000 Hz\n",
      "2021-10-14 16:44:42.289758: I tensorflow/compiler/xla/service/service.cc:168] XLA service 0x7f5014000b20 initialized for platform Host (this does not guarantee that XLA will be used). Devices:\n",
      "2021-10-14 16:44:42.289822: I tensorflow/compiler/xla/service/service.cc:176]   StreamExecutor device (0): Host, Default Version\n"
     ]
    }
   ],
   "source": [
    "a = tf.constant([2], name = 'constant_a')\n",
    "b = tf.constant([3], name = 'constant_b')"
   ]
  },
  {
   "cell_type": "markdown",
   "metadata": {},
   "source": [
    "Lets look at the tensor **a**.\n"
   ]
  },
  {
   "cell_type": "code",
   "execution_count": 4,
   "metadata": {},
   "outputs": [
    {
     "data": {
      "text/plain": [
       "<tf.Tensor: shape=(1,), dtype=int32, numpy=array([2], dtype=int32)>"
      ]
     },
     "execution_count": 4,
     "metadata": {},
     "output_type": "execute_result"
    }
   ],
   "source": [
    "a "
   ]
  },
  {
   "cell_type": "markdown",
   "metadata": {},
   "source": [
    "As you can see, it just shows the name, shape and type of the tensor in the graph. We will see it's value by running the TensorFlow code as shown below.\n"
   ]
  },
  {
   "cell_type": "code",
   "execution_count": 5,
   "metadata": {},
   "outputs": [
    {
     "name": "stdout",
     "output_type": "stream",
     "text": [
      "2\n"
     ]
    }
   ],
   "source": [
    "tf.print(a.numpy()[0])"
   ]
  },
  {
   "cell_type": "markdown",
   "metadata": {},
   "source": [
    "Annotating the python functions with **tf.function** uses TensorFlow Autograph to create a TensorFlow static execution graph for the function.   tf.function annotation tells TensorFlow Autograph to transform function *add* into TensorFlow control flow, which then defines the TensorFlow static execution graph.\n"
   ]
  },
  {
   "cell_type": "code",
   "execution_count": 6,
   "metadata": {},
   "outputs": [],
   "source": [
    "@tf.function\n",
    "def add(a,b):\n",
    "    c = tf.add(a, b)\n",
    "    #c = a + b is also a way to define the sum of the terms\n",
    "    print(c)\n",
    "    return c\n"
   ]
  },
  {
   "cell_type": "code",
   "execution_count": 7,
   "metadata": {},
   "outputs": [
    {
     "name": "stdout",
     "output_type": "stream",
     "text": [
      "Tensor(\"Add:0\", shape=(1,), dtype=int32)\n",
      "5\n"
     ]
    }
   ],
   "source": [
    "result = add(a,b)\n",
    "tf.print(result[0])"
   ]
  },
  {
   "cell_type": "markdown",
   "metadata": {},
   "source": [
    "Even this silly example of adding 2 constants to reach a simple result defines the basis of TensorFlow. Define your operations (In this case our constants and *tf.add*), define a Python function named *add* and decorate it with using the *tf.function* annotator.\n"
   ]
  },
  {
   "cell_type": "markdown",
   "metadata": {},
   "source": [
    "<h3>What is the meaning of Tensor?</h3>\n",
    "\n",
    "<div class=\"alert alert-success alertsuccess\" style=\"margin-top: 20px\">\n",
    "<font size = 3><strong>In TensorFlow all data is passed between operations in a computation graph, and these are passed in the form of Tensors, hence the name of TensorFlow.</strong></font>\n",
    "<br>\n",
    "<br>\n",
    "    The word <b>tensor</b> from new latin means \"that which stretches\". It is a mathematical object that is named \"tensor\" because an early application of tensors was the study of materials stretching under tension. The contemporary meaning of tensors can be taken as multidimensional arrays. \n",
    "\n",
    "</div>\n",
    "\n",
    "That's great, but... what are these multidimensional arrays?\n",
    "\n",
    "Going back a little bit to physics to understand the concept of dimensions:<br> <img src=\"https://ibm.box.com/shared/static/ymn0hl3hf8s3xb4k15v22y5vmuodnue1.svg\"/>\n",
    "\n",
    "<div style=\"text-align:center\"><a href=\"https://en.wikipedia.org/wiki/Dimension?utm_medium=Exinfluencer&utm_source=Exinfluencer&utm_content=000026UJ&utm_term=10006555&utm_id=NA-SkillsNetwork-Channel-SkillsNetworkCoursesIBMDeveloperSkillsNetworkDL0120ENSkillsNetwork20629446-2021-01-01\">Image Source</a></div>\n",
    "<br>\n",
    "\n",
    "The zero dimension can be seen as a point, a single object or a single item.\n",
    "\n",
    "The first dimension can be seen as a line, a one-dimensional array can be seen as numbers along this line, or as points along the line. One dimension can contain infinite zero dimension/points elements.\n",
    "\n",
    "The second dimension can be seen as a surface, a two-dimensional array can be seen as an infinite series of lines along an infinite line.\n",
    "\n",
    "The third dimension can be seen as volume, a three-dimensional array can be seen as an infinite series of surfaces along an infinite line.\n",
    "\n",
    "The Fourth dimension can be seen as the hyperspace or spacetime, a volume varying through time, or an infinite series of volumes along an infinite line. And so forth on...\n"
   ]
  },
  {
   "cell_type": "markdown",
   "metadata": {},
   "source": [
    "As mathematical objects: <br><br> <img src=\"https://ibm.box.com/shared/static/kmxz570uai8eeg6i6ynqdz6kmlx1m422.png\">\n",
    "\n",
    "<div style=\"text-align: center\"><a href=\"https://book.mql4.com/variables/arrays?utm_medium=Exinfluencer&utm_source=Exinfluencer&utm_content=000026UJ&utm_term=10006555&utm_id=NA-SkillsNetwork-Channel-SkillsNetworkCoursesIBMDeveloperSkillsNetworkDL0120ENSkillsNetwork20629446-2021-01-01\">Image Source</a></div>\n"
   ]
  },
  {
   "cell_type": "markdown",
   "metadata": {},
   "source": [
    "Summarizing:<br><br>\n",
    "\n",
    "<table style=\"width:100%\">\n",
    "  <tr>\n",
    "    <td><b>Dimension</b></td>\n",
    "    <td><b>Physical Representation</b></td> \n",
    "    <td><b>Mathematical Object</b></td>\n",
    "    <td><b>In Code</b></td>\n",
    "  </tr>\n",
    "\n",
    "  <tr>\n",
    "    <td>Zero </td>\n",
    "    <td>Point</td> \n",
    "    <td>Scalar (Single Number)</td>\n",
    "    <td>[ 1 ]</td>\n",
    "  </tr>\n",
    "\n",
    "  <tr>\n",
    "    <td>One</td>\n",
    "    <td>Line</td> \n",
    "    <td>Vector (Series of Numbers) </td>\n",
    "    <td>[ 1,2,3,4,... ]</td>\n",
    "  </tr>\n",
    "\n",
    "   <tr>\n",
    "    <td>Two</td>\n",
    "    <td>Surface</td> \n",
    "    <td>Matrix (Table of Numbers)</td>\n",
    "       <td>[ [1,2,3,4,...], [1,2,3,4,...], [1,2,3,4,...],... ]</td>\n",
    "  </tr>\n",
    "\n",
    "   <tr>\n",
    "    <td>Three</td>\n",
    "    <td>Volume</td> \n",
    "    <td>Tensor (Cube of Numbers)</td>\n",
    "    <td>[ [[1,2,...], [1,2,...], [1,2,...],...], [[1,2,...], [1,2,...], [1,2,...],...], [[1,2,...], [1,2,...], [1,2,...] ,...]... ]</td>\n",
    "  </tr>\n",
    "\n",
    "</table>\n"
   ]
  },
  {
   "cell_type": "markdown",
   "metadata": {},
   "source": [
    "***\n"
   ]
  },
  {
   "cell_type": "markdown",
   "metadata": {},
   "source": [
    "<a id=\"ref4\"></a>\n",
    "\n",
    "<h2>Defining multidimensional arrays using TensorFlow</h2>\n",
    "Now we will try to define such arrays using TensorFlow:\n"
   ]
  },
  {
   "cell_type": "code",
   "execution_count": 8,
   "metadata": {},
   "outputs": [
    {
     "name": "stdout",
     "output_type": "stream",
     "text": [
      "Scalar (1 entry):\n",
      " tf.Tensor(2, shape=(), dtype=int32) \n",
      "\n",
      "Vector (3 entries) :\n",
      " tf.Tensor([5 6 2], shape=(3,), dtype=int32) \n",
      "\n",
      "Matrix (3x3 entries):\n",
      " tf.Tensor(\n",
      "[[1 2 3]\n",
      " [2 3 4]\n",
      " [3 4 5]], shape=(3, 3), dtype=int32) \n",
      "\n",
      "Tensor (3x3x3 entries) :\n",
      " tf.Tensor(\n",
      "[[[ 1  2  3]\n",
      "  [ 2  3  4]\n",
      "  [ 3  4  5]]\n",
      "\n",
      " [[ 4  5  6]\n",
      "  [ 5  6  7]\n",
      "  [ 6  7  8]]\n",
      "\n",
      " [[ 7  8  9]\n",
      "  [ 8  9 10]\n",
      "  [ 9 10 11]]], shape=(3, 3, 3), dtype=int32) \n",
      "\n"
     ]
    }
   ],
   "source": [
    "\n",
    "Scalar = tf.constant(2)\n",
    "Vector = tf.constant([5,6,2])\n",
    "Matrix = tf.constant([[1,2,3],[2,3,4],[3,4,5]])\n",
    "Tensor = tf.constant( [ [[1,2,3],[2,3,4],[3,4,5]] , [[4,5,6],[5,6,7],[6,7,8]] , [[7,8,9],[8,9,10],[9,10,11]] ] )\n",
    "\n",
    "print (\"Scalar (1 entry):\\n %s \\n\" % Scalar)\n",
    "\n",
    "print (\"Vector (3 entries) :\\n %s \\n\" % Vector)\n",
    "\n",
    "print (\"Matrix (3x3 entries):\\n %s \\n\" % Matrix)\n",
    "\n",
    "print (\"Tensor (3x3x3 entries) :\\n %s \\n\" % Tensor)"
   ]
  },
  {
   "cell_type": "markdown",
   "metadata": {},
   "source": [
    "<b>tf.shape</b> returns the shape of our data structure.\n"
   ]
  },
  {
   "cell_type": "code",
   "execution_count": 9,
   "metadata": {},
   "outputs": [
    {
     "data": {
      "text/plain": [
       "TensorShape([])"
      ]
     },
     "execution_count": 9,
     "metadata": {},
     "output_type": "execute_result"
    }
   ],
   "source": [
    "Scalar.shape"
   ]
  },
  {
   "cell_type": "code",
   "execution_count": 10,
   "metadata": {},
   "outputs": [
    {
     "data": {
      "text/plain": [
       "TensorShape([3, 3, 3])"
      ]
     },
     "execution_count": 10,
     "metadata": {},
     "output_type": "execute_result"
    }
   ],
   "source": [
    "Tensor.shape"
   ]
  },
  {
   "cell_type": "markdown",
   "metadata": {},
   "source": [
    "Now that you understand these data structures, I encourage you to play with them using some previous functions to see how they will behave, according to their structure types:\n"
   ]
  },
  {
   "cell_type": "code",
   "execution_count": 11,
   "metadata": {},
   "outputs": [
    {
     "name": "stdout",
     "output_type": "stream",
     "text": [
      "Defined using tensorflow function :\n",
      "tf.Tensor(\n",
      "[[3 4 5]\n",
      " [4 5 6]\n",
      " [5 6 7]], shape=(3, 3), dtype=int32)\n",
      "Defined using normal expressions :\n",
      "tf.Tensor(\n",
      "[[3 4 5]\n",
      " [4 5 6]\n",
      " [5 6 7]], shape=(3, 3), dtype=int32)\n"
     ]
    }
   ],
   "source": [
    "\n",
    "Matrix_one = tf.constant([[1,2,3],[2,3,4],[3,4,5]])\n",
    "Matrix_two = tf.constant([[2,2,2],[2,2,2],[2,2,2]])\n",
    "\n",
    "@tf.function\n",
    "def add():\n",
    "    add_1_operation = tf.add(Matrix_one, Matrix_two)\n",
    "    return add_1_operation\n",
    "\n",
    "\n",
    "\n",
    "print (\"Defined using tensorflow function :\")\n",
    "add_1_operation = add()\n",
    "print(add_1_operation)\n",
    "print (\"Defined using normal expressions :\")\n",
    "add_2_operation = Matrix_one + Matrix_two\n",
    "print(add_2_operation)"
   ]
  },
  {
   "cell_type": "markdown",
   "metadata": {},
   "source": [
    "With the regular symbol definition and also the TensorFlow function we were able to get an element-wise multiplication, also known as Hadamard product. <br>\n",
    "\n",
    "But what if we want the regular matrix product?\n",
    "\n",
    "We then need to use another TensorFlow function called <b>tf.matmul()<b>:\n"
   ]
  },
  {
   "cell_type": "code",
   "execution_count": 12,
   "metadata": {},
   "outputs": [
    {
     "name": "stdout",
     "output_type": "stream",
     "text": [
      "Defined using tensorflow function :\n",
      "tf.Tensor(\n",
      "[[13 18]\n",
      " [18 25]], shape=(2, 2), dtype=int32)\n"
     ]
    }
   ],
   "source": [
    "\n",
    "Matrix_one = tf.constant([[2,3],[3,4]])\n",
    "Matrix_two = tf.constant([[2,3],[3,4]])\n",
    "\n",
    "@tf.function\n",
    "def mathmul():\n",
    "  return tf.matmul(Matrix_one, Matrix_two)\n",
    "\n",
    "\n",
    "mul_operation = mathmul()\n",
    "\n",
    "print (\"Defined using tensorflow function :\")\n",
    "print(mul_operation)\n",
    "\n"
   ]
  },
  {
   "cell_type": "markdown",
   "metadata": {},
   "source": [
    "We could also define this multiplication ourselves, but there is a function that already does that, so no need to reinvent the wheel!\n"
   ]
  },
  {
   "cell_type": "markdown",
   "metadata": {},
   "source": [
    "***\n"
   ]
  },
  {
   "cell_type": "markdown",
   "metadata": {},
   "source": [
    "<a id=\"ref5\"></a>\n",
    "\n",
    "<h2>Why Tensors?</h2>\n",
    "\n",
    "The Tensor structure helps us by giving the freedom to shape the dataset in the way we want.\n",
    "\n",
    "And it is particularly helpful when dealing with images, due to the nature of how information in images are encoded,\n",
    "\n",
    "Thinking about images, its easy to understand that it has a height and width, so it would make sense to represent the information contained in it with a two dimensional structure (a matrix)... until you remember that images have colors, and to add information about the colors, we need another dimension, and thats when Tensors become particularly helpful.\n",
    "\n",
    "Images are encoded into color channels, the image data is represented into each color intensity in a color channel at a given point, the most common one being RGB, which means Red, Blue and Green. The information contained into an image is the intensity of each channel color into the width and height of the image, just like this:\n",
    "\n",
    "<img src='https://ibm.box.com/shared/static/xlpv9h5xws248c09k1rlx7cer69y4grh.png'>\n",
    "<a href=\"https://msdn.microsoft.com/en-us/library/windows/desktop/dn424131.aspx?utm_medium=Exinfluencer&utm_source=Exinfluencer&utm_content=000026UJ&utm_term=10006555&utm_id=NA-SkillsNetwork-Channel-SkillsNetworkCoursesIBMDeveloperSkillsNetworkDL0120ENSkillsNetwork20629446-2021-01-01\">Image Source</a>\n",
    "\n",
    "So the intensity of the red channel at each point with width and height can be represented into a matrix, the same goes for the blue and green channels, so we end up having three matrices, and when these are combined they form a tensor.\n"
   ]
  },
  {
   "cell_type": "markdown",
   "metadata": {},
   "source": [
    "***\n"
   ]
  },
  {
   "cell_type": "markdown",
   "metadata": {},
   "source": [
    "<a id=\"ref6\"></a>\n",
    "\n",
    "# Variables\n",
    "\n",
    "Now that we are more familiar with the structure of data, we will take a look at how TensorFlow handles variables. <b>First of all, having tensors, why do we need variables?</b>\\\n",
    "TensorFlow variables are used to share and persist some stats that are manipulated by our program. That is, when you define a variable, TensorFlow adds a <b>tf.Operation</b> to your graph. Then, this operation will store a writable tensor value. So, you can update the value of a variable through each run.\n"
   ]
  },
  {
   "cell_type": "markdown",
   "metadata": {},
   "source": [
    "Let's first create a simple counter, by first initializing a variable *v* that will be increased one unit at a time:\n"
   ]
  },
  {
   "cell_type": "code",
   "execution_count": 13,
   "metadata": {},
   "outputs": [],
   "source": [
    "v = tf.Variable(0)"
   ]
  },
  {
   "cell_type": "markdown",
   "metadata": {},
   "source": [
    "We now create a python method *increment_by_one*. This method will internally call *td.add* that takes in two arguments, the <b>reference_variable</b> to update, and assign it to the <b>value_to_update</b> it by.\n"
   ]
  },
  {
   "cell_type": "code",
   "execution_count": 14,
   "metadata": {},
   "outputs": [],
   "source": [
    "@tf.function\n",
    "def increment_by_one(v):\n",
    "        v = tf.add(v,1)\n",
    "        return v"
   ]
  },
  {
   "cell_type": "markdown",
   "metadata": {},
   "source": [
    "To update the value of the variable *v*, we simply call the *increment_by_one* method and pass the variable to it. We will invoke this method thrice. This method will increment the variable by one and print the updated value each time.\n"
   ]
  },
  {
   "cell_type": "code",
   "execution_count": 15,
   "metadata": {},
   "outputs": [
    {
     "name": "stdout",
     "output_type": "stream",
     "text": [
      "tf.Tensor(1, shape=(), dtype=int32)\n",
      "tf.Tensor(2, shape=(), dtype=int32)\n",
      "tf.Tensor(3, shape=(), dtype=int32)\n"
     ]
    }
   ],
   "source": [
    "for i in range(3):\n",
    "    v = increment_by_one(v)\n",
    "    print(v)"
   ]
  },
  {
   "cell_type": "markdown",
   "metadata": {},
   "source": [
    "***\n"
   ]
  },
  {
   "cell_type": "markdown",
   "metadata": {},
   "source": [
    "<a id=\"ref7\"></a>\n",
    "\n",
    "<h2>Operations</h2>\n",
    "\n",
    "Operations are nodes that represent the mathematical operations over the tensors on a graph. These operations can be any kind of functions, like add and subtract tensor or maybe an activation function.\n",
    "\n",
    "<b>tf.constant</b>, <b>tf.matmul</b>, <b>tf.add</b>, <b>tf.nn.sigmoid</b> are some of the operations in TensorFlow. These are like functions in python but operate directly over tensors and each one does a specific thing.\n",
    "\n",
    "<div class=\"alert alert-success alertsuccess\" style=\"margin-top: 20px\">Other operations can be easily found in: <a href=\"https://www.tensorflow.org/versions/r0.9/api_docs/python/index.html?utm_medium=Exinfluencer&utm_source=Exinfluencer&utm_content=000026UJ&utm_term=10006555&utm_id=NA-SkillsNetwork-Channel-SkillsNetworkCoursesIBMDeveloperSkillsNetworkDL0120ENSkillsNetwork20629446-2021-01-01\">https://www.tensorflow.org/versions/r0.9/api_docs/python/index.html</a></div>\n"
   ]
  },
  {
   "cell_type": "code",
   "execution_count": 16,
   "metadata": {},
   "outputs": [
    {
     "name": "stdout",
     "output_type": "stream",
     "text": [
      "c =: tf.Tensor([7], shape=(1,), dtype=int32)\n",
      "d =: tf.Tensor([3], shape=(1,), dtype=int32)\n"
     ]
    }
   ],
   "source": [
    "a = tf.constant([5])\n",
    "b = tf.constant([2])\n",
    "c = tf.add(a,b)\n",
    "d = tf.subtract(a,b)\n",
    "\n",
    "\n",
    "print ('c =: %s' % c)\n",
    "    \n",
    "print ('d =: %s' % d)"
   ]
  },
  {
   "cell_type": "markdown",
   "metadata": {},
   "source": [
    "<b>tf.nn.sigmoid</b> is an activation function, it's a little more complicated, but this function helps learning models to evaluate what kind of information is good or not.\n"
   ]
  },
  {
   "cell_type": "markdown",
   "metadata": {},
   "source": [
    "***\n"
   ]
  },
  {
   "cell_type": "markdown",
   "metadata": {},
   "source": [
    "## Want to learn more?\n",
    "\n",
    "Also, you can use **Watson Studio** to run these notebooks faster with bigger datasets.**Watson Studio** is IBM’s leading cloud solution for data scientists, built by data scientists. With Jupyter notebooks, RStudio, Apache Spark and popular libraries pre-packaged in the cloud, **Watson Studio** enables data scientists to collaborate on their projects without having to install anything. Join the fast-growing community of **Watson Studio** users today with a free account at [Watson Studio](https://cocl.us/ML0120EN_DSX).This is the end of this lesson. Thank you for reading this notebook, and good luck on your studies.\n"
   ]
  },
  {
   "cell_type": "markdown",
   "metadata": {},
   "source": [
    "### Thanks for completing this lesson!\n",
    "\n",
    "Notebook created by: <a href=\"https://linkedin.com/in/romeo-kienzler-089b4557?utm_medium=Exinfluencer&utm_source=Exinfluencer&utm_content=000026UJ&utm_term=10006555&utm_id=NA-SkillsNetwork-Channel-SkillsNetworkCoursesIBMDeveloperSkillsNetworkDL0120ENSkillsNetwork20629446-2021-01-01\"> Romeo Kienzler </a>, <a href=\"https://linkedin.com/in/saeedaghabozorgi?utm_medium=Exinfluencer&utm_source=Exinfluencer&utm_content=000026UJ&utm_term=10006555&utm_id=NA-SkillsNetwork-Channel-SkillsNetworkCoursesIBMDeveloperSkillsNetworkDL0120ENSkillsNetwork20629446-2021-01-01\"> Saeed Aghabozorgi </a> and <a href=\"https://ca.linkedin.com/in/rafaelblsilva?utm_medium=Exinfluencer&utm_source=Exinfluencer&utm_content=000026UJ&utm_term=10006555&utm_id=NA-SkillsNetwork-Channel-SkillsNetworkCoursesIBMDeveloperSkillsNetworkDL0120ENSkillsNetwork20629446-2021-01-01\"> Rafael Belo Da Silva </a>\n",
    "\n",
    "Updated to TF 2.X by  <a href=\"https://www.linkedin.com/in/samaya-madhavan?utm_medium=Exinfluencer&utm_source=Exinfluencer&utm_content=000026UJ&utm_term=10006555&utm_id=NA-SkillsNetwork-Channel-SkillsNetworkCoursesIBMDeveloperSkillsNetworkDL0120ENSkillsNetwork20629446-2021-01-01\"> Samaya Madhavan </a>\n"
   ]
  },
  {
   "cell_type": "markdown",
   "metadata": {},
   "source": [
    "### References:\n"
   ]
  },
  {
   "cell_type": "markdown",
   "metadata": {},
   "source": [
    "## Change Log\n",
    "\n",
    "| Date (YYYY-MM-DD) | Version | Changed By | Change Description                                          |\n",
    "| ----------------- | ------- | ---------- | ----------------------------------------------------------- |\n",
    "| 2020-09-21        | 2.0     | Srishti    | Migrated Lab to Markdown and added to course repo in GitLab |\n",
    "\n",
    "<hr>\n",
    "\n",
    "## <h3 align=\"center\"> © IBM Corporation 2020. All rights reserved. <h3/>\n"
   ]
  },
  {
   "cell_type": "markdown",
   "metadata": {},
   "source": [
    "[https://www.tensorflow.org/versions/r0.9/get_started/index.html](https://www.tensorflow.org/versions/r0.9/get_started/index.html?utm_medium=Exinfluencer&utm_source=Exinfluencer&utm_content=000026UJ&utm_term=10006555&utm_id=NA-SkillsNetwork-Channel-SkillsNetworkCoursesIBMDeveloperSkillsNetworkDL0120ENSkillsNetwork20629446-2021-01-01&cm_mmc=Email_Newsletter-\\_-Developer_Ed%2BTech-\\_-WW_WW-\\_-SkillsNetwork-Courses-IBMDeveloperSkillsNetwork-DL0120EN-SkillsNetwork-20629446&cm_mmca1=000026UJ&cm_mmca2=10006555&cm_mmca3=M12345678&cvosrc=email.Newsletter.M12345678&cvo_campaign=000026UJ)<br>\n",
    "[http://jrmeyer.github.io/tutorial/2016/02/01/TensorFlow-Tutorial.html](http://jrmeyer.github.io/tutorial/2016/02/01/TensorFlow-Tutorial.html?utm_medium=Exinfluencer&utm_source=Exinfluencer&utm_content=000026UJ&utm_term=10006555&utm_id=NA-SkillsNetwork-Channel-SkillsNetworkCoursesIBMDeveloperSkillsNetworkDL0120ENSkillsNetwork20629446-2021-01-01&cm_mmc=Email_Newsletter-\\_-Developer_Ed%2BTech-\\_-WW_WW-\\_-SkillsNetwork-Courses-IBMDeveloperSkillsNetwork-DL0120EN-SkillsNetwork-20629446&cm_mmca1=000026UJ&cm_mmca2=10006555&cm_mmca3=M12345678&cvosrc=email.Newsletter.M12345678&cvo_campaign=000026UJ)<br>\n",
    "[https://www.tensorflow.org/versions/r0.9/api_docs/python/index.html](https://www.tensorflow.org/versions/r0.9/api_docs/python/index.html?utm_medium=Exinfluencer&utm_source=Exinfluencer&utm_content=000026UJ&utm_term=10006555&utm_id=NA-SkillsNetwork-Channel-SkillsNetworkCoursesIBMDeveloperSkillsNetworkDL0120ENSkillsNetwork20629446-2021-01-01&cm_mmc=Email_Newsletter-\\_-Developer_Ed%2BTech-\\_-WW_WW-\\_-SkillsNetwork-Courses-IBMDeveloperSkillsNetwork-DL0120EN-SkillsNetwork-20629446&cm_mmca1=000026UJ&cm_mmca2=10006555&cm_mmca3=M12345678&cvosrc=email.Newsletter.M12345678&cvo_campaign=000026UJ)<br> <a href=\"https://www.tensorflow.org/api_docs/python/?utm_medium=Exinfluencer&utm_source=Exinfluencer&utm_content=000026UJ&utm_term=10006555&utm_id=NA-SkillsNetwork-Channel-SkillsNetworkCoursesIBMDeveloperSkillsNetworkDL0120ENSkillsNetwork20629446-2021-01-01\">[https://www.tensorflow.org/versions/r0.9/resources/dims_types.html](https://www.tensorflow.org/versions/r0.9/resources/dims_types.html?utm_medium=Exinfluencer&utm_source=Exinfluencer&utm_content=000026UJ&utm_term=10006555&utm_id=NA-SkillsNetwork-Channel-SkillsNetworkCoursesIBMDeveloperSkillsNetworkDL0120ENSkillsNetwork20629446-2021-01-01)</a><br>\n",
    "[https://en.wikipedia.org/wiki/Dimension](https://en.wikipedia.org/wiki/Dimension?utm_medium=Exinfluencer&utm_source=Exinfluencer&utm_content=000026UJ&utm_term=10006555&utm_id=NA-SkillsNetwork-Channel-SkillsNetworkCoursesIBMDeveloperSkillsNetworkDL0120ENSkillsNetwork20629446-2021-01-01&cm_mmc=Email_Newsletter-\\_-Developer_Ed%2BTech-\\_-WW_WW-\\_-SkillsNetwork-Courses-IBMDeveloperSkillsNetwork-DL0120EN-SkillsNetwork-20629446&cm_mmca1=000026UJ&cm_mmca2=10006555&cm_mmca3=M12345678&cvosrc=email.Newsletter.M12345678&cvo_campaign=000026UJ)<br>\n",
    "[https://book.mql4.com/variables/arrays](https://book.mql4.com/variables/arrays?utm_medium=Exinfluencer&utm_source=Exinfluencer&utm_content=000026UJ&utm_term=10006555&utm_id=NA-SkillsNetwork-Channel-SkillsNetworkCoursesIBMDeveloperSkillsNetworkDL0120ENSkillsNetwork20629446-2021-01-01&cm_mmc=Email_Newsletter-\\_-Developer_Ed%2BTech-\\_-WW_WW-\\_-SkillsNetwork-Courses-IBMDeveloperSkillsNetwork-DL0120EN-SkillsNetwork-20629446&cm_mmca1=000026UJ&cm_mmca2=10006555&cm_mmca3=M12345678&cvosrc=email.Newsletter.M12345678&cvo_campaign=000026UJ)<br>\n",
    "[https://msdn.microsoft.com/en-us/library/windows/desktop/dn424131(v=vs.85).aspx](https://msdn.microsoft.com/en-us/library/windows/desktop/dn424131\\(v=vs.85\\).aspx?utm_medium=Exinfluencer&utm_source=Exinfluencer&utm_content=000026UJ&utm_term=10006555&utm_id=NA-SkillsNetwork-Channel-SkillsNetworkCoursesIBMDeveloperSkillsNetworkDL0120ENSkillsNetwork20629446-2021-01-01&cm_mmc=Email_Newsletter-\\_-Developer_Ed%2BTech-\\_-WW_WW-\\_-SkillsNetwork-Courses-IBMDeveloperSkillsNetwork-DL0120EN-SkillsNetwork-20629446&cm_mmca1=000026UJ&cm_mmca2=10006555&cm_mmca3=M12345678&cvosrc=email.Newsletter.M12345678&cvo_campaign=000026UJ)<br>\n"
   ]
  },
  {
   "cell_type": "markdown",
   "metadata": {},
   "source": [
    "<hr>\n",
    "\n",
    "Copyright © 2018 [Cognitive Class](https://cocl.us/DX0108EN_CC). This notebook and its source code are released under the terms of the [MIT License](https://bigdatauniversity.com/mit-license?utm_medium=Exinfluencer&utm_source=Exinfluencer&utm_content=000026UJ&utm_term=10006555&utm_id=NA-SkillsNetwork-Channel-SkillsNetworkCoursesIBMDeveloperSkillsNetworkDL0120ENSkillsNetwork20629446-2021-01-01&cm_mmc=Email_Newsletter-\\_-Developer_Ed%2BTech-\\_-WW_WW-\\_-SkillsNetwork-Courses-IBMDeveloperSkillsNetwork-DL0120EN-SkillsNetwork-20629446&cm_mmca1=000026UJ&cm_mmca2=10006555&cm_mmca3=M12345678&cvosrc=email.Newsletter.M12345678&cvo_campaign=000026UJ).\n"
   ]
  }
 ],
 "metadata": {
  "kernelspec": {
   "display_name": "Python",
   "language": "python",
   "name": "conda-env-python-py"
  },
  "language_info": {
   "codemirror_mode": {
    "name": "ipython",
    "version": 3
   },
   "file_extension": ".py",
   "mimetype": "text/x-python",
   "name": "python",
   "nbconvert_exporter": "python",
   "pygments_lexer": "ipython3",
   "version": "3.7.10"
  },
  "widgets": {
   "state": {},
   "version": "1.1.2"
  }
 },
 "nbformat": 4,
 "nbformat_minor": 4
}
